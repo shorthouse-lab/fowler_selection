{
 "cells": [
  {
   "cell_type": "code",
   "execution_count": 8,
   "id": "90d08481",
   "metadata": {},
   "outputs": [],
   "source": [
    "from darwinian_shift import DarwinianShift\n",
    "from darwinian_shift import BinomTest\n",
    "\n",
    "from darwinian_shift import MonteCarloTest\n",
    "from darwinian_shift import CDFMonteCarloTest\n",
    "import numpy as np\n",
    "\n",
    "import matplotlib.pyplot as plt\n",
    "import matplotlib\n",
    "import seaborn as sns\n",
    "\n",
    "import pandas as pd"
   ]
  },
  {
   "cell_type": "code",
   "execution_count": 2,
   "id": "c1247d81",
   "metadata": {},
   "outputs": [],
   "source": [
    "def plot_boxplot2(self, spectra=None, plot_scale=None, show_plot=False, colours=None,\n",
    "                     figsize=(5, 5), return_fig=False, ax=None):\n",
    "        \"\"\"\n",
    "        Boxplot of the expected and observed distributions of mutation scores.\n",
    "        :param spectra: The mutational spectrum or list of mutational spectra to use.\n",
    "        :param plot_scale:  Scale for the y-axis (mutation scores). Passed to matplotlib. 'log', 'symlog' etc.\n",
    "        :param show_plot: If True, will call plt.show().\n",
    "        :param colours: List of colours. First colour is for the observed data, the subsequent colours are\n",
    "        for plotting the null distributions from each of the mutational spectra given.\n",
    "        :param figsize: Size of the figure.\n",
    "        :param return_fig: If True, will return the figure. Used for testing.\n",
    "        :param ax: Matplotlib axis to plot on. If None, will create a new figure.\n",
    "        :return: By default, None. If return_fig=True, will return the figure.\n",
    "        \"\"\"\n",
    "#        if ax is None:\n",
    "#            fig, ax = plt.subplots(figsize=figsize)\n",
    "#        else:\n",
    "#            fig = ax.figure\n",
    "\n",
    "        spectra = self._get_spectra(spectra)\n",
    "\n",
    "        colours = self._get_plot_colours(colours, len(spectra)+1)\n",
    "        data = [get_distribution_from_mutational_spectrum(self.null_scores,\n",
    "                                                          self.null_mutations[spectrum.rate_column])\n",
    "                for spectrum in spectra]\n",
    "        data.append(self.observed_values)\n",
    "        \n",
    "        return(data)\n",
    "    \n",
    "    \n",
    "def get_distribution_from_mutational_spectrum(values, mut_rates, num=1000000):\n",
    "    mut_rates = np.array(mut_rates)\n",
    "    weights = mut_rates / mut_rates.sum()\n",
    "    dist = np.repeat(values, np.random.multinomial(num, weights))\n",
    "    return dist"
   ]
  },
  {
   "cell_type": "code",
   "execution_count": 3,
   "id": "e0897cad",
   "metadata": {},
   "outputs": [],
   "source": [
    "d_cross = DarwinianShift(\n",
    "    data = pd.read_csv(\"../CROSS_mutations.csv\"),\n",
    "    source_genome = \"GRCh37\",\n",
    "    included_mutation_types = \"missense\")\n",
    "\n",
    "d_flot = DarwinianShift(\n",
    "    data = pd.read_csv(\"../FLOT_mutations.csv\"),\n",
    "    source_genome = \"GRCh37\",\n",
    "    included_mutation_types = \"missense\")\n",
    "\n",
    "d_nt = DarwinianShift(\n",
    "    data = pd.read_csv(\"../NT_mutations.csv\"),\n",
    "    source_genome = \"GRCh37\",\n",
    "    included_mutation_types = \"missense\")"
   ]
  },
  {
   "cell_type": "markdown",
   "id": "4e1fb2e2",
   "metadata": {},
   "source": [
    "## GoF Mutation Overlap"
   ]
  },
  {
   "cell_type": "code",
   "execution_count": 6,
   "id": "cf0f921d",
   "metadata": {},
   "outputs": [],
   "source": [
    "## Taken from Grabiner et al, Xu et al, Kim et al\n",
    "## Grabiner: https://doi.org:10.1158/2159-8290.Cd-13-0929\n",
    "## Xu: https://doi.org:10.1172/JCI86120\n",
    "## Kim: https://doi.org:10.1038/s41467-020-16115-w\n",
    "MTOR_GOF_mutations = [  \n",
    "\"A1459P\",\"A1519T\",\"A2210P\",\"A2226S\",\"C1483F\",\"C1483R\",\"C1483W\",\"C1483Y\",\"D2512H\",\"E1799K\",\"F1888I\",\"F1888L\",\"F1888V\",\n",
    "\"I1973F\",\"I2500F\",\"I2500M\",\"L1433S\",\"L1460P\",\"L2209V\",\"L2216P\",\"L2220F\",\"L2230V\",\"L2431P\",\"M2327I\",\"N2206S\",\n",
    "\"P2229R\",\"Q2223K\",\"R2217W\",\"R2505P\",\"S2215F\",\"S2215P\",\"S2215Y\",\"T1977K\",\"T1977R\",\"V2006I\",\"V2006L\"] "
   ]
  },
  {
   "cell_type": "code",
   "execution_count": 12,
   "id": "231d87f7",
   "metadata": {},
   "outputs": [],
   "source": [
    "MTOR_gene = {\n",
    "    'gene': 'MTOR',\n",
    "    'pdb_id': '6BCX', \n",
    "    'pdb_chain': 'A'\n",
    "}\n",
    "\n",
    "from darwinian_shift import VariantMatchLookup\n",
    "\n",
    "vm_lookup = VariantMatchLookup(match_column='aachange', target_key=\"match_list\")"
   ]
  },
  {
   "cell_type": "markdown",
   "id": "9d3136e7",
   "metadata": {},
   "source": [
    "### CROSS"
   ]
  },
  {
   "cell_type": "code",
   "execution_count": 11,
   "id": "76b80c59",
   "metadata": {},
   "outputs": [
    {
     "data": {
      "text/plain": [
       "{'gene': 'MTOR',\n",
       " 'transcript_id': 'ENST00000361445',\n",
       " 'chrom': '1',\n",
       " 'section_id': 'ENST00000361445',\n",
       " 'num_mutations': 46,\n",
       " 'observed_median': 0.0,\n",
       " 'observed_mean': 0.08695652173913043,\n",
       " 'expected_median_glob_k3': 0.0,\n",
       " 'median_shift_glob_k3': 0.0,\n",
       " 'expected_mean_glob_k3': 0.00317360054403144,\n",
       " 'mean_shift_glob_k3': 0.08378292119509899,\n",
       " 'binom_glob_k3_pvalue': 1.4880651935186692e-05,\n",
       " 'binom_glob_k3_expected_proportion': 0.0031736005440314396,\n",
       " 'binom_glob_k3_observed_proportion': 0.08695652173913043,\n",
       " 'binom_glob_k3_expected_count': 0.14598562502544624,\n",
       " 'binom_glob_k3_observed_count': 4,\n",
       " 'binom_glob_k3_threshold': 0.5,\n",
       " 'binom_glob_k3_expected_CI_high': 1.0,\n",
       " 'binom_glob_k3_expected_CI_low': 0.0,\n",
       " 'binom_glob_k3_observed_CI_low': 1.0,\n",
       " 'binom_glob_k3_observed_CI_high': 8.0}"
      ]
     },
     "execution_count": 11,
     "metadata": {},
     "output_type": "execute_result"
    }
   ],
   "source": [
    "v_cross = d_cross.run_section({\n",
    "        'gene': 'MTOR',\n",
    "        'lookup': vm_lookup,\n",
    "        'match_list': MTOR_GOF_mutations}\n",
    "        ,statistics=BinomTest()\n",
    "        )\n",
    "\n",
    "v_cross.get_results_dictionary()"
   ]
  },
  {
   "cell_type": "markdown",
   "id": "66d81aa0",
   "metadata": {},
   "source": [
    "### FLOT"
   ]
  },
  {
   "cell_type": "code",
   "execution_count": 13,
   "id": "922fbabd",
   "metadata": {},
   "outputs": [
    {
     "data": {
      "text/plain": [
       "{'gene': 'MTOR',\n",
       " 'transcript_id': 'ENST00000361445',\n",
       " 'chrom': '1',\n",
       " 'section_id': 'ENST00000361445',\n",
       " 'num_mutations': 50,\n",
       " 'observed_median': 0.0,\n",
       " 'observed_mean': 0.24,\n",
       " 'expected_median_glob_k3': 0.0,\n",
       " 'median_shift_glob_k3': 0.0,\n",
       " 'expected_mean_glob_k3': 0.003189597528882756,\n",
       " 'mean_shift_glob_k3': 0.23681040247111723,\n",
       " 'binom_glob_k3_pvalue': 1.203380310073869e-19,\n",
       " 'binom_glob_k3_expected_proportion': 0.003189597528882756,\n",
       " 'binom_glob_k3_observed_proportion': 0.24,\n",
       " 'binom_glob_k3_expected_count': 0.1594798764441378,\n",
       " 'binom_glob_k3_observed_count': 12,\n",
       " 'binom_glob_k3_threshold': 0.5,\n",
       " 'binom_glob_k3_expected_CI_high': 1.0,\n",
       " 'binom_glob_k3_expected_CI_low': 0.0,\n",
       " 'binom_glob_k3_observed_CI_low': 6.0,\n",
       " 'binom_glob_k3_observed_CI_high': 18.0}"
      ]
     },
     "execution_count": 13,
     "metadata": {},
     "output_type": "execute_result"
    }
   ],
   "source": [
    "v_flot = d_flot.run_section({\n",
    "        'gene': 'MTOR',\n",
    "        'lookup': vm_lookup,\n",
    "        'match_list': MTOR_GOF_mutations}\n",
    "        ,statistics=BinomTest()\n",
    "        )\n",
    "\n",
    "v_flot.get_results_dictionary()"
   ]
  },
  {
   "cell_type": "markdown",
   "id": "dbc81e23",
   "metadata": {},
   "source": [
    "### NT"
   ]
  },
  {
   "cell_type": "code",
   "execution_count": 16,
   "id": "0f8d9d37",
   "metadata": {},
   "outputs": [
    {
     "data": {
      "text/plain": [
       "{'gene': 'MTOR',\n",
       " 'transcript_id': 'ENST00000361445',\n",
       " 'chrom': '1',\n",
       " 'section_id': 'ENST00000361445',\n",
       " 'num_mutations': 46,\n",
       " 'observed_median': 0.0,\n",
       " 'observed_mean': 0.08695652173913043,\n",
       " 'expected_median_glob_k3': 0.0,\n",
       " 'median_shift_glob_k3': 0.0,\n",
       " 'expected_mean_glob_k3': 0.00317360054403144,\n",
       " 'mean_shift_glob_k3': 0.08378292119509899,\n",
       " 'binom_glob_k3_pvalue': 1.4880651935186692e-05,\n",
       " 'binom_glob_k3_expected_proportion': 0.0031736005440314396,\n",
       " 'binom_glob_k3_observed_proportion': 0.08695652173913043,\n",
       " 'binom_glob_k3_expected_count': 0.14598562502544624,\n",
       " 'binom_glob_k3_observed_count': 4,\n",
       " 'binom_glob_k3_threshold': 0.5,\n",
       " 'binom_glob_k3_expected_CI_high': 1.0,\n",
       " 'binom_glob_k3_expected_CI_low': 0.0,\n",
       " 'binom_glob_k3_observed_CI_low': 1.0,\n",
       " 'binom_glob_k3_observed_CI_high': 8.0}"
      ]
     },
     "execution_count": 16,
     "metadata": {},
     "output_type": "execute_result"
    }
   ],
   "source": [
    "v_nt = d_cross.run_section({\n",
    "        'gene': 'MTOR',\n",
    "        'lookup': vm_lookup,\n",
    "        'match_list': MTOR_GOF_mutations}\n",
    "        ,statistics=BinomTest()\n",
    "        )\n",
    "\n",
    "v_nt.get_results_dictionary()"
   ]
  },
  {
   "cell_type": "markdown",
   "id": "3c4aff64",
   "metadata": {},
   "source": [
    "### Plotting"
   ]
  },
  {
   "cell_type": "code",
   "execution_count": 17,
   "id": "baa82671",
   "metadata": {},
   "outputs": [
    {
     "name": "stderr",
     "output_type": "stream",
     "text": [
      "/var/folders/d9/4lyh6rdd5mdbxby_y5lwsy180000gn/T/ipykernel_97716/2019697845.py:9: UserWarning: FixedFormatter should only be used together with FixedLocator\n",
      "  g.set_yticklabels([0,5,10,15,20,25], size = 16)\n"
     ]
    },
    {
     "data": {
      "image/png": "[encoded data removed]",
      "text/plain": [
       "<Figure size 640x480 with 1 Axes>"
      ]
     },
     "metadata": {},
     "output_type": "display_data"
    }
   ],
   "source": [
    "fig, ax = plt.subplots()\n",
    "sample = [0,1,2]\n",
    "\n",
    "ratio = [4/46, 12/50, 4/26]\n",
    "\n",
    "\n",
    "g = sns.barplot(x = sample, y = ratio, palette= [\"k\", \"#E0995E\", \"#668AB8\"], ax = ax)\n",
    "g.set_xticklabels([\"CROSS\", \"FLOT\", \"NT\"], size = 16)\n",
    "g.set_yticklabels([0,5,10,15,20,25], size = 16)\n",
    "g.set_ylabel(\"Known Gain of Function Mutations (%)\", size = 16)\n",
    "\n",
    "#ax.tick_params(direction='out', length=6, width=2, colors='#8F9191',\n",
    "#               labelcolor = \"k\")\n",
    "\n",
    "#for _,s in ax.spines.items():\n",
    "#    s.set_linewidth(2)\n",
    "#    s.set_color('#8F9191')    \n",
    "    \n",
    "sns.despine()\n",
    "\n",
    "ax.annotate(\"p = 1.49e-5\", (0, 4/46+0.01), ha = \"center\", size = 16)\n",
    "ax.annotate(\"p = 1.20e-19\", (1, 12/50+0.01), ha = \"center\", size = 16)\n",
    "ax.annotate(\"p = 1.51e-6\", (2, 4/26+0.01), ha = \"center\", size = 16)\n",
    "\n",
    "plt.savefig(\"MTOR_GoF_barplot.pdf\")"
   ]
  },
  {
   "cell_type": "markdown",
   "id": "2dd4d6fd",
   "metadata": {},
   "source": [
    "## Foldx Energies"
   ]
  },
  {
   "cell_type": "code",
   "execution_count": 24,
   "id": "f2f345dc",
   "metadata": {},
   "outputs": [],
   "source": [
    "from darwinian_shift import FoldXLookup\n",
    "\n",
    "MTOR = {\n",
    "    \"gene\": \"MTOR\",\n",
    "    \"pdb_id\": \"6BCX\",\n",
    "    \"pdb_chain\": \"A\",\n",
    "}\n",
    "\n",
    "fold = FoldXLookup(foldx_results_directory = \"../Foldx/\",\n",
    "                  sifts_directory = \".\",\n",
    "                  download_sifts=True)"
   ]
  },
  {
   "cell_type": "code",
   "execution_count": 25,
   "id": "52b2400f",
   "metadata": {},
   "outputs": [],
   "source": [
    "s_foldx_cross = d_cross.run_section(MTOR, lookup=fold, statistics = [MonteCarloTest(stat_function=np.mean, name = \"MC_Mean\"),\n",
    "                                                                     MonteCarloTest(stat_function=np.median, name = \"MC_Median\"),\n",
    "                                                                     CDFMonteCarloTest()])\n",
    "s_foldx_flot = d_flot.run_section(MTOR, lookup=fold, statistics = [MonteCarloTest(stat_function=np.mean, name = \"MC_Mean\"),\n",
    "                                                                     MonteCarloTest(stat_function=np.median, name = \"MC_Median\"),\n",
    "                                                                     CDFMonteCarloTest()])\n",
    "s_foldx_nt = d_nt.run_section(MTOR, lookup=fold, statistics = [MonteCarloTest(stat_function=np.mean, name = \"MC_Mean\"),\n",
    "                                                                     MonteCarloTest(stat_function=np.median, name = \"MC_Median\"),\n",
    "                                                                     CDFMonteCarloTest()])"
   ]
  },
  {
   "cell_type": "code",
   "execution_count": 26,
   "id": "5dfb2cf9",
   "metadata": {},
   "outputs": [
    {
     "data": {
      "text/plain": [
       "{'MC_Mean_glob_k3_pvalue': 0.48055194480551944,\n",
       " 'MC_Median_glob_k3_pvalue': 0.9607039296070393,\n",
       " 'CDF_MC_glob_k3_pvalue': 0.9825017498250175}"
      ]
     },
     "execution_count": 26,
     "metadata": {},
     "output_type": "execute_result"
    }
   ],
   "source": [
    "s_foldx_cross.get_pvalues()"
   ]
  },
  {
   "cell_type": "code",
   "execution_count": 28,
   "id": "0e343f62",
   "metadata": {},
   "outputs": [
    {
     "data": {
      "text/plain": [
       "{'MC_Mean_glob_k3_pvalue': 0.0021997800219978004,\n",
       " 'MC_Median_glob_k3_pvalue': 0.003999600039996,\n",
       " 'CDF_MC_glob_k3_pvalue': 0.017198280171982803}"
      ]
     },
     "execution_count": 28,
     "metadata": {},
     "output_type": "execute_result"
    }
   ],
   "source": [
    "s_foldx_flot.get_pvalues()"
   ]
  },
  {
   "cell_type": "code",
   "execution_count": 27,
   "id": "e3061cda",
   "metadata": {},
   "outputs": [
    {
     "data": {
      "text/plain": [
       "{'MC_Mean_glob_k3_pvalue': 0.6125387461253875,\n",
       " 'MC_Median_glob_k3_pvalue': 0.041995800419958006,\n",
       " 'CDF_MC_glob_k3_pvalue': 0.35896410358964104}"
      ]
     },
     "execution_count": 27,
     "metadata": {},
     "output_type": "execute_result"
    }
   ],
   "source": [
    "s_foldx_nt.get_pvalues()"
   ]
  },
  {
   "cell_type": "code",
   "execution_count": 31,
   "id": "78e522f7",
   "metadata": {},
   "outputs": [],
   "source": [
    "data_cross = plot_boxplot2(s_foldx_cross)\n",
    "data_flot = plot_boxplot2(s_foldx_flot)\n",
    "data_nt= plot_boxplot2(s_foldx_nt)\n",
    "\n",
    "basedistcross = data_cross[0]\n",
    "crossdist = data_cross[1]\n",
    "basedistflot = data_flot[0]\n",
    "flotdist = data_flot[1]\n",
    "basedistnt = data_flot[0]\n",
    "ntdist = data_nt[1]\n",
    "\n",
    "basedistcross = pd.DataFrame(basedistcross)\n",
    "basedistcross[\"label\"] = \"base_cross\"\n",
    "basedistcross.columns = [\"score\", \"label\"]\n",
    "\n",
    "basedistflot = pd.DataFrame(basedistflot)\n",
    "basedistflot[\"label\"] = \"base_flot\"\n",
    "basedistflot.columns = [\"score\", \"label\"]\n",
    "\n",
    "basedistnt = pd.DataFrame(basedistnt)\n",
    "basedistnt[\"label\"] = \"base_nt\"\n",
    "basedistnt.columns = [\"score\", \"label\"]\n",
    "\n",
    "crossdist = pd.DataFrame(crossdist)\n",
    "crossdist[\"label\"] = \"cross\"\n",
    "\n",
    "flotdist = pd.DataFrame(flotdist)\n",
    "flotdist[\"label\"] = \"flot\"\n",
    "\n",
    "ntdist = pd.DataFrame(ntdist)\n",
    "ntdist[\"label\"] = \"nt\"\n",
    "\n",
    "testdist_cross = pd.DataFrame([-15])\n",
    "testdist_cross[\"label\"] = \"base_cross\"\n",
    "testdist_cross.columns = [\"score\", \"label\"]\n",
    "\n",
    "testdist_flot = pd.DataFrame([-15])\n",
    "testdist_flot[\"label\"] = \"base_flot\"\n",
    "testdist_flot.columns = [\"score\", \"label\"]\n",
    "\n",
    "testdist_nt = pd.DataFrame([-15])\n",
    "testdist_nt[\"label\"] = \"base_nt\"\n",
    "testdist_nt.columns = [\"score\", \"label\"]\n",
    "\n",
    "combined = pd.concat([basedistcross, crossdist, basedistflot, flotdist,basedistnt, ntdist], axis =0)\n",
    "combined2 = pd.concat([testdist_cross, crossdist,testdist_flot, flotdist,testdist_nt, ntdist], axis =0)"
   ]
  },
  {
   "cell_type": "code",
   "execution_count": 36,
   "id": "6fcf1263",
   "metadata": {},
   "outputs": [
    {
     "name": "stderr",
     "output_type": "stream",
     "text": [
      "/var/folders/d9/4lyh6rdd5mdbxby_y5lwsy180000gn/T/ipykernel_97716/3633330576.py:39: UserWarning: FixedFormatter should only be used together with FixedLocator\n",
      "  g.set_yticklabels(g.get_yticklabels(), size = 14)\n",
      "/var/folders/d9/4lyh6rdd5mdbxby_y5lwsy180000gn/T/ipykernel_97716/3633330576.py:47: UserWarning: FixedFormatter should only be used together with FixedLocator\n",
      "  g.set_yticklabels([0,-4,-2,0,2,4,6,8,10], size = 14)\n"
     ]
    },
    {
     "data": {
      "image/png": "[encoded data removed]",
      "text/plain": [
       "<Figure size 640x480 with 1 Axes>"
      ]
     },
     "metadata": {},
     "output_type": "display_data"
    }
   ],
   "source": [
    " fig, ax = plt.subplots()\n",
    "\n",
    "PROPS = {\n",
    "    'boxprops':{'facecolor':'none', 'edgecolor':'black'},\n",
    "    'medianprops':{'color':'black'},\n",
    "    'whiskerprops':{'color':'black'},\n",
    "    'capprops':{'color':'black'}\n",
    "}\n",
    "\n",
    "\n",
    "g = sns.boxplot(data = combined, x = \"label\", y = \"score\"\n",
    "                , palette = [\"k\", \"w\", \"#E0995E\", \"w\", \"#668AB8\", \"w\"], showfliers = False)\n",
    "for patch in ax.patches:\n",
    "    r, g1, b, a = patch.get_facecolor()\n",
    "    patch.set_facecolor((r, g1, b, 0.6))\n",
    "\n",
    "g2 = sns.stripplot(data = combined2, x = \"label\", y = \"score\", palette=[\"w\", \"k\",\"w\", \"#E0995E\",\"w\", \"#668AB8\"], size = 10)\n",
    "\n",
    "x1, x2 = 0, 1  \n",
    "y, h, col = 14, 0, 'k'\n",
    "plt.plot([x1, x1, x2, x2], [y, y+h, y+h, y], lw=1.5, c=col)\n",
    "plt.text((x1+x2)*.5, y+h+0.2, \"p = 0.982\", ha='center', va='bottom', color=col, size = 14)\n",
    "\n",
    "\n",
    "x1, x2 = 2, 3  \n",
    "y, h, col = 14, 0, 'k'\n",
    "plt.plot([x1, x1, x2, x2], [y, y+h, y+h, y], lw=1.5, c=col)\n",
    "plt.text((x1+x2)*.5, y+h+0.2, \"p = 0.017\", ha='center', va='bottom', color=col, size = 14)\n",
    "\n",
    "x1, x2 = 4, 5  \n",
    "y, h, col = 14, 0, 'k'\n",
    "plt.plot([x1, x1, x2, x2], [y, y+h, y+h, y], lw=1.5, c=col)\n",
    "plt.text((x1+x2)*.5, y+h+0.2, \"p = 0.359\", ha='center', va='bottom', color=col, size = 14)\n",
    "\n",
    "g.set_xlabel(\"\")\n",
    "g.set_xticklabels([\"CROSS \\nExpected\", \"CROSS\", \"FLOT \\nExpected\", \"FLOT\", \"NT \\nExpected\", \"NT\"], size = 12)\n",
    "\n",
    "g.set_ylabel(r\"Mutational $\\Delta$$\\Delta$G (kcal/mol)\", size = 14)\n",
    "g.set_yticklabels(g.get_yticklabels(), size = 14)\n",
    "\n",
    "#g.set_yscale(\"symlog\")\n",
    "\n",
    "ax.set_ylim(-5, 15)\n",
    "sns.despine()\n",
    "\n",
    "\n",
    "g.set_yticklabels([0,-4,-2,0,2,4,6,8,10], size = 14)\n",
    "\n",
    "plt.savefig(\"MTOR_foldxDDG.pdf\")\n",
    "plt.show()"
   ]
  },
  {
   "cell_type": "markdown",
   "id": "dd8ce52a",
   "metadata": {},
   "source": [
    "## Distance to Kinase domain"
   ]
  },
  {
   "cell_type": "code",
   "execution_count": 47,
   "id": "4ac92ef0",
   "metadata": {},
   "outputs": [],
   "source": [
    "from darwinian_shift import StructureDistanceLookup\n",
    "\n",
    "kinase_domain = \"chainID A and resid 2181:2441\"\n",
    "\n",
    "kinasedist = StructureDistanceLookup(target_key = \"target_selection\", distance_to_alpha_carbons=True,\n",
    "                                 sifts_directory = \".\", pdb_directory=\".\")\n",
    "\n",
    "MTOR_dist = {\n",
    "    \"gene\": \"MTOR\",\n",
    "    \"pdb_id\": \"6BCX\",\n",
    "    \"pdb_chain\": \"A\",\n",
    "    \"target_selection\":kinase_domain}"
   ]
  },
  {
   "cell_type": "code",
   "execution_count": 48,
   "id": "8735fcf5",
   "metadata": {},
   "outputs": [
    {
     "name": "stderr",
     "output_type": "stream",
     "text": [
      "/Users/davidshorthouse/anaconda3/envs/dsenv/lib/python3.8/site-packages/MDAnalysis/coordinates/PDB.py:429: UserWarning: 1 A^3 CRYST1 record, this is usually a placeholder. Unit cell dimensions will be set to None.\n",
      "  warnings.warn(\"1 A^3 CRYST1 record,\"\n",
      "/Users/davidshorthouse/anaconda3/envs/dsenv/lib/python3.8/site-packages/MDAnalysis/coordinates/PDB.py:429: UserWarning: 1 A^3 CRYST1 record, this is usually a placeholder. Unit cell dimensions will be set to None.\n",
      "  warnings.warn(\"1 A^3 CRYST1 record,\"\n",
      "/Users/davidshorthouse/anaconda3/envs/dsenv/lib/python3.8/site-packages/MDAnalysis/coordinates/PDB.py:429: UserWarning: 1 A^3 CRYST1 record, this is usually a placeholder. Unit cell dimensions will be set to None.\n",
      "  warnings.warn(\"1 A^3 CRYST1 record,\"\n"
     ]
    }
   ],
   "source": [
    "mtor_kinase_cross = d_cross.run_section(MTOR_dist, lookup=kinasedist, statistics = [MonteCarloTest(stat_function=np.mean, name = \"MC_Mean\"),\n",
    "                                                                     MonteCarloTest(stat_function=np.median, name = \"MC_Median\"),\n",
    "                                                                     CDFMonteCarloTest()])\n",
    "\n",
    "mtor_kinase_flot = d_flot.run_section(MTOR_dist, lookup=kinasedist, statistics = [MonteCarloTest(stat_function=np.mean, name = \"MC_Mean\"),\n",
    "                                                                     MonteCarloTest(stat_function=np.median, name = \"MC_Median\"),\n",
    "                                                                     CDFMonteCarloTest()])\n",
    "\n",
    "mtor_kinase_nt = d_nt.run_section(MTOR_dist, lookup=kinasedist, statistics = [MonteCarloTest(stat_function=np.mean, name = \"MC_Mean\"),\n",
    "                                                                     MonteCarloTest(stat_function=np.median, name = \"MC_Median\"),\n",
    "                                                                     CDFMonteCarloTest()])"
   ]
  },
  {
   "cell_type": "code",
   "execution_count": 49,
   "id": "d21e3d34",
   "metadata": {},
   "outputs": [
    {
     "data": {
      "text/plain": [
       "{'MC_Mean_glob_k3_pvalue': 0.009599040095990401,\n",
       " 'MC_Median_glob_k3_pvalue': 0.0057994200579942,\n",
       " 'CDF_MC_glob_k3_pvalue': 0.005599440055994401}"
      ]
     },
     "execution_count": 49,
     "metadata": {},
     "output_type": "execute_result"
    }
   ],
   "source": [
    "mtor_kinase_cross.get_pvalues()"
   ]
  },
  {
   "cell_type": "code",
   "execution_count": 50,
   "id": "39a54dde",
   "metadata": {},
   "outputs": [
    {
     "data": {
      "text/plain": [
       "{'MC_Mean_glob_k3_pvalue': 0.00019998000199980003,\n",
       " 'MC_Median_glob_k3_pvalue': 0.00019998000199980003,\n",
       " 'CDF_MC_glob_k3_pvalue': 0.00019998000199980003}"
      ]
     },
     "execution_count": 50,
     "metadata": {},
     "output_type": "execute_result"
    }
   ],
   "source": [
    "mtor_kinase_flot.get_pvalues()"
   ]
  },
  {
   "cell_type": "code",
   "execution_count": 51,
   "id": "0bb9aff9",
   "metadata": {},
   "outputs": [
    {
     "data": {
      "text/plain": [
       "{'MC_Mean_glob_k3_pvalue': 0.0047995200479952005,\n",
       " 'MC_Median_glob_k3_pvalue': 0.018998100189981004,\n",
       " 'CDF_MC_glob_k3_pvalue': 0.008599140085991401}"
      ]
     },
     "execution_count": 51,
     "metadata": {},
     "output_type": "execute_result"
    }
   ],
   "source": [
    "mtor_kinase_nt.get_pvalues()"
   ]
  },
  {
   "cell_type": "markdown",
   "id": "d2e24cc7",
   "metadata": {},
   "source": [
    "### Plotting"
   ]
  },
  {
   "cell_type": "code",
   "execution_count": 52,
   "id": "8e77d649",
   "metadata": {},
   "outputs": [],
   "source": [
    "data_cross = plot_boxplot2(mtor_kinase_cross)\n",
    "data_flot = plot_boxplot2(mtor_kinase_flot)\n",
    "data_nt= plot_boxplot2(mtor_kinase_nt)\n",
    "\n",
    "basedistcross = data_cross[0]\n",
    "crossdist = data_cross[1]\n",
    "basedistflot = data_flot[0]\n",
    "flotdist = data_flot[1]\n",
    "basedistnt = data_flot[0]\n",
    "ntdist = data_nt[1]\n",
    "\n",
    "basedistcross = pd.DataFrame(basedistcross)\n",
    "basedistcross[\"label\"] = \"base_cross\"\n",
    "basedistcross.columns = [\"score\", \"label\"]\n",
    "\n",
    "basedistflot = pd.DataFrame(basedistflot)\n",
    "basedistflot[\"label\"] = \"base_flot\"\n",
    "basedistflot.columns = [\"score\", \"label\"]\n",
    "\n",
    "basedistnt = pd.DataFrame(basedistnt)\n",
    "basedistnt[\"label\"] = \"base_nt\"\n",
    "basedistnt.columns = [\"score\", \"label\"]\n",
    "\n",
    "crossdist = pd.DataFrame(crossdist)\n",
    "crossdist[\"label\"] = \"cross\"\n",
    "\n",
    "flotdist = pd.DataFrame(flotdist)\n",
    "flotdist[\"label\"] = \"flot\"\n",
    "\n",
    "ntdist = pd.DataFrame(ntdist)\n",
    "ntdist[\"label\"] = \"nt\"\n",
    "\n",
    "testdist_cross = pd.DataFrame([-15])\n",
    "testdist_cross[\"label\"] = \"base_cross\"\n",
    "testdist_cross.columns = [\"score\", \"label\"]\n",
    "\n",
    "testdist_flot = pd.DataFrame([-15])\n",
    "testdist_flot[\"label\"] = \"base_flot\"\n",
    "testdist_flot.columns = [\"score\", \"label\"]\n",
    "\n",
    "testdist_nt = pd.DataFrame([-15])\n",
    "testdist_nt[\"label\"] = \"base_nt\"\n",
    "testdist_nt.columns = [\"score\", \"label\"]\n",
    "\n",
    "combined = pd.concat([basedistcross, crossdist, basedistflot, flotdist,basedistnt, ntdist], axis =0)\n",
    "combined2 = pd.concat([testdist_cross, crossdist,testdist_flot, flotdist,testdist_nt, ntdist], axis =0)"
   ]
  },
  {
   "cell_type": "code",
   "execution_count": 54,
   "id": "3cb3afc1",
   "metadata": {},
   "outputs": [
    {
     "name": "stderr",
     "output_type": "stream",
     "text": [
      "/var/folders/d9/4lyh6rdd5mdbxby_y5lwsy180000gn/T/ipykernel_97716/3975380323.py:39: UserWarning: FixedFormatter should only be used together with FixedLocator\n",
      "  g.set_yticklabels(g.get_yticklabels(), size = 14)\n",
      "/var/folders/d9/4lyh6rdd5mdbxby_y5lwsy180000gn/T/ipykernel_97716/3975380323.py:43: UserWarning: FixedFormatter should only be used together with FixedLocator\n",
      "  g.set_yticklabels([0,20,40,60,80,100], size = 14)\n"
     ]
    },
    {
     "data": {
      "image/png": "[encoded data removed]",
      "text/plain": [
       "<Figure size 640x480 with 1 Axes>"
      ]
     },
     "metadata": {},
     "output_type": "display_data"
    }
   ],
   "source": [
    "fig, ax = plt.subplots()\n",
    "\n",
    "PROPS = {\n",
    "    'boxprops':{'facecolor':'none', 'edgecolor':'black'},\n",
    "    'medianprops':{'color':'black'},\n",
    "    'whiskerprops':{'color':'black'},\n",
    "    'capprops':{'color':'black'}\n",
    "}\n",
    "\n",
    "\n",
    "g = sns.boxplot(data = combined, x = \"label\", y = \"score\"\n",
    "                , palette = [\"k\", \"w\", \"#E0995E\", \"w\", \"#668AB8\", \"w\"], showfliers = False)\n",
    "for patch in ax.patches:\n",
    "    r, g1, b, a = patch.get_facecolor()\n",
    "    patch.set_facecolor((r, g1, b, 0.6))\n",
    "\n",
    "g2 = sns.stripplot(data = combined2, x = \"label\", y = \"score\", palette=[\"w\", \"k\",\"w\", \"#E0995E\",\"w\", \"#668AB8\"], size = 10)\n",
    "\n",
    "x1, x2 = 0, 1  \n",
    "y, h, col = 90, 0, 'k'\n",
    "plt.plot([x1, x1, x2, x2], [y, y+h, y+h, y], lw=1.5, c=col)\n",
    "plt.text((x1+x2)*.5, y+h+0.4, \"p = 0.0047\", ha='center', va='bottom', color=col, size = 14)\n",
    "\n",
    "\n",
    "x1, x2 = 2, 3  \n",
    "y, h, col = 90, 0, 'k'\n",
    "plt.plot([x1, x1, x2, x2], [y, y+h, y+h, y], lw=1.5, c=col)\n",
    "plt.text((x1+x2)*.5, y+h+0.4, \"p = 0.0002\", ha='center', va='bottom', color=col, size = 14)\n",
    "\n",
    "x1, x2 = 4, 5  \n",
    "y, h, col = 90, 0, 'k'\n",
    "plt.plot([x1, x1, x2, x2], [y, y+h, y+h, y], lw=1.5, c=col)\n",
    "plt.text((x1+x2)*.5, y+h+0.4, \"p = 0.0246\", ha='center', va='bottom', color=col, size = 14)\n",
    "\n",
    "g.set_xlabel(\"\")\n",
    "g.set_xticklabels([\"CROSS \\n Expected\", \"CROSS\", \"FLOT \\n Expected\", \"FLOT\", \"NT \\n Expected\", \"NT\"], size = 12)\n",
    "\n",
    "g.set_ylabel(\"Distance to Kinase Domain (Angstroms)\", size = 14)\n",
    "g.set_yticklabels(g.get_yticklabels(), size = 14)\n",
    "ax.set_ylim(0, 100)\n",
    "sns.despine()\n",
    "\n",
    "g.set_yticklabels([0,20,40,60,80,100], size = 14)\n",
    "\n",
    "plt.savefig(\"MTOR_distancetokinase.pdf\")\n",
    "plt.show()"
   ]
  },
  {
   "cell_type": "code",
   "execution_count": null,
   "id": "097419ec",
   "metadata": {},
   "outputs": [],
   "source": []
  }
 ],
 "metadata": {
  "kernelspec": {
   "display_name": "Python 3 (ipykernel)",
   "language": "python",
   "name": "python3"
  },
  "language_info": {
   "codemirror_mode": {
    "name": "ipython",
    "version": 3
   },
   "file_extension": ".py",
   "mimetype": "text/x-python",
   "name": "python",
   "nbconvert_exporter": "python",
   "pygments_lexer": "ipython3",
   "version": "3.8.13"
  }
 },
 "nbformat": 4,
 "nbformat_minor": 5
}
