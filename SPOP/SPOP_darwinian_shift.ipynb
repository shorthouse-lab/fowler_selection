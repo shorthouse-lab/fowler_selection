{
 "cells": [
  {
   "cell_type": "code",
   "execution_count": 1,
   "id": "ac66b9fd",
   "metadata": {},
   "outputs": [
    {
     "name": "stderr",
     "output_type": "stream",
     "text": [
      "/Users/davidshorthouse/anaconda3/envs/dsenv/lib/python3.8/site-packages/tqdm/auto.py:22: TqdmWarning: IProgress not found. Please update jupyter and ipywidgets. See https://ipywidgets.readthedocs.io/en/stable/user_install.html\n",
      "  from .autonotebook import tqdm as notebook_tqdm\n",
      "/Users/davidshorthouse/anaconda3/envs/dsenv/lib/python3.8/site-packages/MDAnalysis/coordinates/TRJ.py:1209: DeprecationWarning: Please use `netcdf_file` from the `scipy.io` namespace, the `scipy.io.netcdf` namespace is deprecated.\n",
      "  class NCDFPicklable(scipy.io.netcdf.netcdf_file):\n"
     ]
    }
   ],
   "source": [
    "import pandas as pd\n",
    "import darwinian_shift\n",
    "from darwinian_shift import DarwinianShift\n",
    "\n",
    "from darwinian_shift import MonteCarloTest\n",
    "from darwinian_shift import CDFMonteCarloTest\n",
    "import numpy as np\n",
    "\n",
    "import matplotlib.pyplot as plt\n",
    "import matplotlib\n",
    "import seaborn as sns"
   ]
  },
  {
   "cell_type": "code",
   "execution_count": 2,
   "id": "9858eeab",
   "metadata": {},
   "outputs": [],
   "source": [
    "def plot_boxplot2(self, spectra=None, plot_scale=None, show_plot=False, colours=None,\n",
    "                     figsize=(5, 5), return_fig=False, ax=None):\n",
    "        \"\"\"\n",
    "        Boxplot of the expected and observed distributions of mutation scores.\n",
    "        :param spectra: The mutational spectrum or list of mutational spectra to use.\n",
    "        :param plot_scale:  Scale for the y-axis (mutation scores). Passed to matplotlib. 'log', 'symlog' etc.\n",
    "        :param show_plot: If True, will call plt.show().\n",
    "        :param colours: List of colours. First colour is for the observed data, the subsequent colours are\n",
    "        for plotting the null distributions from each of the mutational spectra given.\n",
    "        :param figsize: Size of the figure.\n",
    "        :param return_fig: If True, will return the figure. Used for testing.\n",
    "        :param ax: Matplotlib axis to plot on. If None, will create a new figure.\n",
    "        :return: By default, None. If return_fig=True, will return the figure.\n",
    "        \"\"\"\n",
    "#        if ax is None:\n",
    "#            fig, ax = plt.subplots(figsize=figsize)\n",
    "#        else:\n",
    "#            fig = ax.figure\n",
    "\n",
    "        spectra = self._get_spectra(spectra)\n",
    "\n",
    "        colours = self._get_plot_colours(colours, len(spectra)+1)\n",
    "        data = [get_distribution_from_mutational_spectrum(self.null_scores,\n",
    "                                                          self.null_mutations[spectrum.rate_column])\n",
    "                for spectrum in spectra]\n",
    "        data.append(self.observed_values)\n",
    "        \n",
    "        return(data)\n",
    "    \n",
    "def get_distribution_from_mutational_spectrum(values, mut_rates, num=1000000):\n",
    "    mut_rates = np.array(mut_rates)\n",
    "    weights = mut_rates / mut_rates.sum()\n",
    "    dist = np.repeat(values, np.random.multinomial(num, weights))\n",
    "    return dist\n",
    "\n",
    "d = {'CYS': 'C', 'ASP': 'D', 'SER': 'S', 'GLN': 'Q', 'LYS': 'K',\n",
    "     'ILE': 'I', 'PRO': 'P', 'THR': 'T', 'PHE': 'F', 'ASN': 'N', \n",
    "     'GLY': 'G', 'HIS': 'H', 'LEU': 'L', 'ARG': 'R', 'TRP': 'W', \n",
    "     'ALA': 'A', 'VAL':'V', 'GLU': 'E', 'TYR': 'Y', 'MET': 'M'}\n",
    "\n",
    "def shorten(x):\n",
    "    if len(x) % 3 != 0: \n",
    "        raise ValueError('Input length should be a multiple of three')\n",
    "\n",
    "    y = ''\n",
    "    for i in range(len(x) // 3):\n",
    "        y += d[x[3 * i : 3 * i + 3]]\n",
    "    return y\n",
    "\n",
    "def one_to_three(one_letter_code):\n",
    "    mapping = {'A':'Ala',\n",
    "               'R':'Arg',\n",
    "               'N':'Asn',\n",
    "               'D':'Asp',\n",
    "               'C':'Cys',\n",
    "               'Q':'Gln',\n",
    "               'E':'Glu',\n",
    "               'G':'Gly',\n",
    "               'H':'His',\n",
    "               'I':'Ile',\n",
    "               'L':'Leu',\n",
    "               'K':'Lys',\n",
    "               'M':'Met',\n",
    "               'F':'Phe',\n",
    "               'P':'Pro',\n",
    "               'S':'Ser',\n",
    "               'T':'Thr',\n",
    "               'W':'Trp',\n",
    "               'Y':'Tyr',\n",
    "               'V':'Val',}\n",
    "    return mapping[one_letter_code.upper()].upper()\n"
   ]
  },
  {
   "cell_type": "code",
   "execution_count": 3,
   "id": "1613fd2b",
   "metadata": {},
   "outputs": [],
   "source": [
    "d_CROSS = DarwinianShift(\n",
    "    data = pd.read_csv(\"../CROSS_mutations.csv\"),\n",
    "    source_genome = \"GRCh37\",\n",
    "    included_mutation_types = \"missense\")\n",
    "\n",
    "d_FLOT = DarwinianShift(\n",
    "    data = pd.read_csv(\"../FLOT_mutations.csv\"),\n",
    "    source_genome = \"GRCh37\",\n",
    "    included_mutation_types = \"missense\")\n",
    "\n",
    "d_NT = DarwinianShift(\n",
    "    data = pd.read_csv(\"../NT_mutations.csv\"),\n",
    "    source_genome = \"GRCh37\",\n",
    "    included_mutation_types = \"missense\")"
   ]
  },
  {
   "cell_type": "markdown",
   "id": "4ef52219",
   "metadata": {},
   "source": [
    "## Distance to Ligand"
   ]
  },
  {
   "cell_type": "code",
   "execution_count": 4,
   "id": "4e47b901",
   "metadata": {},
   "outputs": [],
   "source": [
    "from darwinian_shift import StructureDistanceLookup\n",
    "\n",
    "pdbdist = StructureDistanceLookup(target_key = \"target_selection\", distance_to_alpha_carbons=True,\n",
    "                                  sifts_directory=\".\", pdb_directory=\".\")"
   ]
  },
  {
   "cell_type": "code",
   "execution_count": 5,
   "id": "c47d8607",
   "metadata": {},
   "outputs": [],
   "source": [
    "SPOP_chainC_dist = {\n",
    "    \"gene\": \"SPOP\",\n",
    "    \"pdb_id\": \"3hqi\",\n",
    "    \"pdb_chain\": \"A\",\n",
    "    \"target_selection\":\"chainID C\"}"
   ]
  },
  {
   "cell_type": "code",
   "execution_count": 6,
   "id": "d3c31900",
   "metadata": {},
   "outputs": [],
   "source": [
    "chainC_CROSS = d_CROSS.run_section(SPOP_chainC_dist, lookup=pdbdist, statistics = [MonteCarloTest(stat_function=np.mean, name = \"MC_Mean\"),\n",
    "                                                                     MonteCarloTest(stat_function=np.median, name = \"MC_Median\"),\n",
    "                                                                     CDFMonteCarloTest()])\n",
    "\n",
    "chainC_FLOT = d_FLOT.run_section(SPOP_chainC_dist, lookup=pdbdist, statistics = [MonteCarloTest(stat_function=np.mean, name = \"MC_Mean\"),\n",
    "                                                                     MonteCarloTest(stat_function=np.median, name = \"MC_Median\"),\n",
    "                                                                     CDFMonteCarloTest()])\n",
    "\n",
    "chainC_NT = d_NT.run_section(SPOP_chainC_dist, lookup=pdbdist, statistics = [MonteCarloTest(stat_function=np.mean, name = \"MC_Mean\"),\n",
    "                                                                     MonteCarloTest(stat_function=np.median, name = \"MC_Median\"),\n",
    "                                                                     CDFMonteCarloTest()])"
   ]
  },
  {
   "cell_type": "code",
   "execution_count": 7,
   "id": "0e0bbb63",
   "metadata": {},
   "outputs": [
    {
     "data": {
      "text/plain": [
       "{'MC_Mean_glob_k3_pvalue': 0.0031996800319968005,\n",
       " 'MC_Median_glob_k3_pvalue': 0.00019998000199980003,\n",
       " 'CDF_MC_glob_k3_pvalue': 0.0015998400159984002}"
      ]
     },
     "execution_count": 7,
     "metadata": {},
     "output_type": "execute_result"
    }
   ],
   "source": [
    "chainC_CROSS.get_pvalues()"
   ]
  },
  {
   "cell_type": "code",
   "execution_count": 8,
   "id": "bdb71115",
   "metadata": {},
   "outputs": [
    {
     "data": {
      "text/plain": [
       "{'MC_Mean_glob_k3_pvalue': 0.10838916108389161,\n",
       " 'MC_Median_glob_k3_pvalue': 0.37236276372362764,\n",
       " 'CDF_MC_glob_k3_pvalue': 0.10078992100789921}"
      ]
     },
     "execution_count": 8,
     "metadata": {},
     "output_type": "execute_result"
    }
   ],
   "source": [
    "chainC_FLOT.get_pvalues()"
   ]
  },
  {
   "cell_type": "code",
   "execution_count": 9,
   "id": "54fc234a",
   "metadata": {},
   "outputs": [
    {
     "data": {
      "text/plain": [
       "{'MC_Mean_glob_k3_pvalue': 0.010998900109989001,\n",
       " 'MC_Median_glob_k3_pvalue': 0.0463953604639536,\n",
       " 'CDF_MC_glob_k3_pvalue': 0.0105989401059894}"
      ]
     },
     "execution_count": 9,
     "metadata": {},
     "output_type": "execute_result"
    }
   ],
   "source": [
    "chainC_NT.get_pvalues()"
   ]
  },
  {
   "cell_type": "markdown",
   "id": "55ae1c1d",
   "metadata": {},
   "source": [
    "### Plotting"
   ]
  },
  {
   "cell_type": "code",
   "execution_count": 10,
   "id": "e58a92fb",
   "metadata": {},
   "outputs": [],
   "source": [
    "data_cross = plot_boxplot2(chainC_CROSS)\n",
    "data_flot = plot_boxplot2(chainC_FLOT)\n",
    "data_nt= plot_boxplot2(chainC_NT)\n",
    "\n",
    "basedistcross = data_cross[0]\n",
    "crossdist = data_cross[1]\n",
    "basedistflot = data_flot[0]\n",
    "flotdist = data_flot[1]\n",
    "basedistnt = data_flot[0]\n",
    "ntdist = data_nt[1]\n",
    "\n",
    "basedistcross = pd.DataFrame(basedistcross)\n",
    "basedistcross[\"label\"] = \"base_cross\"\n",
    "basedistcross.columns = [\"score\", \"label\"]\n",
    "\n",
    "basedistflot = pd.DataFrame(basedistflot)\n",
    "basedistflot[\"label\"] = \"base_flot\"\n",
    "basedistflot.columns = [\"score\", \"label\"]\n",
    "\n",
    "basedistnt = pd.DataFrame(basedistnt)\n",
    "basedistnt[\"label\"] = \"base_nt\"\n",
    "basedistnt.columns = [\"score\", \"label\"]\n",
    "\n",
    "crossdist = pd.DataFrame(crossdist)\n",
    "crossdist[\"label\"] = \"cross\"\n",
    "\n",
    "flotdist = pd.DataFrame(flotdist)\n",
    "flotdist[\"label\"] = \"flot\"\n",
    "\n",
    "ntdist = pd.DataFrame(ntdist)\n",
    "ntdist[\"label\"] = \"nt\"\n",
    "\n",
    "testdist_cross = pd.DataFrame([-10])\n",
    "testdist_cross[\"label\"] = \"base_cross\"\n",
    "testdist_cross.columns = [\"score\", \"label\"]\n",
    "\n",
    "testdist_flot = pd.DataFrame([-10])\n",
    "testdist_flot[\"label\"] = \"base_flot\"\n",
    "testdist_flot.columns = [\"score\", \"label\"]\n",
    "\n",
    "testdist_nt = pd.DataFrame([-10])\n",
    "testdist_nt[\"label\"] = \"base_nt\"\n",
    "testdist_nt.columns = [\"score\", \"label\"]\n",
    "\n",
    "combined = pd.concat([basedistcross, crossdist, basedistflot, flotdist,basedistnt, ntdist], axis =0)\n",
    "combined2 = pd.concat([testdist_cross, crossdist,testdist_flot, flotdist,testdist_nt, ntdist], axis =0)"
   ]
  },
  {
   "cell_type": "code",
   "execution_count": 11,
   "id": "5fb9a361",
   "metadata": {},
   "outputs": [],
   "source": [
    "plt.rcParams['figure.figsize'] = [8, 4]"
   ]
  },
  {
   "cell_type": "code",
   "execution_count": 12,
   "id": "f35e4544",
   "metadata": {
    "scrolled": false
   },
   "outputs": [
    {
     "name": "stderr",
     "output_type": "stream",
     "text": [
      "/var/folders/d9/4lyh6rdd5mdbxby_y5lwsy180000gn/T/ipykernel_280/1768322157.py:37: UserWarning: FixedFormatter should only be used together with FixedLocator\n",
      "  g1.set_yticklabels([0,10,20,30,40,50, 60, 70, 80], size = 14)\n"
     ]
    },
    {
     "data": {
      "image/png": "[encoded data removed]",
      "text/plain": [
       "<Figure size 800x400 with 1 Axes>"
      ]
     },
     "metadata": {},
     "output_type": "display_data"
    }
   ],
   "source": [
    "fig, ax = plt.subplots()\n",
    "\n",
    "PROPS = {\n",
    "    'boxprops':{'facecolor':'none', 'edgecolor':'black'},\n",
    "    'medianprops':{'color':'black'},\n",
    "    'whiskerprops':{'color':'black'},\n",
    "    'capprops':{'color':'black'}\n",
    "}\n",
    "\n",
    "g1 = sns.boxplot(data = combined, x = \"label\", y = \"score\"\n",
    "                , palette = [\"k\", \"w\", \"#E0995E\", \"w\", \"#668AB8\", \"w\"], showfliers = False)\n",
    "for patch in ax.patches:\n",
    "    r, g, b, a = patch.get_facecolor()\n",
    "    patch.set_facecolor((r, g, b, 0.6))\n",
    "g2 = sns.stripplot(data = combined2, x = \"label\", y = \"score\", alpha = 1\n",
    "                   , palette=[\"w\", \"k\", \"w\", \"#E0995E\", \"w\", \"#668AB8\"], size = 10)\n",
    "\n",
    "x1, x2 = 0, 1  \n",
    "y, h, col = 78, 0, 'k'\n",
    "plt.plot([x1, x1, x2, x2], [y, y+h, y+h, y], lw=1.5, c=col)\n",
    "plt.text((x1+x2)*.5, y+h+1, \"p = 0.002\", ha='center', va='bottom', color=col, size = 14)\n",
    "\n",
    "x1, x2 = 2, 3  \n",
    "y, h, col = 78, 0, 'k'\n",
    "plt.plot([x1, x1, x2, x2], [y, y+h, y+h, y], lw=1.5, c=col)\n",
    "plt.text((x1+x2)*.5, y+h+1, \"p = 0.105\", ha='center', va='bottom', color=col, size = 14)\n",
    "\n",
    "x1, x2 = 4, 5  \n",
    "y, h, col = 78, 0, 'k'\n",
    "plt.plot([x1, x1, x2, x2], [y, y+h, y+h, y], lw=1.5, c=col)\n",
    "plt.text((x1+x2)*.5, y+h+1, \"p = 0.008\", ha='center', va='bottom', color=col, size = 14)\n",
    "\n",
    "g1.set_xlabel(\"\")\n",
    "g1.set_xticklabels([\"CROSS \\n Expected\", \"CROSS\", \"FLOT \\n Expected\", \"FLOT\", \"NT \\n Expected\", \"NT\"], size = 14)\n",
    "ax.set_ylim(0, 80)\n",
    "g1.set_ylabel(\"Distance to Ligand (Angstroms)\", size = 14)\n",
    "g1.set_yticklabels([0,10,20,30,40,50, 60, 70, 80], size = 14)\n",
    "#ax.set_yscale(\"symlog\")\n",
    "\n",
    "sns.despine()\n",
    "\n",
    "plt.savefig(\"SPOP_liganddistance.pdf\", bbox_inches = \"tight\")"
   ]
  },
  {
   "cell_type": "markdown",
   "id": "f1935b1c",
   "metadata": {},
   "source": [
    "## Binding DDG"
   ]
  },
  {
   "cell_type": "code",
   "execution_count": 13,
   "id": "4eecd3fd",
   "metadata": {},
   "outputs": [],
   "source": [
    "SPOP_prostate = [\"F133V\", \"Y87C\", \"F102C\", \"F133I\", \"F133C\", \"F133S\", \"W131G\", \"F133L\", \"Y87N\", \"F133L\", \"W131L\",\n",
    "\"W131S\",\"F102V\", \"K129E\", \"F125I\", \"Y87S\", \"F125L\",\"F102S\", \"W131R\", \"Y87F\", \"D130E\", \"F104S\", \"R368H\"]"
   ]
  },
  {
   "cell_type": "code",
   "execution_count": 14,
   "id": "2eed403d",
   "metadata": {},
   "outputs": [],
   "source": [
    "SPOP = {\n",
    "    \"gene\": \"SPOP\",\n",
    "    \"pdb_id\": \"3HQI\",\n",
    "    \"pdb_chain\": \"A\",\n",
    "}"
   ]
  },
  {
   "cell_type": "code",
   "execution_count": 15,
   "id": "37071f33",
   "metadata": {},
   "outputs": [],
   "source": [
    "from darwinian_shift import FoldXLookup\n",
    "\n",
    "fold = FoldXLookup(foldx_results_directory = \"../Foldx_binding/\",\n",
    "                  sifts_directory = \".\",\n",
    "                  download_sifts=True)"
   ]
  },
  {
   "cell_type": "markdown",
   "id": "8fe32eb8",
   "metadata": {},
   "source": [
    "## CROSS"
   ]
  },
  {
   "cell_type": "code",
   "execution_count": 16,
   "id": "ecd1b5c5",
   "metadata": {},
   "outputs": [],
   "source": [
    "s_cross = d_CROSS.run_section(SPOP, lookup=fold, statistics = [MonteCarloTest(stat_function=np.mean, name = \"MC_Mean\"),\n",
    "                                                                     MonteCarloTest(stat_function=np.median, name = \"MC_Median\"),\n",
    "                                                                     CDFMonteCarloTest()])"
   ]
  },
  {
   "cell_type": "code",
   "execution_count": 17,
   "id": "f5e82c21",
   "metadata": {},
   "outputs": [
    {
     "data": {
      "text/plain": [
       "{'MC_Mean_glob_k3_pvalue': 0.004999500049995001,\n",
       " 'MC_Median_glob_k3_pvalue': 0.1197880211978802,\n",
       " 'CDF_MC_glob_k3_pvalue': 0.5377462253774623}"
      ]
     },
     "execution_count": 17,
     "metadata": {},
     "output_type": "execute_result"
    }
   ],
   "source": [
    "s_cross.get_pvalues()"
   ]
  },
  {
   "cell_type": "markdown",
   "id": "fb164a85",
   "metadata": {},
   "source": [
    "## FLOT"
   ]
  },
  {
   "cell_type": "code",
   "execution_count": 18,
   "id": "1e05d558",
   "metadata": {},
   "outputs": [],
   "source": [
    "s_flot = d_FLOT.run_section(SPOP, lookup=fold, statistics = [MonteCarloTest(stat_function=np.mean, name = \"MC_Mean\"),\n",
    "                                                                     MonteCarloTest(stat_function=np.median, name = \"MC_Median\"),\n",
    "                                                                     CDFMonteCarloTest()])"
   ]
  },
  {
   "cell_type": "code",
   "execution_count": 19,
   "id": "a52f918f",
   "metadata": {},
   "outputs": [
    {
     "data": {
      "text/plain": [
       "{'MC_Mean_glob_k3_pvalue': 0.48355164483551644,\n",
       " 'MC_Median_glob_k3_pvalue': 0.19318068193180682,\n",
       " 'CDF_MC_glob_k3_pvalue': 0.06619338066193381}"
      ]
     },
     "execution_count": 19,
     "metadata": {},
     "output_type": "execute_result"
    }
   ],
   "source": [
    "s_flot.get_pvalues()"
   ]
  },
  {
   "cell_type": "markdown",
   "id": "694bd279",
   "metadata": {},
   "source": [
    "## NT"
   ]
  },
  {
   "cell_type": "code",
   "execution_count": 20,
   "id": "6fa1c619",
   "metadata": {},
   "outputs": [],
   "source": [
    "s_nt = d_NT.run_section(SPOP, lookup=fold, statistics = [MonteCarloTest(stat_function=np.mean, name = \"MC_Mean\"),\n",
    "                                                                     MonteCarloTest(stat_function=np.median, name = \"MC_Median\"),\n",
    "                                                                     CDFMonteCarloTest()])"
   ]
  },
  {
   "cell_type": "code",
   "execution_count": 21,
   "id": "0c1a750f",
   "metadata": {},
   "outputs": [
    {
     "data": {
      "text/plain": [
       "{'MC_Mean_glob_k3_pvalue': 0.21237876212378762,\n",
       " 'MC_Median_glob_k3_pvalue': 0.8273172682731726,\n",
       " 'CDF_MC_glob_k3_pvalue': 0.29317068293170684}"
      ]
     },
     "execution_count": 21,
     "metadata": {},
     "output_type": "execute_result"
    }
   ],
   "source": [
    "s_nt.get_pvalues()"
   ]
  },
  {
   "cell_type": "code",
   "execution_count": 22,
   "id": "c005fdf6",
   "metadata": {},
   "outputs": [
    {
     "data": {
      "text/html": [
       "<div>\n",
       "<style scoped>\n",
       "    .dataframe tbody tr th:only-of-type {\n",
       "        vertical-align: middle;\n",
       "    }\n",
       "\n",
       "    .dataframe tbody tr th {\n",
       "        vertical-align: top;\n",
       "    }\n",
       "\n",
       "    .dataframe thead th {\n",
       "        text-align: right;\n",
       "    }\n",
       "</style>\n",
       "<table border=\"1\" class=\"dataframe\">\n",
       "  <thead>\n",
       "    <tr style=\"text-align: right;\">\n",
       "      <th></th>\n",
       "      <th>sample</th>\n",
       "      <th>chr</th>\n",
       "      <th>pos</th>\n",
       "      <th>ref</th>\n",
       "      <th>mut</th>\n",
       "      <th>mut_site</th>\n",
       "      <th>tum_globalvaf</th>\n",
       "      <th>gene</th>\n",
       "      <th>transcript</th>\n",
       "      <th>rna_desc</th>\n",
       "      <th>...</th>\n",
       "      <th>xfw_sum</th>\n",
       "      <th>xbw_sum</th>\n",
       "      <th>nfw_sum</th>\n",
       "      <th>nbw_sum</th>\n",
       "      <th>mutant_reads_sum</th>\n",
       "      <th>depth_sum</th>\n",
       "      <th>proportion_samples</th>\n",
       "      <th>subject</th>\n",
       "      <th>transcodon</th>\n",
       "      <th>Group</th>\n",
       "    </tr>\n",
       "  </thead>\n",
       "  <tbody>\n",
       "    <tr>\n",
       "      <th>0</th>\n",
       "      <td>PD47498_m00001</td>\n",
       "      <td>1</td>\n",
       "      <td>11177096</td>\n",
       "      <td>C</td>\n",
       "      <td>T</td>\n",
       "      <td>1 11177096 C T</td>\n",
       "      <td>0.000327</td>\n",
       "      <td>MTOR</td>\n",
       "      <td>CCDS127.1</td>\n",
       "      <td>r.7058g&gt;a</td>\n",
       "      <td>...</td>\n",
       "      <td>8</td>\n",
       "      <td>7</td>\n",
       "      <td>743</td>\n",
       "      <td>687</td>\n",
       "      <td>15</td>\n",
       "      <td>1430</td>\n",
       "      <td>0.016260</td>\n",
       "      <td>PD47498</td>\n",
       "      <td>-</td>\n",
       "      <td>FLOT</td>\n",
       "    </tr>\n",
       "    <tr>\n",
       "      <th>1</th>\n",
       "      <td>PD47498_m00003</td>\n",
       "      <td>1</td>\n",
       "      <td>120512170</td>\n",
       "      <td>C</td>\n",
       "      <td>T</td>\n",
       "      <td>1 120512170 C T</td>\n",
       "      <td>0.002034</td>\n",
       "      <td>NOTCH2</td>\n",
       "      <td>CCDS908.1</td>\n",
       "      <td>r.1292g&gt;a</td>\n",
       "      <td>...</td>\n",
       "      <td>61</td>\n",
       "      <td>28</td>\n",
       "      <td>574</td>\n",
       "      <td>232</td>\n",
       "      <td>89</td>\n",
       "      <td>806</td>\n",
       "      <td>0.016260</td>\n",
       "      <td>PD47498</td>\n",
       "      <td>-</td>\n",
       "      <td>FLOT</td>\n",
       "    </tr>\n",
       "    <tr>\n",
       "      <th>2</th>\n",
       "      <td>PD47498_m00005</td>\n",
       "      <td>10</td>\n",
       "      <td>89692889</td>\n",
       "      <td>A</td>\n",
       "      <td>G</td>\n",
       "      <td>10 89692889 A G</td>\n",
       "      <td>0.001799</td>\n",
       "      <td>PTEN</td>\n",
       "      <td>CCDS31238.1</td>\n",
       "      <td>r.1730a&gt;g</td>\n",
       "      <td>...</td>\n",
       "      <td>82</td>\n",
       "      <td>76</td>\n",
       "      <td>643</td>\n",
       "      <td>740</td>\n",
       "      <td>158</td>\n",
       "      <td>1383</td>\n",
       "      <td>0.016260</td>\n",
       "      <td>PD47498</td>\n",
       "      <td>-</td>\n",
       "      <td>FLOT</td>\n",
       "    </tr>\n",
       "    <tr>\n",
       "      <th>3</th>\n",
       "      <td>PD47498_m00008</td>\n",
       "      <td>12</td>\n",
       "      <td>46244697</td>\n",
       "      <td>C</td>\n",
       "      <td>T</td>\n",
       "      <td>12 46244697 C T</td>\n",
       "      <td>0.000323</td>\n",
       "      <td>ARID2</td>\n",
       "      <td>CCDS31783.1</td>\n",
       "      <td>r.2963c&gt;u</td>\n",
       "      <td>...</td>\n",
       "      <td>19</td>\n",
       "      <td>19</td>\n",
       "      <td>1572</td>\n",
       "      <td>1618</td>\n",
       "      <td>38</td>\n",
       "      <td>3190</td>\n",
       "      <td>0.016260</td>\n",
       "      <td>PD47498</td>\n",
       "      <td>-</td>\n",
       "      <td>FLOT</td>\n",
       "    </tr>\n",
       "    <tr>\n",
       "      <th>4</th>\n",
       "      <td>PD47498_m00011</td>\n",
       "      <td>13</td>\n",
       "      <td>28880867</td>\n",
       "      <td>G</td>\n",
       "      <td>A</td>\n",
       "      <td>13 28880867 G A</td>\n",
       "      <td>0.000737</td>\n",
       "      <td>FLT1</td>\n",
       "      <td>CCDS9330.1</td>\n",
       "      <td>r.4015c&gt;u</td>\n",
       "      <td>...</td>\n",
       "      <td>21</td>\n",
       "      <td>15</td>\n",
       "      <td>669</td>\n",
       "      <td>844</td>\n",
       "      <td>36</td>\n",
       "      <td>1513</td>\n",
       "      <td>0.024390</td>\n",
       "      <td>PD47498</td>\n",
       "      <td>-</td>\n",
       "      <td>FLOT</td>\n",
       "    </tr>\n",
       "    <tr>\n",
       "      <th>...</th>\n",
       "      <td>...</td>\n",
       "      <td>...</td>\n",
       "      <td>...</td>\n",
       "      <td>...</td>\n",
       "      <td>...</td>\n",
       "      <td>...</td>\n",
       "      <td>...</td>\n",
       "      <td>...</td>\n",
       "      <td>...</td>\n",
       "      <td>...</td>\n",
       "      <td>...</td>\n",
       "      <td>...</td>\n",
       "      <td>...</td>\n",
       "      <td>...</td>\n",
       "      <td>...</td>\n",
       "      <td>...</td>\n",
       "      <td>...</td>\n",
       "      <td>...</td>\n",
       "      <td>...</td>\n",
       "      <td>...</td>\n",
       "      <td>...</td>\n",
       "    </tr>\n",
       "    <tr>\n",
       "      <th>4185</th>\n",
       "      <td>PD50080z</td>\n",
       "      <td>3</td>\n",
       "      <td>53766904</td>\n",
       "      <td>C</td>\n",
       "      <td>T</td>\n",
       "      <td>3 53766904 C T</td>\n",
       "      <td>0.000473</td>\n",
       "      <td>CACNA1D</td>\n",
       "      <td>CCDS2872.1</td>\n",
       "      <td>r.2714c&gt;u</td>\n",
       "      <td>...</td>\n",
       "      <td>2</td>\n",
       "      <td>5</td>\n",
       "      <td>249</td>\n",
       "      <td>175</td>\n",
       "      <td>7</td>\n",
       "      <td>424</td>\n",
       "      <td>0.008333</td>\n",
       "      <td>PD50080</td>\n",
       "      <td>-</td>\n",
       "      <td>FLOT</td>\n",
       "    </tr>\n",
       "    <tr>\n",
       "      <th>4186</th>\n",
       "      <td>PD50080z</td>\n",
       "      <td>6</td>\n",
       "      <td>74227923</td>\n",
       "      <td>G</td>\n",
       "      <td>A</td>\n",
       "      <td>6 74227923 G A</td>\n",
       "      <td>0.000358</td>\n",
       "      <td>EEF1A1</td>\n",
       "      <td>CCDS4980.1</td>\n",
       "      <td>r.2086c&gt;u</td>\n",
       "      <td>...</td>\n",
       "      <td>2</td>\n",
       "      <td>3</td>\n",
       "      <td>260</td>\n",
       "      <td>257</td>\n",
       "      <td>5</td>\n",
       "      <td>517</td>\n",
       "      <td>0.008333</td>\n",
       "      <td>PD50080</td>\n",
       "      <td>-</td>\n",
       "      <td>FLOT</td>\n",
       "    </tr>\n",
       "    <tr>\n",
       "      <th>4187</th>\n",
       "      <td>PD50080z</td>\n",
       "      <td>9</td>\n",
       "      <td>139412375</td>\n",
       "      <td>C</td>\n",
       "      <td>T</td>\n",
       "      <td>9 139412375 C T</td>\n",
       "      <td>0.001188</td>\n",
       "      <td>NOTCH1</td>\n",
       "      <td>CCDS43905.1</td>\n",
       "      <td>r.1346g&gt;a</td>\n",
       "      <td>...</td>\n",
       "      <td>3</td>\n",
       "      <td>4</td>\n",
       "      <td>46</td>\n",
       "      <td>100</td>\n",
       "      <td>7</td>\n",
       "      <td>146</td>\n",
       "      <td>0.008333</td>\n",
       "      <td>PD50080</td>\n",
       "      <td>-</td>\n",
       "      <td>FLOT</td>\n",
       "    </tr>\n",
       "    <tr>\n",
       "      <th>4188</th>\n",
       "      <td>PD50080z</td>\n",
       "      <td>19</td>\n",
       "      <td>15281554</td>\n",
       "      <td>C</td>\n",
       "      <td>T</td>\n",
       "      <td>19 15281554 C T</td>\n",
       "      <td>0.001234</td>\n",
       "      <td>NOTCH3</td>\n",
       "      <td>CCDS12326.1</td>\n",
       "      <td>r.4895g&gt;a</td>\n",
       "      <td>...</td>\n",
       "      <td>9</td>\n",
       "      <td>8</td>\n",
       "      <td>92</td>\n",
       "      <td>72</td>\n",
       "      <td>17</td>\n",
       "      <td>164</td>\n",
       "      <td>0.008333</td>\n",
       "      <td>PD50080</td>\n",
       "      <td>-</td>\n",
       "      <td>FLOT</td>\n",
       "    </tr>\n",
       "    <tr>\n",
       "      <th>4189</th>\n",
       "      <td>PD50080z</td>\n",
       "      <td>3</td>\n",
       "      <td>176744198</td>\n",
       "      <td>G</td>\n",
       "      <td>A</td>\n",
       "      <td>3 176744198 G A</td>\n",
       "      <td>0.000120</td>\n",
       "      <td>TBL1XR1</td>\n",
       "      <td>CCDS46961.1</td>\n",
       "      <td>r.1741c&gt;u</td>\n",
       "      <td>...</td>\n",
       "      <td>2</td>\n",
       "      <td>3</td>\n",
       "      <td>317</td>\n",
       "      <td>322</td>\n",
       "      <td>5</td>\n",
       "      <td>639</td>\n",
       "      <td>0.008333</td>\n",
       "      <td>PD50080</td>\n",
       "      <td>-</td>\n",
       "      <td>FLOT</td>\n",
       "    </tr>\n",
       "  </tbody>\n",
       "</table>\n",
       "<p>4190 rows × 28 columns</p>\n",
       "</div>"
      ],
      "text/plain": [
       "              sample chr        pos ref mut         mut_site  tum_globalvaf  \\\n",
       "0     PD47498_m00001   1   11177096   C   T   1 11177096 C T       0.000327   \n",
       "1     PD47498_m00003   1  120512170   C   T  1 120512170 C T       0.002034   \n",
       "2     PD47498_m00005  10   89692889   A   G  10 89692889 A G       0.001799   \n",
       "3     PD47498_m00008  12   46244697   C   T  12 46244697 C T       0.000323   \n",
       "4     PD47498_m00011  13   28880867   G   A  13 28880867 G A       0.000737   \n",
       "...              ...  ..        ...  ..  ..              ...            ...   \n",
       "4185        PD50080z   3   53766904   C   T   3 53766904 C T       0.000473   \n",
       "4186        PD50080z   6   74227923   G   A   6 74227923 G A       0.000358   \n",
       "4187        PD50080z   9  139412375   C   T  9 139412375 C T       0.001188   \n",
       "4188        PD50080z  19   15281554   C   T  19 15281554 C T       0.001234   \n",
       "4189        PD50080z   3  176744198   G   A  3 176744198 G A       0.000120   \n",
       "\n",
       "         gene   transcript   rna_desc  ... xfw_sum xbw_sum nfw_sum nbw_sum  \\\n",
       "0        MTOR    CCDS127.1  r.7058g>a  ...       8       7     743     687   \n",
       "1      NOTCH2    CCDS908.1  r.1292g>a  ...      61      28     574     232   \n",
       "2        PTEN  CCDS31238.1  r.1730a>g  ...      82      76     643     740   \n",
       "3       ARID2  CCDS31783.1  r.2963c>u  ...      19      19    1572    1618   \n",
       "4        FLT1   CCDS9330.1  r.4015c>u  ...      21      15     669     844   \n",
       "...       ...          ...        ...  ...     ...     ...     ...     ...   \n",
       "4185  CACNA1D   CCDS2872.1  r.2714c>u  ...       2       5     249     175   \n",
       "4186   EEF1A1   CCDS4980.1  r.2086c>u  ...       2       3     260     257   \n",
       "4187   NOTCH1  CCDS43905.1  r.1346g>a  ...       3       4      46     100   \n",
       "4188   NOTCH3  CCDS12326.1  r.4895g>a  ...       9       8      92      72   \n",
       "4189  TBL1XR1  CCDS46961.1  r.1741c>u  ...       2       3     317     322   \n",
       "\n",
       "      mutant_reads_sum depth_sum proportion_samples  subject  transcodon  \\\n",
       "0                   15      1430           0.016260  PD47498           -   \n",
       "1                   89       806           0.016260  PD47498           -   \n",
       "2                  158      1383           0.016260  PD47498           -   \n",
       "3                   38      3190           0.016260  PD47498           -   \n",
       "4                   36      1513           0.024390  PD47498           -   \n",
       "...                ...       ...                ...      ...         ...   \n",
       "4185                 7       424           0.008333  PD50080           -   \n",
       "4186                 5       517           0.008333  PD50080           -   \n",
       "4187                 7       146           0.008333  PD50080           -   \n",
       "4188                17       164           0.008333  PD50080           -   \n",
       "4189                 5       639           0.008333  PD50080           -   \n",
       "\n",
       "      Group  \n",
       "0      FLOT  \n",
       "1      FLOT  \n",
       "2      FLOT  \n",
       "3      FLOT  \n",
       "4      FLOT  \n",
       "...     ...  \n",
       "4185   FLOT  \n",
       "4186   FLOT  \n",
       "4187   FLOT  \n",
       "4188   FLOT  \n",
       "4189   FLOT  \n",
       "\n",
       "[4190 rows x 28 columns]"
      ]
     },
     "execution_count": 22,
     "metadata": {},
     "output_type": "execute_result"
    }
   ],
   "source": [
    "d_FLOT.data"
   ]
  },
  {
   "cell_type": "code",
   "execution_count": 23,
   "id": "bb03cf52",
   "metadata": {},
   "outputs": [],
   "source": [
    "data_cross = plot_boxplot2(s_cross)\n",
    "data_flot = plot_boxplot2(s_flot)\n",
    "data_nt= plot_boxplot2(s_nt)\n",
    "\n",
    "basedistcross = data_cross[0]\n",
    "crossdist = data_cross[1]\n",
    "basedistflot = data_flot[0]\n",
    "flotdist = data_flot[1]\n",
    "basedistnt = data_flot[0]\n",
    "ntdist = data_nt[1]\n",
    "\n",
    "basedistcross = pd.DataFrame(basedistcross)\n",
    "basedistcross[\"label\"] = \"base_cross\"\n",
    "basedistcross.columns = [\"score\", \"label\"]\n",
    "\n",
    "basedistflot = pd.DataFrame(basedistflot)\n",
    "basedistflot[\"label\"] = \"base_flot\"\n",
    "basedistflot.columns = [\"score\", \"label\"]\n",
    "\n",
    "basedistnt = pd.DataFrame(basedistnt)\n",
    "basedistnt[\"label\"] = \"base_nt\"\n",
    "basedistnt.columns = [\"score\", \"label\"]\n",
    "\n",
    "crossdist = pd.DataFrame(crossdist)\n",
    "crossdist[\"label\"] = \"cross\"\n",
    "\n",
    "flotdist = pd.DataFrame(flotdist)\n",
    "flotdist[\"label\"] = \"flot\"\n",
    "\n",
    "ntdist = pd.DataFrame(ntdist)\n",
    "ntdist[\"label\"] = \"nt\"\n",
    "\n",
    "testdist_cross = pd.DataFrame([-10])\n",
    "testdist_cross[\"label\"] = \"base_cross\"\n",
    "testdist_cross.columns = [\"score\", \"label\"]\n",
    "\n",
    "testdist_flot = pd.DataFrame([-10])\n",
    "testdist_flot[\"label\"] = \"base_flot\"\n",
    "testdist_flot.columns = [\"score\", \"label\"]\n",
    "\n",
    "testdist_nt = pd.DataFrame([-10])\n",
    "testdist_nt[\"label\"] = \"base_nt\"\n",
    "testdist_nt.columns = [\"score\", \"label\"]\n",
    "\n",
    "combined = pd.concat([basedistcross, crossdist, basedistflot, flotdist,basedistnt, ntdist], axis =0)\n",
    "combined2 = pd.concat([testdist_cross, crossdist,testdist_flot, flotdist,testdist_nt, ntdist], axis =0)"
   ]
  },
  {
   "cell_type": "code",
   "execution_count": 24,
   "id": "464f8e40",
   "metadata": {},
   "outputs": [],
   "source": [
    "new_prostate = []\n",
    "for item in SPOP_prostate:\n",
    "    newaa = one_to_three(item[0])\n",
    "    endaa = item[1:]\n",
    "    new_prostate.append(newaa + \"A\" + endaa)\n",
    "    \n",
    "foldx_data = pd.read_csv(\"../Foldx_binding/3HQI/chainA/PS_f0_scanning_output.txt\", sep = \"\\t\", names= [\"Mut\", \"DDG\"])"
   ]
  },
  {
   "cell_type": "code",
   "execution_count": 25,
   "id": "35f1d083",
   "metadata": {},
   "outputs": [
    {
     "name": "stderr",
     "output_type": "stream",
     "text": [
      "/var/folders/d9/4lyh6rdd5mdbxby_y5lwsy180000gn/T/ipykernel_280/4283511422.py:3: SettingWithCopyWarning: \n",
      "A value is trying to be set on a copy of a slice from a DataFrame.\n",
      "Try using .loc[row_indexer,col_indexer] = value instead\n",
      "\n",
      "See the caveats in the documentation: https://pandas.pydata.org/pandas-docs/stable/user_guide/indexing.html#returning-a-view-versus-a-copy\n",
      "  prostate_mutations[\"label\"] = \"Prostate\"\n"
     ]
    }
   ],
   "source": [
    "prostate_mutations = foldx_data[foldx_data[\"Mut\"].isin(new_prostate)]\n",
    "\n",
    "prostate_mutations[\"label\"] = \"Prostate\"\n",
    "prostate_mutations = prostate_mutations[[\"DDG\", \"label\"]]\n",
    "prostate_mutations.columns = [\"score\", \"label\"]"
   ]
  },
  {
   "cell_type": "code",
   "execution_count": 26,
   "id": "37a0686d",
   "metadata": {},
   "outputs": [],
   "source": [
    "combined = pd.concat([basedistcross, crossdist, prostate_mutations, basedistflot, flotdist, basedistnt, ntdist ], axis =0)\n",
    "combined2 = pd.concat([testdist_cross, crossdist,prostate_mutations, testdist_flot, flotdist,testdist_nt, ntdist], axis =0)"
   ]
  },
  {
   "cell_type": "code",
   "execution_count": 27,
   "id": "9bbbfdd6",
   "metadata": {},
   "outputs": [],
   "source": [
    "plt.rcParams['figure.figsize'] = [8, 5]"
   ]
  },
  {
   "cell_type": "code",
   "execution_count": 28,
   "id": "af621416",
   "metadata": {},
   "outputs": [
    {
     "name": "stderr",
     "output_type": "stream",
     "text": [
      "/var/folders/d9/4lyh6rdd5mdbxby_y5lwsy180000gn/T/ipykernel_280/2536986147.py:43: UserWarning: FixedFormatter should only be used together with FixedLocator\n",
      "  g.set_yticklabels(g.get_yticklabels(), size = 14)\n"
     ]
    },
    {
     "data": {
      "image/png": "[encoded data removed]",
      "text/plain": [
       "<Figure size 800x500 with 1 Axes>"
      ]
     },
     "metadata": {},
     "output_type": "display_data"
    }
   ],
   "source": [
    "fig, ax = plt.subplots()\n",
    "\n",
    "PROPS = {\n",
    "    'boxprops':{'facecolor':'none', 'edgecolor':'black'},\n",
    "    'medianprops':{'color':'black'},\n",
    "    'whiskerprops':{'color':'black'},\n",
    "    'capprops':{'color':'black'}\n",
    "}\n",
    "\n",
    "g = sns.boxplot(data = combined, x = \"label\", y = \"score\"\n",
    "                , palette = [\"k\", \"w\", \"w\", \"#E0995E\", \"w\", \"#668AB8\", \"w\", \"w\"], showfliers = False)\n",
    "for patch in ax.patches:\n",
    "    r, g1, b, a = patch.get_facecolor()\n",
    "    patch.set_facecolor((r, g1, b, 0.6))\n",
    "\n",
    "g2 = sns.stripplot(data = combined2, x = \"label\", y = \"score\", palette=[\"w\", \"k\", \"pink\", \"w\",\"#E0995E\", \"w\",\"#668AB8\"], size = 10)\n",
    "\n",
    "x1, x2 = 0, 1  \n",
    "y, h, col = 12.5, 0, 'k'\n",
    "plt.plot([x1, x1, x2, x2], [y, y+h, y+h, y], lw=1.5, c=col)\n",
    "plt.text((x1+x2)*.5, y+h+1.5, \"p = 0.008\", ha='center', va='bottom', color=col, size = 14)\n",
    "\n",
    "\n",
    "x1, x2 = 3, 4  \n",
    "y, h, col = 1.5, 0, 'k'\n",
    "plt.plot([x1, x1, x2, x2], [y, y+h, y+h, y], lw=1.5, c=col)\n",
    "plt.text((x1+x2)*.5, y+h+.1, \"p = 0.484\", ha='center', va='bottom', color=col, size = 14)\n",
    "\n",
    "x1, x2 = 5, 6  \n",
    "y, h, col = 1.5, 0, 'k'\n",
    "plt.plot([x1, x1, x2, x2], [y, y+h, y+h, y], lw=1.5, c=col)\n",
    "plt.text((x1+x2)*.5, y+h+.1, \"p = 0.210\", ha='center', va='bottom', color=col, size = 14)\n",
    "\n",
    "x1, x2 = 1, 2  \n",
    "y, h, col = 30, 0, 'k'\n",
    "plt.plot([x1, x1, x2, x2], [y, y+h, y+h, y], lw=1.5, c=col)\n",
    "plt.text((x1+x2)*.5, y+h+3, \"p = 0.236\", ha='center', va='bottom', color=col, size = 14)\n",
    "\n",
    "g.set_xlabel(\"\")\n",
    "g.set_xticklabels([\"CROSS \\n Expected\", \"CROSS\", \"Prostate\", \"FLOT \\n Expected\", \"FLOT\", \"NT \\n Expected\", \"NT\"], size = 14)\n",
    "\n",
    "g.set_ylabel(\"Change in ligand binding energy (kcal/mol)\", size = 14)\n",
    "g.set_yticklabels(g.get_yticklabels(), size = 14)\n",
    "ax.set_yscale(\"symlog\")\n",
    "ax.set_ylim(-3, 50)\n",
    "sns.despine()\n",
    "\n",
    "plt.savefig(\"SPOP_binding_energy.pdf\", bbox_inches = \"tight\")"
   ]
  },
  {
   "cell_type": "markdown",
   "id": "b02328ca",
   "metadata": {},
   "source": [
    "## Foldx DDG"
   ]
  },
  {
   "cell_type": "code",
   "execution_count": 29,
   "id": "1e01ce23",
   "metadata": {},
   "outputs": [],
   "source": [
    "from darwinian_shift import FoldXLookup\n",
    "\n",
    "fold = FoldXLookup(foldx_results_directory = \"../Foldx/\",\n",
    "                  sifts_directory = \".\",\n",
    "                  download_sifts=True)\n",
    "\n",
    "SPOP = {\n",
    "    \"gene\": \"SPOP\",\n",
    "    \"pdb_id\": \"3HQI\",\n",
    "    \"pdb_chain\": \"A\",\n",
    "}"
   ]
  },
  {
   "cell_type": "code",
   "execution_count": 30,
   "id": "7ddab20f",
   "metadata": {},
   "outputs": [
    {
     "ename": "FileNotFoundError",
     "evalue": "[Errno 2] No such file or directory: '../Foldx/3HQI/ChainA/PS_f0_scanning_output_MYRIAD.txt'",
     "output_type": "error",
     "traceback": [
      "\u001b[0;31m---------------------------------------------------------------------------\u001b[0m",
      "\u001b[0;31mFileNotFoundError\u001b[0m                         Traceback (most recent call last)",
      "Cell \u001b[0;32mIn [30], line 1\u001b[0m\n\u001b[0;32m----> 1\u001b[0m myriad_spop \u001b[38;5;241m=\u001b[39m \u001b[43mpd\u001b[49m\u001b[38;5;241;43m.\u001b[39;49m\u001b[43mread_csv\u001b[49m\u001b[43m(\u001b[49m\u001b[38;5;124;43m\"\u001b[39;49m\u001b[38;5;124;43m../Foldx/3HQI/ChainA/PS_f0_scanning_output_MYRIAD.txt\u001b[39;49m\u001b[38;5;124;43m\"\u001b[39;49m\u001b[43m)\u001b[49m\n",
      "File \u001b[0;32m~/anaconda3/envs/dsenv/lib/python3.8/site-packages/pandas/util/_decorators.py:311\u001b[0m, in \u001b[0;36mdeprecate_nonkeyword_arguments.<locals>.decorate.<locals>.wrapper\u001b[0;34m(*args, **kwargs)\u001b[0m\n\u001b[1;32m    305\u001b[0m \u001b[38;5;28;01mif\u001b[39;00m \u001b[38;5;28mlen\u001b[39m(args) \u001b[38;5;241m>\u001b[39m num_allow_args:\n\u001b[1;32m    306\u001b[0m     warnings\u001b[38;5;241m.\u001b[39mwarn(\n\u001b[1;32m    307\u001b[0m         msg\u001b[38;5;241m.\u001b[39mformat(arguments\u001b[38;5;241m=\u001b[39marguments),\n\u001b[1;32m    308\u001b[0m         \u001b[38;5;167;01mFutureWarning\u001b[39;00m,\n\u001b[1;32m    309\u001b[0m         stacklevel\u001b[38;5;241m=\u001b[39mstacklevel,\n\u001b[1;32m    310\u001b[0m     )\n\u001b[0;32m--> 311\u001b[0m \u001b[38;5;28;01mreturn\u001b[39;00m \u001b[43mfunc\u001b[49m\u001b[43m(\u001b[49m\u001b[38;5;241;43m*\u001b[39;49m\u001b[43margs\u001b[49m\u001b[43m,\u001b[49m\u001b[43m \u001b[49m\u001b[38;5;241;43m*\u001b[39;49m\u001b[38;5;241;43m*\u001b[39;49m\u001b[43mkwargs\u001b[49m\u001b[43m)\u001b[49m\n",
      "File \u001b[0;32m~/anaconda3/envs/dsenv/lib/python3.8/site-packages/pandas/io/parsers/readers.py:586\u001b[0m, in \u001b[0;36mread_csv\u001b[0;34m(filepath_or_buffer, sep, delimiter, header, names, index_col, usecols, squeeze, prefix, mangle_dupe_cols, dtype, engine, converters, true_values, false_values, skipinitialspace, skiprows, skipfooter, nrows, na_values, keep_default_na, na_filter, verbose, skip_blank_lines, parse_dates, infer_datetime_format, keep_date_col, date_parser, dayfirst, cache_dates, iterator, chunksize, compression, thousands, decimal, lineterminator, quotechar, quoting, doublequote, escapechar, comment, encoding, encoding_errors, dialect, error_bad_lines, warn_bad_lines, on_bad_lines, delim_whitespace, low_memory, memory_map, float_precision, storage_options)\u001b[0m\n\u001b[1;32m    571\u001b[0m kwds_defaults \u001b[38;5;241m=\u001b[39m _refine_defaults_read(\n\u001b[1;32m    572\u001b[0m     dialect,\n\u001b[1;32m    573\u001b[0m     delimiter,\n\u001b[0;32m   (...)\u001b[0m\n\u001b[1;32m    582\u001b[0m     defaults\u001b[38;5;241m=\u001b[39m{\u001b[38;5;124m\"\u001b[39m\u001b[38;5;124mdelimiter\u001b[39m\u001b[38;5;124m\"\u001b[39m: \u001b[38;5;124m\"\u001b[39m\u001b[38;5;124m,\u001b[39m\u001b[38;5;124m\"\u001b[39m},\n\u001b[1;32m    583\u001b[0m )\n\u001b[1;32m    584\u001b[0m kwds\u001b[38;5;241m.\u001b[39mupdate(kwds_defaults)\n\u001b[0;32m--> 586\u001b[0m \u001b[38;5;28;01mreturn\u001b[39;00m \u001b[43m_read\u001b[49m\u001b[43m(\u001b[49m\u001b[43mfilepath_or_buffer\u001b[49m\u001b[43m,\u001b[49m\u001b[43m \u001b[49m\u001b[43mkwds\u001b[49m\u001b[43m)\u001b[49m\n",
      "File \u001b[0;32m~/anaconda3/envs/dsenv/lib/python3.8/site-packages/pandas/io/parsers/readers.py:482\u001b[0m, in \u001b[0;36m_read\u001b[0;34m(filepath_or_buffer, kwds)\u001b[0m\n\u001b[1;32m    479\u001b[0m _validate_names(kwds\u001b[38;5;241m.\u001b[39mget(\u001b[38;5;124m\"\u001b[39m\u001b[38;5;124mnames\u001b[39m\u001b[38;5;124m\"\u001b[39m, \u001b[38;5;28;01mNone\u001b[39;00m))\n\u001b[1;32m    481\u001b[0m \u001b[38;5;66;03m# Create the parser.\u001b[39;00m\n\u001b[0;32m--> 482\u001b[0m parser \u001b[38;5;241m=\u001b[39m \u001b[43mTextFileReader\u001b[49m\u001b[43m(\u001b[49m\u001b[43mfilepath_or_buffer\u001b[49m\u001b[43m,\u001b[49m\u001b[43m \u001b[49m\u001b[38;5;241;43m*\u001b[39;49m\u001b[38;5;241;43m*\u001b[39;49m\u001b[43mkwds\u001b[49m\u001b[43m)\u001b[49m\n\u001b[1;32m    484\u001b[0m \u001b[38;5;28;01mif\u001b[39;00m chunksize \u001b[38;5;129;01mor\u001b[39;00m iterator:\n\u001b[1;32m    485\u001b[0m     \u001b[38;5;28;01mreturn\u001b[39;00m parser\n",
      "File \u001b[0;32m~/anaconda3/envs/dsenv/lib/python3.8/site-packages/pandas/io/parsers/readers.py:811\u001b[0m, in \u001b[0;36mTextFileReader.__init__\u001b[0;34m(self, f, engine, **kwds)\u001b[0m\n\u001b[1;32m    808\u001b[0m \u001b[38;5;28;01mif\u001b[39;00m \u001b[38;5;124m\"\u001b[39m\u001b[38;5;124mhas_index_names\u001b[39m\u001b[38;5;124m\"\u001b[39m \u001b[38;5;129;01min\u001b[39;00m kwds:\n\u001b[1;32m    809\u001b[0m     \u001b[38;5;28mself\u001b[39m\u001b[38;5;241m.\u001b[39moptions[\u001b[38;5;124m\"\u001b[39m\u001b[38;5;124mhas_index_names\u001b[39m\u001b[38;5;124m\"\u001b[39m] \u001b[38;5;241m=\u001b[39m kwds[\u001b[38;5;124m\"\u001b[39m\u001b[38;5;124mhas_index_names\u001b[39m\u001b[38;5;124m\"\u001b[39m]\n\u001b[0;32m--> 811\u001b[0m \u001b[38;5;28mself\u001b[39m\u001b[38;5;241m.\u001b[39m_engine \u001b[38;5;241m=\u001b[39m \u001b[38;5;28;43mself\u001b[39;49m\u001b[38;5;241;43m.\u001b[39;49m\u001b[43m_make_engine\u001b[49m\u001b[43m(\u001b[49m\u001b[38;5;28;43mself\u001b[39;49m\u001b[38;5;241;43m.\u001b[39;49m\u001b[43mengine\u001b[49m\u001b[43m)\u001b[49m\n",
      "File \u001b[0;32m~/anaconda3/envs/dsenv/lib/python3.8/site-packages/pandas/io/parsers/readers.py:1040\u001b[0m, in \u001b[0;36mTextFileReader._make_engine\u001b[0;34m(self, engine)\u001b[0m\n\u001b[1;32m   1036\u001b[0m     \u001b[38;5;28;01mraise\u001b[39;00m \u001b[38;5;167;01mValueError\u001b[39;00m(\n\u001b[1;32m   1037\u001b[0m         \u001b[38;5;124mf\u001b[39m\u001b[38;5;124m\"\u001b[39m\u001b[38;5;124mUnknown engine: \u001b[39m\u001b[38;5;132;01m{\u001b[39;00mengine\u001b[38;5;132;01m}\u001b[39;00m\u001b[38;5;124m (valid options are \u001b[39m\u001b[38;5;132;01m{\u001b[39;00mmapping\u001b[38;5;241m.\u001b[39mkeys()\u001b[38;5;132;01m}\u001b[39;00m\u001b[38;5;124m)\u001b[39m\u001b[38;5;124m\"\u001b[39m\n\u001b[1;32m   1038\u001b[0m     )\n\u001b[1;32m   1039\u001b[0m \u001b[38;5;66;03m# error: Too many arguments for \"ParserBase\"\u001b[39;00m\n\u001b[0;32m-> 1040\u001b[0m \u001b[38;5;28;01mreturn\u001b[39;00m \u001b[43mmapping\u001b[49m\u001b[43m[\u001b[49m\u001b[43mengine\u001b[49m\u001b[43m]\u001b[49m\u001b[43m(\u001b[49m\u001b[38;5;28;43mself\u001b[39;49m\u001b[38;5;241;43m.\u001b[39;49m\u001b[43mf\u001b[49m\u001b[43m,\u001b[49m\u001b[43m \u001b[49m\u001b[38;5;241;43m*\u001b[39;49m\u001b[38;5;241;43m*\u001b[39;49m\u001b[38;5;28;43mself\u001b[39;49m\u001b[38;5;241;43m.\u001b[39;49m\u001b[43moptions\u001b[49m\u001b[43m)\u001b[49m\n",
      "File \u001b[0;32m~/anaconda3/envs/dsenv/lib/python3.8/site-packages/pandas/io/parsers/c_parser_wrapper.py:51\u001b[0m, in \u001b[0;36mCParserWrapper.__init__\u001b[0;34m(self, src, **kwds)\u001b[0m\n\u001b[1;32m     48\u001b[0m kwds[\u001b[38;5;124m\"\u001b[39m\u001b[38;5;124musecols\u001b[39m\u001b[38;5;124m\"\u001b[39m] \u001b[38;5;241m=\u001b[39m \u001b[38;5;28mself\u001b[39m\u001b[38;5;241m.\u001b[39musecols\n\u001b[1;32m     50\u001b[0m \u001b[38;5;66;03m# open handles\u001b[39;00m\n\u001b[0;32m---> 51\u001b[0m \u001b[38;5;28;43mself\u001b[39;49m\u001b[38;5;241;43m.\u001b[39;49m\u001b[43m_open_handles\u001b[49m\u001b[43m(\u001b[49m\u001b[43msrc\u001b[49m\u001b[43m,\u001b[49m\u001b[43m \u001b[49m\u001b[43mkwds\u001b[49m\u001b[43m)\u001b[49m\n\u001b[1;32m     52\u001b[0m \u001b[38;5;28;01massert\u001b[39;00m \u001b[38;5;28mself\u001b[39m\u001b[38;5;241m.\u001b[39mhandles \u001b[38;5;129;01mis\u001b[39;00m \u001b[38;5;129;01mnot\u001b[39;00m \u001b[38;5;28;01mNone\u001b[39;00m\n\u001b[1;32m     54\u001b[0m \u001b[38;5;66;03m# Have to pass int, would break tests using TextReader directly otherwise :(\u001b[39;00m\n",
      "File \u001b[0;32m~/anaconda3/envs/dsenv/lib/python3.8/site-packages/pandas/io/parsers/base_parser.py:222\u001b[0m, in \u001b[0;36mParserBase._open_handles\u001b[0;34m(self, src, kwds)\u001b[0m\n\u001b[1;32m    218\u001b[0m \u001b[38;5;28;01mdef\u001b[39;00m \u001b[38;5;21m_open_handles\u001b[39m(\u001b[38;5;28mself\u001b[39m, src: FilePathOrBuffer, kwds: \u001b[38;5;28mdict\u001b[39m[\u001b[38;5;28mstr\u001b[39m, Any]) \u001b[38;5;241m-\u001b[39m\u001b[38;5;241m>\u001b[39m \u001b[38;5;28;01mNone\u001b[39;00m:\n\u001b[1;32m    219\u001b[0m     \u001b[38;5;124;03m\"\"\"\u001b[39;00m\n\u001b[1;32m    220\u001b[0m \u001b[38;5;124;03m    Let the readers open IOHandles after they are done with their potential raises.\u001b[39;00m\n\u001b[1;32m    221\u001b[0m \u001b[38;5;124;03m    \"\"\"\u001b[39;00m\n\u001b[0;32m--> 222\u001b[0m     \u001b[38;5;28mself\u001b[39m\u001b[38;5;241m.\u001b[39mhandles \u001b[38;5;241m=\u001b[39m \u001b[43mget_handle\u001b[49m\u001b[43m(\u001b[49m\n\u001b[1;32m    223\u001b[0m \u001b[43m        \u001b[49m\u001b[43msrc\u001b[49m\u001b[43m,\u001b[49m\n\u001b[1;32m    224\u001b[0m \u001b[43m        \u001b[49m\u001b[38;5;124;43m\"\u001b[39;49m\u001b[38;5;124;43mr\u001b[39;49m\u001b[38;5;124;43m\"\u001b[39;49m\u001b[43m,\u001b[49m\n\u001b[1;32m    225\u001b[0m \u001b[43m        \u001b[49m\u001b[43mencoding\u001b[49m\u001b[38;5;241;43m=\u001b[39;49m\u001b[43mkwds\u001b[49m\u001b[38;5;241;43m.\u001b[39;49m\u001b[43mget\u001b[49m\u001b[43m(\u001b[49m\u001b[38;5;124;43m\"\u001b[39;49m\u001b[38;5;124;43mencoding\u001b[39;49m\u001b[38;5;124;43m\"\u001b[39;49m\u001b[43m,\u001b[49m\u001b[43m \u001b[49m\u001b[38;5;28;43;01mNone\u001b[39;49;00m\u001b[43m)\u001b[49m\u001b[43m,\u001b[49m\n\u001b[1;32m    226\u001b[0m \u001b[43m        \u001b[49m\u001b[43mcompression\u001b[49m\u001b[38;5;241;43m=\u001b[39;49m\u001b[43mkwds\u001b[49m\u001b[38;5;241;43m.\u001b[39;49m\u001b[43mget\u001b[49m\u001b[43m(\u001b[49m\u001b[38;5;124;43m\"\u001b[39;49m\u001b[38;5;124;43mcompression\u001b[39;49m\u001b[38;5;124;43m\"\u001b[39;49m\u001b[43m,\u001b[49m\u001b[43m \u001b[49m\u001b[38;5;28;43;01mNone\u001b[39;49;00m\u001b[43m)\u001b[49m\u001b[43m,\u001b[49m\n\u001b[1;32m    227\u001b[0m \u001b[43m        \u001b[49m\u001b[43mmemory_map\u001b[49m\u001b[38;5;241;43m=\u001b[39;49m\u001b[43mkwds\u001b[49m\u001b[38;5;241;43m.\u001b[39;49m\u001b[43mget\u001b[49m\u001b[43m(\u001b[49m\u001b[38;5;124;43m\"\u001b[39;49m\u001b[38;5;124;43mmemory_map\u001b[39;49m\u001b[38;5;124;43m\"\u001b[39;49m\u001b[43m,\u001b[49m\u001b[43m \u001b[49m\u001b[38;5;28;43;01mFalse\u001b[39;49;00m\u001b[43m)\u001b[49m\u001b[43m,\u001b[49m\n\u001b[1;32m    228\u001b[0m \u001b[43m        \u001b[49m\u001b[43mstorage_options\u001b[49m\u001b[38;5;241;43m=\u001b[39;49m\u001b[43mkwds\u001b[49m\u001b[38;5;241;43m.\u001b[39;49m\u001b[43mget\u001b[49m\u001b[43m(\u001b[49m\u001b[38;5;124;43m\"\u001b[39;49m\u001b[38;5;124;43mstorage_options\u001b[39;49m\u001b[38;5;124;43m\"\u001b[39;49m\u001b[43m,\u001b[49m\u001b[43m \u001b[49m\u001b[38;5;28;43;01mNone\u001b[39;49;00m\u001b[43m)\u001b[49m\u001b[43m,\u001b[49m\n\u001b[1;32m    229\u001b[0m \u001b[43m        \u001b[49m\u001b[43merrors\u001b[49m\u001b[38;5;241;43m=\u001b[39;49m\u001b[43mkwds\u001b[49m\u001b[38;5;241;43m.\u001b[39;49m\u001b[43mget\u001b[49m\u001b[43m(\u001b[49m\u001b[38;5;124;43m\"\u001b[39;49m\u001b[38;5;124;43mencoding_errors\u001b[39;49m\u001b[38;5;124;43m\"\u001b[39;49m\u001b[43m,\u001b[49m\u001b[43m \u001b[49m\u001b[38;5;124;43m\"\u001b[39;49m\u001b[38;5;124;43mstrict\u001b[39;49m\u001b[38;5;124;43m\"\u001b[39;49m\u001b[43m)\u001b[49m\u001b[43m,\u001b[49m\n\u001b[1;32m    230\u001b[0m \u001b[43m    \u001b[49m\u001b[43m)\u001b[49m\n",
      "File \u001b[0;32m~/anaconda3/envs/dsenv/lib/python3.8/site-packages/pandas/io/common.py:702\u001b[0m, in \u001b[0;36mget_handle\u001b[0;34m(path_or_buf, mode, encoding, compression, memory_map, is_text, errors, storage_options)\u001b[0m\n\u001b[1;32m    697\u001b[0m \u001b[38;5;28;01melif\u001b[39;00m \u001b[38;5;28misinstance\u001b[39m(handle, \u001b[38;5;28mstr\u001b[39m):\n\u001b[1;32m    698\u001b[0m     \u001b[38;5;66;03m# Check whether the filename is to be opened in binary mode.\u001b[39;00m\n\u001b[1;32m    699\u001b[0m     \u001b[38;5;66;03m# Binary mode does not support 'encoding' and 'newline'.\u001b[39;00m\n\u001b[1;32m    700\u001b[0m     \u001b[38;5;28;01mif\u001b[39;00m ioargs\u001b[38;5;241m.\u001b[39mencoding \u001b[38;5;129;01mand\u001b[39;00m \u001b[38;5;124m\"\u001b[39m\u001b[38;5;124mb\u001b[39m\u001b[38;5;124m\"\u001b[39m \u001b[38;5;129;01mnot\u001b[39;00m \u001b[38;5;129;01min\u001b[39;00m ioargs\u001b[38;5;241m.\u001b[39mmode:\n\u001b[1;32m    701\u001b[0m         \u001b[38;5;66;03m# Encoding\u001b[39;00m\n\u001b[0;32m--> 702\u001b[0m         handle \u001b[38;5;241m=\u001b[39m \u001b[38;5;28;43mopen\u001b[39;49m\u001b[43m(\u001b[49m\n\u001b[1;32m    703\u001b[0m \u001b[43m            \u001b[49m\u001b[43mhandle\u001b[49m\u001b[43m,\u001b[49m\n\u001b[1;32m    704\u001b[0m \u001b[43m            \u001b[49m\u001b[43mioargs\u001b[49m\u001b[38;5;241;43m.\u001b[39;49m\u001b[43mmode\u001b[49m\u001b[43m,\u001b[49m\n\u001b[1;32m    705\u001b[0m \u001b[43m            \u001b[49m\u001b[43mencoding\u001b[49m\u001b[38;5;241;43m=\u001b[39;49m\u001b[43mioargs\u001b[49m\u001b[38;5;241;43m.\u001b[39;49m\u001b[43mencoding\u001b[49m\u001b[43m,\u001b[49m\n\u001b[1;32m    706\u001b[0m \u001b[43m            \u001b[49m\u001b[43merrors\u001b[49m\u001b[38;5;241;43m=\u001b[39;49m\u001b[43merrors\u001b[49m\u001b[43m,\u001b[49m\n\u001b[1;32m    707\u001b[0m \u001b[43m            \u001b[49m\u001b[43mnewline\u001b[49m\u001b[38;5;241;43m=\u001b[39;49m\u001b[38;5;124;43m\"\u001b[39;49m\u001b[38;5;124;43m\"\u001b[39;49m\u001b[43m,\u001b[49m\n\u001b[1;32m    708\u001b[0m \u001b[43m        \u001b[49m\u001b[43m)\u001b[49m\n\u001b[1;32m    709\u001b[0m     \u001b[38;5;28;01melse\u001b[39;00m:\n\u001b[1;32m    710\u001b[0m         \u001b[38;5;66;03m# Binary mode\u001b[39;00m\n\u001b[1;32m    711\u001b[0m         handle \u001b[38;5;241m=\u001b[39m \u001b[38;5;28mopen\u001b[39m(handle, ioargs\u001b[38;5;241m.\u001b[39mmode)\n",
      "\u001b[0;31mFileNotFoundError\u001b[0m: [Errno 2] No such file or directory: '../Foldx/3HQI/ChainA/PS_f0_scanning_output_MYRIAD.txt'"
     ]
    }
   ],
   "source": [
    "myriad_spop = pd.read_csv(\"../Foldx/3HQI/ChainA/PS_f0_scanning_output_MYRIAD.txt\")"
   ]
  },
  {
   "cell_type": "code",
   "execution_count": null,
   "id": "010aa00f",
   "metadata": {},
   "outputs": [],
   "source": [
    "subset = myriad_spop[[\"pdb_mut\", \"ddg\"]]"
   ]
  },
  {
   "cell_type": "code",
   "execution_count": null,
   "id": "76efbe71",
   "metadata": {},
   "outputs": [],
   "source": [
    "subset.to_csv(\"../Foldx/3HQI/ChainA/PS_f0_scanning_output.txt\", index = False, header=False, sep = \"\\t\")"
   ]
  },
  {
   "cell_type": "markdown",
   "id": "f963eea5",
   "metadata": {},
   "source": [
    "## CROSS"
   ]
  },
  {
   "cell_type": "code",
   "execution_count": null,
   "id": "d5f11a24",
   "metadata": {},
   "outputs": [],
   "source": [
    "s_cross = d_CROSS.run_section(SPOP, lookup=fold, statistics = [MonteCarloTest(stat_function=np.mean, name = \"MC_Mean\"),\n",
    "                                                                     MonteCarloTest(stat_function=np.median, name = \"MC_Median\"),\n",
    "                                                                     CDFMonteCarloTest()])"
   ]
  },
  {
   "cell_type": "code",
   "execution_count": null,
   "id": "0d29ef12",
   "metadata": {},
   "outputs": [],
   "source": [
    "s_cross.get_pvalues()"
   ]
  },
  {
   "cell_type": "markdown",
   "id": "35e37eb7",
   "metadata": {},
   "source": [
    "## FLOT"
   ]
  },
  {
   "cell_type": "code",
   "execution_count": null,
   "id": "35bbeb27",
   "metadata": {},
   "outputs": [],
   "source": [
    "s_flot = d_FLOT.run_section(SPOP, lookup=fold, statistics = [MonteCarloTest(stat_function=np.mean, name = \"MC_Mean\"),\n",
    "                                                                     MonteCarloTest(stat_function=np.median, name = \"MC_Median\"),\n",
    "                                                                     CDFMonteCarloTest()])"
   ]
  },
  {
   "cell_type": "code",
   "execution_count": null,
   "id": "4695678f",
   "metadata": {},
   "outputs": [],
   "source": [
    "s_flot.get_pvalues()"
   ]
  },
  {
   "cell_type": "markdown",
   "id": "d7c59d17",
   "metadata": {},
   "source": [
    "## NT"
   ]
  },
  {
   "cell_type": "code",
   "execution_count": null,
   "id": "711d8dbb",
   "metadata": {},
   "outputs": [],
   "source": [
    "s_nt = d_NT.run_section(SPOP, lookup=fold, statistics = [MonteCarloTest(stat_function=np.mean, name = \"MC_Mean\"),\n",
    "                                                                     MonteCarloTest(stat_function=np.median, name = \"MC_Median\"),\n",
    "                                                                     CDFMonteCarloTest()])"
   ]
  },
  {
   "cell_type": "code",
   "execution_count": null,
   "id": "2120c0b5",
   "metadata": {},
   "outputs": [],
   "source": [
    "s_nt.get_pvalues()"
   ]
  },
  {
   "cell_type": "markdown",
   "id": "1769216a",
   "metadata": {},
   "source": [
    "## Plotting"
   ]
  },
  {
   "cell_type": "code",
   "execution_count": null,
   "id": "5d1b0952",
   "metadata": {},
   "outputs": [],
   "source": [
    "data_cross = plot_boxplot2(s_cross)\n",
    "data_flot = plot_boxplot2(s_flot)\n",
    "data_nt= plot_boxplot2(s_nt)\n",
    "\n",
    "basedistcross = data_cross[0]\n",
    "crossdist = data_cross[1]\n",
    "basedistflot = data_flot[0]\n",
    "flotdist = data_flot[1]\n",
    "basedistnt = data_flot[0]\n",
    "ntdist = data_nt[1]\n",
    "\n",
    "basedistcross = pd.DataFrame(basedistcross)\n",
    "basedistcross[\"label\"] = \"base_cross\"\n",
    "basedistcross.columns = [\"score\", \"label\"]\n",
    "\n",
    "basedistflot = pd.DataFrame(basedistflot)\n",
    "basedistflot[\"label\"] = \"base_flot\"\n",
    "basedistflot.columns = [\"score\", \"label\"]\n",
    "\n",
    "basedistnt = pd.DataFrame(basedistnt)\n",
    "basedistnt[\"label\"] = \"base_nt\"\n",
    "basedistnt.columns = [\"score\", \"label\"]\n",
    "\n",
    "crossdist = pd.DataFrame(crossdist)\n",
    "crossdist[\"label\"] = \"cross\"\n",
    "\n",
    "flotdist = pd.DataFrame(flotdist)\n",
    "flotdist[\"label\"] = \"flot\"\n",
    "\n",
    "ntdist = pd.DataFrame(ntdist)\n",
    "ntdist[\"label\"] = \"nt\"\n",
    "\n",
    "testdist_cross = pd.DataFrame([-15])\n",
    "testdist_cross[\"label\"] = \"base_cross\"\n",
    "testdist_cross.columns = [\"score\", \"label\"]\n",
    "\n",
    "testdist_flot = pd.DataFrame([-15])\n",
    "testdist_flot[\"label\"] = \"base_flot\"\n",
    "testdist_flot.columns = [\"score\", \"label\"]\n",
    "\n",
    "testdist_nt = pd.DataFrame([-15])\n",
    "testdist_nt[\"label\"] = \"base_nt\"\n",
    "testdist_nt.columns = [\"score\", \"label\"]\n",
    "\n",
    "combined = pd.concat([basedistcross, crossdist, basedistflot, flotdist,basedistnt, ntdist], axis =0)\n",
    "combined2 = pd.concat([testdist_cross, crossdist,testdist_flot, flotdist,testdist_nt, ntdist], axis =0)"
   ]
  },
  {
   "cell_type": "code",
   "execution_count": null,
   "id": "12635012",
   "metadata": {},
   "outputs": [],
   "source": [
    "plt.rcParams['figure.figsize'] = [8, 6]"
   ]
  },
  {
   "cell_type": "code",
   "execution_count": null,
   "id": "f78a7ee0",
   "metadata": {},
   "outputs": [],
   "source": [
    " fig, ax = plt.subplots()\n",
    "\n",
    "PROPS = {\n",
    "    'boxprops':{'facecolor':'none', 'edgecolor':'black'},\n",
    "    'medianprops':{'color':'black'},\n",
    "    'whiskerprops':{'color':'black'},\n",
    "    'capprops':{'color':'black'}\n",
    "}\n",
    "\n",
    "\n",
    "g = sns.boxplot(data = combined, x = \"label\", y = \"score\"\n",
    "                , palette = [\"k\", \"w\", \"#E0995E\", \"w\", \"#668AB8\", \"w\"], showfliers = False)\n",
    "for patch in ax.patches:\n",
    "    r, g1, b, a = patch.get_facecolor()\n",
    "    patch.set_facecolor((r, g1, b, 0.6))\n",
    "\n",
    "g2 = sns.stripplot(data = combined2, x = \"label\", y = \"score\", palette=[\"w\", \"k\",\"w\", \"#E0995E\",\"w\", \"#668AB8\"], size = 10)\n",
    "\n",
    "x1, x2 = 0, 1  \n",
    "y, h, col = 32, 0, 'k'\n",
    "plt.plot([x1, x1, x2, x2], [y, y+h, y+h, y], lw=1.5, c=col)\n",
    "plt.text((x1+x2)*.5, y+h+0.2, \"p = 0.049\", ha='center', va='bottom', color=col, size = 14)\n",
    "\n",
    "\n",
    "x1, x2 = 2, 3  \n",
    "y, h, col = 32, 0, 'k'\n",
    "plt.plot([x1, x1, x2, x2], [y, y+h, y+h, y], lw=1.5, c=col)\n",
    "plt.text((x1+x2)*.5, y+h+0.2, \"p = 0.0002\", ha='center', va='bottom', color=col, size = 14)\n",
    "\n",
    "x1, x2 = 4, 5  \n",
    "y, h, col = 32, 0, 'k'\n",
    "plt.plot([x1, x1, x2, x2], [y, y+h, y+h, y], lw=1.5, c=col)\n",
    "plt.text((x1+x2)*.5, y+h+0.2, \"p = 0.182\", ha='center', va='bottom', color=col, size = 14)\n",
    "\n",
    "g.set_xlabel(\"\")\n",
    "g.set_xticklabels([\"CROSS \\nExpected\", \"CROSS\", \"FLOT \\nExpected\", \"FLOT\", \"NT \\nExpected\", \"NT\"], size = 12)\n",
    "\n",
    "g.set_ylabel(r\"Mutational $\\Delta$$\\Delta$G (kcal/mol)\", size = 14)\n",
    "g.set_yticklabels(g.get_yticklabels(), size = 14)\n",
    "\n",
    "#g.set_yscale(\"symlog\")\n",
    "\n",
    "ax.set_ylim(-5, 35)\n",
    "sns.despine()\n",
    "\n",
    "\n",
    "g.set_yticklabels([0,0,5,10,15,20,25,30, 35], size = 14)\n",
    "\n",
    "plt.savefig(\"SPOP_foldxDDG.pdf\")\n",
    "plt.show()"
   ]
  }
 ],
 "metadata": {
  "kernelspec": {
   "display_name": "Python 3 (ipykernel)",
   "language": "python",
   "name": "python3"
  },
  "language_info": {
   "codemirror_mode": {
    "name": "ipython",
    "version": 3
   },
   "file_extension": ".py",
   "mimetype": "text/x-python",
   "name": "python",
   "nbconvert_exporter": "python",
   "pygments_lexer": "ipython3",
   "version": "3.8.13"
  }
 },
 "nbformat": 4,
 "nbformat_minor": 5
}
