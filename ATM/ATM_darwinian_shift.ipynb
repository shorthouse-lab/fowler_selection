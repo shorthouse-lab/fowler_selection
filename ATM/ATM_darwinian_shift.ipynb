{
 "cells": [
  {
   "cell_type": "code",
   "execution_count": 1,
   "id": "6f84d366",
   "metadata": {},
   "outputs": [
    {
     "name": "stderr",
     "output_type": "stream",
     "text": [
      "/Users/davidshorthouse/anaconda3/envs/dsenv/lib/python3.8/site-packages/tqdm/auto.py:22: TqdmWarning: IProgress not found. Please update jupyter and ipywidgets. See https://ipywidgets.readthedocs.io/en/stable/user_install.html\n",
      "  from .autonotebook import tqdm as notebook_tqdm\n",
      "/Users/davidshorthouse/anaconda3/envs/dsenv/lib/python3.8/site-packages/MDAnalysis/coordinates/TRJ.py:1209: DeprecationWarning: Please use `netcdf_file` from the `scipy.io` namespace, the `scipy.io.netcdf` namespace is deprecated.\n",
      "  class NCDFPicklable(scipy.io.netcdf.netcdf_file):\n"
     ]
    }
   ],
   "source": [
    "import darwinian_shift\n",
    "import pandas as pd\n",
    "from darwinian_shift import DarwinianShift\n",
    "import seaborn as sns\n",
    "import matplotlib.pyplot as plt\n",
    "from darwinian_shift import BinomTest\n",
    "from darwinian_shift import MonteCarloTest\n",
    "from darwinian_shift import CDFMonteCarloTest\n",
    "from darwinian_shift import StructureDistanceLookup\n",
    "\n",
    "import numpy as np\n",
    "import matplotlib"
   ]
  },
  {
   "cell_type": "code",
   "execution_count": 2,
   "id": "4454e81d",
   "metadata": {},
   "outputs": [],
   "source": [
    "## We slightly hack darwinian_shift in order to plot nice looking figures\n",
    "\n",
    "def plot_boxplot2(self, spectra=None, plot_scale=None, show_plot=False, colours=None,\n",
    "                     figsize=(5, 5), return_fig=False, ax=None):\n",
    "        \"\"\"\n",
    "        Boxplot of the expected and observed distributions of mutation scores.\n",
    "        :param spectra: The mutational spectrum or list of mutational spectra to use.\n",
    "        :param plot_scale:  Scale for the y-axis (mutation scores). Passed to matplotlib. 'log', 'symlog' etc.\n",
    "        :param show_plot: If True, will call plt.show().\n",
    "        :param colours: List of colours. First colour is for the observed data, the subsequent colours are\n",
    "        for plotting the null distributions from each of the mutational spectra given.\n",
    "        :param figsize: Size of the figure.\n",
    "        :param return_fig: If True, will return the figure. Used for testing.\n",
    "        :param ax: Matplotlib axis to plot on. If None, will create a new figure.\n",
    "        :return: By default, None. If return_fig=True, will return the figure.\n",
    "        \"\"\"\n",
    "#        if ax is None:\n",
    "#            fig, ax = plt.subplots(figsize=figsize)\n",
    "#        else:\n",
    "#            fig = ax.figure\n",
    "\n",
    "        spectra = self._get_spectra(spectra)\n",
    "\n",
    "        colours = self._get_plot_colours(colours, len(spectra)+1)\n",
    "        data = [get_distribution_from_mutational_spectrum(self.null_scores,\n",
    "                                                          self.null_mutations[spectrum.rate_column])\n",
    "                for spectrum in spectra]\n",
    "        data.append(self.observed_values)\n",
    "        \n",
    "        return(data)\n",
    "    \n",
    "    \n",
    "def get_distribution_from_mutational_spectrum(values, mut_rates, num=1000000):\n",
    "    mut_rates = np.array(mut_rates)\n",
    "    weights = mut_rates / mut_rates.sum()\n",
    "    dist = np.repeat(values, np.random.multinomial(num, weights))\n",
    "    return dist"
   ]
  },
  {
   "cell_type": "code",
   "execution_count": 3,
   "id": "b9084985",
   "metadata": {},
   "outputs": [],
   "source": [
    "## Read in our mutational data\n",
    "CROSS_mutation_data = pd.read_csv(\"../CROSS_mutations.csv\")\n",
    "FLOT_mutation_data = pd.read_csv(\"../FLOT_mutations.csv\")\n",
    "NT_mutation_data = pd.read_csv(\"../NT_mutations.csv\")"
   ]
  },
  {
   "cell_type": "code",
   "execution_count": 4,
   "id": "a104bf11",
   "metadata": {},
   "outputs": [],
   "source": [
    "## Define our gene and an appropriate pdb file\n",
    "ATM_gene = {\n",
    "    'gene': 'ATM',\n",
    "    'pdb_id': '7SIC', \n",
    "    'pdb_chain': 'A'\n",
    "}"
   ]
  },
  {
   "cell_type": "code",
   "execution_count": 5,
   "id": "82bf1884",
   "metadata": {},
   "outputs": [],
   "source": [
    "## We generate our mutational signatures - note this may take a while to calculate\n",
    "d_cross = DarwinianShift(\n",
    "    data = pd.read_csv(\"../CROSS_mutations.csv\"),\n",
    "    source_genome = \"GRCh37\",\n",
    "    included_mutation_types = \"missense\")\n",
    "\n",
    "\n",
    "d_flot = DarwinianShift(\n",
    "    data = pd.read_csv(\"../FLOT_mutations.csv\"),\n",
    "    source_genome = \"GRCh37\",\n",
    "    included_mutation_types = \"missense\")\n",
    "\n",
    "\n",
    "\n",
    "d_nt = DarwinianShift(\n",
    "    data = pd.read_csv(\"../NT_mutations.csv\"),\n",
    "    source_genome = \"GRCh37\",\n",
    "    included_mutation_types = \"missense\")\n",
    "\n"
   ]
  },
  {
   "cell_type": "markdown",
   "id": "6f2f8e9f",
   "metadata": {},
   "source": [
    "## Compare to known LoF mutations"
   ]
  },
  {
   "cell_type": "code",
   "execution_count": 6,
   "id": "575c2dcc",
   "metadata": {},
   "outputs": [
    {
     "name": "stdout",
     "output_type": "stream",
     "text": [
      "190\n"
     ]
    }
   ],
   "source": [
    "## Read in and generate known LoF mutation file \n",
    "## Taken from: Yamamoto et al:  https://doi.org/10.7554/eLife.14709\n",
    "known_LoF = pd.read_excel(\"./Known_LoF_mutations/elife-14709-supp1.xlsx\"\n",
    "                          , sheet_name=\"Supplementary Information 1B\")\n",
    "\n",
    "known_LoF.columns = known_LoF.iloc[0]\n",
    "known_LoF_missense = known_LoF[known_LoF[\"Mutation_Type\"] == \"Missense_Mutation\"]\n",
    "\n",
    "known_LoF_missense_mutations = list(set(known_LoF_missense[\"Protein_Change\"].tolist()))\n",
    "\n",
    "print(len(known_LoF_missense_mutations))"
   ]
  },
  {
   "cell_type": "markdown",
   "id": "7bfa4611",
   "metadata": {},
   "source": [
    "### CROSS"
   ]
  },
  {
   "cell_type": "code",
   "execution_count": 7,
   "id": "b5eadc29",
   "metadata": {},
   "outputs": [],
   "source": [
    "from darwinian_shift import VariantMatchLookup\n",
    "\n",
    "vm_lookup = VariantMatchLookup(match_column='aachange', target_key=\"match_list\")\n",
    "\n",
    "v_cross = d_cross.run_section({\n",
    "        'gene': 'ATM',\n",
    "        'lookup': vm_lookup,\n",
    "        'match_list': known_LoF_missense_mutations}\n",
    "        ,statistics=BinomTest()\n",
    "        )"
   ]
  },
  {
   "cell_type": "code",
   "execution_count": 8,
   "id": "3d6ffc33",
   "metadata": {},
   "outputs": [
    {
     "data": {
      "text/plain": [
       "{'gene': 'ATM',\n",
       " 'transcript_id': 'ENST00000452508',\n",
       " 'chrom': '11',\n",
       " 'section_id': 'ENST00000452508',\n",
       " 'num_mutations': 51,\n",
       " 'observed_median': 0.0,\n",
       " 'observed_mean': 0.0392156862745098,\n",
       " 'expected_median_glob_k3': 0.0,\n",
       " 'median_shift_glob_k3': 0.0,\n",
       " 'expected_mean_glob_k3': 0.01890392221000559,\n",
       " 'mean_shift_glob_k3': 0.020311764064504214,\n",
       " 'binom_glob_k3_pvalue': 0.2508990159766516,\n",
       " 'binom_glob_k3_expected_proportion': 0.01890392221000559,\n",
       " 'binom_glob_k3_observed_proportion': 0.0392156862745098,\n",
       " 'binom_glob_k3_expected_count': 0.9641000327102851,\n",
       " 'binom_glob_k3_observed_count': 2,\n",
       " 'binom_glob_k3_threshold': 0.5,\n",
       " 'binom_glob_k3_expected_CI_high': 3.0,\n",
       " 'binom_glob_k3_expected_CI_low': 0.0,\n",
       " 'binom_glob_k3_observed_CI_low': 0.0,\n",
       " 'binom_glob_k3_observed_CI_high': 5.0}"
      ]
     },
     "execution_count": 8,
     "metadata": {},
     "output_type": "execute_result"
    }
   ],
   "source": [
    "v_cross.get_results_dictionary()"
   ]
  },
  {
   "cell_type": "markdown",
   "id": "2c1c616b",
   "metadata": {},
   "source": [
    "### FLOT"
   ]
  },
  {
   "cell_type": "code",
   "execution_count": 9,
   "id": "4b098a9b",
   "metadata": {},
   "outputs": [],
   "source": [
    "vm_lookup = VariantMatchLookup(match_column='aachange', target_key=\"match_list\")\n",
    "\n",
    "v_flot = d_flot.run_section({\n",
    "        'gene': 'ATM',\n",
    "        'lookup': vm_lookup,\n",
    "        'match_list': known_LoF_missense_mutations}\n",
    "        ,statistics=BinomTest()\n",
    "        )"
   ]
  },
  {
   "cell_type": "code",
   "execution_count": 10,
   "id": "c7992c6a",
   "metadata": {},
   "outputs": [
    {
     "data": {
      "text/plain": [
       "{'gene': 'ATM',\n",
       " 'transcript_id': 'ENST00000452508',\n",
       " 'chrom': '11',\n",
       " 'section_id': 'ENST00000452508',\n",
       " 'num_mutations': 36,\n",
       " 'observed_median': 0.0,\n",
       " 'observed_mean': 0.05555555555555555,\n",
       " 'expected_median_glob_k3': 0.0,\n",
       " 'median_shift_glob_k3': 0.0,\n",
       " 'expected_mean_glob_k3': 0.01976679214055844,\n",
       " 'mean_shift_glob_k3': 0.03578876341499711,\n",
       " 'binom_glob_k3_pvalue': 0.15882162726808252,\n",
       " 'binom_glob_k3_expected_proportion': 0.01976679214055844,\n",
       " 'binom_glob_k3_observed_proportion': 0.05555555555555555,\n",
       " 'binom_glob_k3_expected_count': 0.7116045170601039,\n",
       " 'binom_glob_k3_observed_count': 2,\n",
       " 'binom_glob_k3_threshold': 0.5,\n",
       " 'binom_glob_k3_expected_CI_high': 3.0,\n",
       " 'binom_glob_k3_expected_CI_low': 0.0,\n",
       " 'binom_glob_k3_observed_CI_low': 0.0,\n",
       " 'binom_glob_k3_observed_CI_high': 5.0}"
      ]
     },
     "execution_count": 10,
     "metadata": {},
     "output_type": "execute_result"
    }
   ],
   "source": [
    "v_flot.get_results_dictionary()"
   ]
  },
  {
   "cell_type": "markdown",
   "id": "90c07bf3",
   "metadata": {},
   "source": [
    "### NT"
   ]
  },
  {
   "cell_type": "code",
   "execution_count": 11,
   "id": "76d564a3",
   "metadata": {},
   "outputs": [],
   "source": [
    "vm_lookup = VariantMatchLookup(match_column='aachange', target_key=\"match_list\")\n",
    "\n",
    "v_nt = d_nt.run_section({\n",
    "        'gene': 'ATM',\n",
    "        'lookup': vm_lookup,\n",
    "        'match_list': known_LoF_missense_mutations}\n",
    "        ,statistics=BinomTest()\n",
    "        )"
   ]
  },
  {
   "cell_type": "code",
   "execution_count": 12,
   "id": "0815d901",
   "metadata": {},
   "outputs": [
    {
     "data": {
      "text/plain": [
       "{'gene': 'ATM',\n",
       " 'transcript_id': 'ENST00000452508',\n",
       " 'chrom': '11',\n",
       " 'section_id': 'ENST00000452508',\n",
       " 'num_mutations': 33,\n",
       " 'observed_median': 0.0,\n",
       " 'observed_mean': 0.18181818181818182,\n",
       " 'expected_median_glob_k3': 0.0,\n",
       " 'median_shift_glob_k3': 0.0,\n",
       " 'expected_mean_glob_k3': 0.02077075838693494,\n",
       " 'mean_shift_glob_k3': 0.1610474234312469,\n",
       " 'binom_glob_k3_pvalue': 5.4892594875455796e-05,\n",
       " 'binom_glob_k3_expected_proportion': 0.02077075838693494,\n",
       " 'binom_glob_k3_observed_proportion': 0.18181818181818182,\n",
       " 'binom_glob_k3_expected_count': 0.685435026768853,\n",
       " 'binom_glob_k3_observed_count': 6,\n",
       " 'binom_glob_k3_threshold': 0.5,\n",
       " 'binom_glob_k3_expected_CI_high': 3.0,\n",
       " 'binom_glob_k3_expected_CI_low': 0.0,\n",
       " 'binom_glob_k3_observed_CI_low': 2.0,\n",
       " 'binom_glob_k3_observed_CI_high': 11.0}"
      ]
     },
     "execution_count": 12,
     "metadata": {},
     "output_type": "execute_result"
    }
   ],
   "source": [
    "v_nt.get_results_dictionary()"
   ]
  },
  {
   "cell_type": "code",
   "execution_count": 13,
   "id": "a90cba50",
   "metadata": {},
   "outputs": [
    {
     "data": {
      "image/png": "[encoded data removed]",
      "text/plain": [
       "<Figure size 640x480 with 1 Axes>"
      ]
     },
     "metadata": {},
     "output_type": "display_data"
    }
   ],
   "source": [
    "fig, ax = plt.subplots()\n",
    "sample = [0,1,2]\n",
    "binomial_test = [0.146, 4, 0.160, 12, 0.154, 4]\n",
    "\n",
    "ratio = [2/51, 2/55, 6/33]\n",
    "\n",
    "\n",
    "g = sns.barplot(x = sample, y = ratio, palette= [\"k\", \"#E0995E\", \"#668AB8\"], ax = ax)\n",
    "g.set_xticklabels([\"CROSS\", \"FLOT\", \"NT\"], size = 16)\n",
    "g.set_ylim(0,0.2)\n",
    "g.set_yticks([0,0.050,0.1,0.15,0.2])\n",
    "g.set_yticklabels([0,5,10,15,20], size = 16)\n",
    "g.set_ylabel(\"Kinase Dead Mutations (%)\", size = 16)  \n",
    "    \n",
    "sns.despine()\n",
    "\n",
    "ax.annotate(\"p = 0.251\", (0, 2/51+0.01), ha = \"center\", size = 16)\n",
    "ax.annotate(\"p = 0.159\", (1, 2/55+0.01), ha = \"center\", size = 16)\n",
    "ax.annotate(\"p = 5.489e-6\", (2, 6/33+0.01), ha = \"center\", size = 16)\n",
    "\n",
    "plt.savefig(\"ATM_LoF_overlap.pdf\", bbox_inches = \"tight\")"
   ]
  },
  {
   "cell_type": "markdown",
   "id": "481b6998",
   "metadata": {},
   "source": [
    "## Distance to kinase domain"
   ]
  },
  {
   "cell_type": "code",
   "execution_count": 14,
   "id": "21e5d8b8",
   "metadata": {},
   "outputs": [],
   "source": [
    "## Define the kinase domain and the lookup\n",
    "kinasedomain = \"chainID A and resid 2614 to 3026\"\n",
    "\n",
    "kinasedist = StructureDistanceLookup(target_key = \"target_selection\", distance_to_alpha_carbons=True,\n",
    "                                 sifts_directory = \".\", pdb_directory=\".\", download_sifts=True)\n",
    "\n",
    "ATM_dist = {\n",
    "    \"gene\": \"ATM\",\n",
    "    \"pdb_id\": \"7SIC\",\n",
    "    \"pdb_chain\": \"A\",\n",
    "    \"target_selection\":kinasedomain}"
   ]
  },
  {
   "cell_type": "code",
   "execution_count": 15,
   "id": "5f935b39",
   "metadata": {},
   "outputs": [
    {
     "data": {
      "text/plain": [
       "{'gene': 'ATM',\n",
       " 'pdb_id': '7SIC',\n",
       " 'pdb_chain': 'A',\n",
       " 'target_selection': 'chainID A and resid 2614 to 3026'}"
      ]
     },
     "execution_count": 15,
     "metadata": {},
     "output_type": "execute_result"
    }
   ],
   "source": [
    "ATM_dist"
   ]
  },
  {
   "cell_type": "markdown",
   "id": "1339f95c",
   "metadata": {},
   "source": [
    "### CROSS"
   ]
  },
  {
   "cell_type": "code",
   "execution_count": 16,
   "id": "1ec52104",
   "metadata": {},
   "outputs": [
    {
     "name": "stderr",
     "output_type": "stream",
     "text": [
      "/Users/davidshorthouse/anaconda3/envs/dsenv/lib/python3.8/site-packages/MDAnalysis/coordinates/PDB.py:429: UserWarning: 1 A^3 CRYST1 record, this is usually a placeholder. Unit cell dimensions will be set to None.\n",
      "  warnings.warn(\"1 A^3 CRYST1 record,\"\n"
     ]
    }
   ],
   "source": [
    "s_cross = d_cross.run_section(ATM_dist, lookup=kinasedist, statistics = [MonteCarloTest(stat_function=np.mean, name = \"MC_Mean\"),\n",
    "                                                                     MonteCarloTest(stat_function=np.median, name = \"MC_Median\"),\n",
    "                                                                     CDFMonteCarloTest()])"
   ]
  },
  {
   "cell_type": "code",
   "execution_count": 17,
   "id": "6f55d767",
   "metadata": {},
   "outputs": [
    {
     "data": {
      "text/plain": [
       "{'gene': 'ATM',\n",
       " 'transcript_id': 'ENST00000452508',\n",
       " 'chrom': '11',\n",
       " 'section_id': '7SIC:A',\n",
       " 'num_mutations': 50,\n",
       " 'observed_median': 24.72010303376831,\n",
       " 'observed_mean': 35.529719674702314,\n",
       " 'expected_median_glob_k3': 36.032865261228935,\n",
       " 'median_shift_glob_k3': -11.312762227460624,\n",
       " 'expected_mean_glob_k3': 44.09182703137533,\n",
       " 'mean_shift_glob_k3': -8.562107356673017,\n",
       " 'MC_Mean_glob_k3_observed': 35.529719674702314,\n",
       " 'MC_Mean_glob_k3_null_mean': 44.03881308329059,\n",
       " 'MC_Mean_glob_k3_null_median': 44.037159187260166,\n",
       " 'MC_Mean_glob_k3_pvalue': 0.08199180081991801,\n",
       " 'MC_Mean_glob_k3_num_smaller_or_equal': 410,\n",
       " 'MC_Mean_glob_k3_num_larger_or_equal': 9592,\n",
       " 'MC_Median_glob_k3_observed': 24.72010303376831,\n",
       " 'MC_Median_glob_k3_null_mean': 38.37820751446242,\n",
       " 'MC_Median_glob_k3_null_median': 36.2561968259113,\n",
       " 'MC_Median_glob_k3_pvalue': 0.11578842115788421,\n",
       " 'MC_Median_glob_k3_num_smaller_or_equal': 579,\n",
       " 'MC_Median_glob_k3_num_larger_or_equal': 9423,\n",
       " 'CDF_MC_glob_k3_num_smaller_or_equal': 265,\n",
       " 'CDF_MC_glob_k3_num_larger_or_equal': 9737,\n",
       " 'CDF_MC_glob_k3_pvalue': 0.05299470052994701,\n",
       " 'CDF_MC_glob_k3_cdf_mean': 0.4220697211843826}"
      ]
     },
     "execution_count": 17,
     "metadata": {},
     "output_type": "execute_result"
    }
   ],
   "source": [
    "s_cross.get_results_dictionary()"
   ]
  },
  {
   "cell_type": "markdown",
   "id": "a555c5fe",
   "metadata": {},
   "source": [
    "### FLOT"
   ]
  },
  {
   "cell_type": "code",
   "execution_count": 18,
   "id": "f815b87d",
   "metadata": {},
   "outputs": [
    {
     "name": "stderr",
     "output_type": "stream",
     "text": [
      "/Users/davidshorthouse/anaconda3/envs/dsenv/lib/python3.8/site-packages/MDAnalysis/coordinates/PDB.py:429: UserWarning: 1 A^3 CRYST1 record, this is usually a placeholder. Unit cell dimensions will be set to None.\n",
      "  warnings.warn(\"1 A^3 CRYST1 record,\"\n"
     ]
    },
    {
     "data": {
      "text/plain": [
       "{'gene': 'ATM',\n",
       " 'transcript_id': 'ENST00000452508',\n",
       " 'chrom': '11',\n",
       " 'section_id': '7SIC:A',\n",
       " 'num_mutations': 33,\n",
       " 'observed_median': 12.081364267767421,\n",
       " 'observed_mean': 29.894609855155295,\n",
       " 'expected_median_glob_k3': 35.849006809176295,\n",
       " 'median_shift_glob_k3': -23.767642541408875,\n",
       " 'expected_mean_glob_k3': 44.069624098901926,\n",
       " 'mean_shift_glob_k3': -14.17501424374663,\n",
       " 'MC_Mean_glob_k3_observed': 29.894609855155295,\n",
       " 'MC_Mean_glob_k3_null_mean': 44.086503103850546,\n",
       " 'MC_Mean_glob_k3_null_median': 43.91316104732449,\n",
       " 'MC_Mean_glob_k3_pvalue': 0.015998400159984,\n",
       " 'MC_Mean_glob_k3_num_smaller_or_equal': 80,\n",
       " 'MC_Mean_glob_k3_num_larger_or_equal': 9922,\n",
       " 'MC_Median_glob_k3_observed': 12.081364267767421,\n",
       " 'MC_Median_glob_k3_null_mean': 38.83041719995586,\n",
       " 'MC_Median_glob_k3_null_median': 36.007222249304256,\n",
       " 'MC_Median_glob_k3_pvalue': 0.001999800019998,\n",
       " 'MC_Median_glob_k3_num_smaller_or_equal': 10,\n",
       " 'MC_Median_glob_k3_num_larger_or_equal': 9992,\n",
       " 'CDF_MC_glob_k3_num_smaller_or_equal': 58,\n",
       " 'CDF_MC_glob_k3_num_larger_or_equal': 9944,\n",
       " 'CDF_MC_glob_k3_pvalue': 0.0115988401159884,\n",
       " 'CDF_MC_glob_k3_cdf_mean': 0.3737824394446103}"
      ]
     },
     "execution_count": 18,
     "metadata": {},
     "output_type": "execute_result"
    }
   ],
   "source": [
    "s_flot = d_flot.run_section(ATM_dist, lookup=kinasedist, statistics = [MonteCarloTest(stat_function=np.mean, name = \"MC_Mean\"),\n",
    "                                                                     MonteCarloTest(stat_function=np.median, name = \"MC_Median\"),\n",
    "                                                                     CDFMonteCarloTest()])\n",
    "s_flot.get_results_dictionary()"
   ]
  },
  {
   "cell_type": "markdown",
   "id": "97a0cd11",
   "metadata": {},
   "source": [
    "### NT"
   ]
  },
  {
   "cell_type": "code",
   "execution_count": 19,
   "id": "86eac0fe",
   "metadata": {},
   "outputs": [
    {
     "name": "stderr",
     "output_type": "stream",
     "text": [
      "/Users/davidshorthouse/anaconda3/envs/dsenv/lib/python3.8/site-packages/MDAnalysis/coordinates/PDB.py:429: UserWarning: 1 A^3 CRYST1 record, this is usually a placeholder. Unit cell dimensions will be set to None.\n",
      "  warnings.warn(\"1 A^3 CRYST1 record,\"\n"
     ]
    },
    {
     "data": {
      "text/plain": [
       "{'gene': 'ATM',\n",
       " 'transcript_id': 'ENST00000452508',\n",
       " 'chrom': '11',\n",
       " 'section_id': '7SIC:A',\n",
       " 'num_mutations': 31,\n",
       " 'observed_median': 5.721462493253744,\n",
       " 'observed_mean': 21.661866279924315,\n",
       " 'expected_median_glob_k3': 35.97229931398942,\n",
       " 'median_shift_glob_k3': -30.25083682073567,\n",
       " 'expected_mean_glob_k3': 44.077788580970605,\n",
       " 'mean_shift_glob_k3': -22.41592230104629,\n",
       " 'MC_Mean_glob_k3_observed': 21.661866279924315,\n",
       " 'MC_Mean_glob_k3_null_mean': 44.134526712570924,\n",
       " 'MC_Mean_glob_k3_null_median': 43.999056745146376,\n",
       " 'MC_Mean_glob_k3_pvalue': 0.00039996000399960006,\n",
       " 'MC_Mean_glob_k3_num_smaller_or_equal': 2,\n",
       " 'MC_Mean_glob_k3_num_larger_or_equal': 10000,\n",
       " 'MC_Median_glob_k3_observed': 5.721462493253744,\n",
       " 'MC_Median_glob_k3_null_mean': 38.81185748381312,\n",
       " 'MC_Median_glob_k3_null_median': 36.007222249304256,\n",
       " 'MC_Median_glob_k3_pvalue': 0.00019998000199980003,\n",
       " 'MC_Median_glob_k3_num_smaller_or_equal': 1,\n",
       " 'MC_Median_glob_k3_num_larger_or_equal': 10001,\n",
       " 'CDF_MC_glob_k3_num_smaller_or_equal': 1,\n",
       " 'CDF_MC_glob_k3_num_larger_or_equal': 10001,\n",
       " 'CDF_MC_glob_k3_pvalue': 0.00019998000199980003,\n",
       " 'CDF_MC_glob_k3_cdf_mean': 0.29893426577768883}"
      ]
     },
     "execution_count": 19,
     "metadata": {},
     "output_type": "execute_result"
    }
   ],
   "source": [
    "s_nt = d_nt.run_section(ATM_dist, lookup=kinasedist, statistics = [MonteCarloTest(stat_function=np.mean, name = \"MC_Mean\"),\n",
    "                                                                     MonteCarloTest(stat_function=np.median, name = \"MC_Median\"),\n",
    "                                                                     CDFMonteCarloTest()])\n",
    "s_nt.get_results_dictionary()"
   ]
  },
  {
   "cell_type": "markdown",
   "id": "710524f0",
   "metadata": {},
   "source": [
    "### Plotting"
   ]
  },
  {
   "cell_type": "code",
   "execution_count": 20,
   "id": "b6efb999",
   "metadata": {},
   "outputs": [],
   "source": [
    "### Not the best way to do it - but a way of combining all the boxplots from darwinian shift\n",
    "data_cross = plot_boxplot2(s_cross)\n",
    "data_flot = plot_boxplot2(s_flot)\n",
    "data_nt= plot_boxplot2(s_nt)\n",
    "\n",
    "basedistcross = data_cross[0]\n",
    "crossdist = data_cross[1]\n",
    "basedistflot = data_flot[0]\n",
    "flotdist = data_flot[1]\n",
    "basedistnt = data_flot[0]\n",
    "ntdist = data_nt[1]\n",
    "\n",
    "basedistcross = pd.DataFrame(basedistcross)\n",
    "basedistcross[\"label\"] = \"base_cross\"\n",
    "basedistcross.columns = [\"score\", \"label\"]\n",
    "\n",
    "basedistflot = pd.DataFrame(basedistflot)\n",
    "basedistflot[\"label\"] = \"base_flot\"\n",
    "basedistflot.columns = [\"score\", \"label\"]\n",
    "\n",
    "basedistnt = pd.DataFrame(basedistnt)\n",
    "basedistnt[\"label\"] = \"base_nt\"\n",
    "basedistnt.columns = [\"score\", \"label\"]\n",
    "\n",
    "crossdist = pd.DataFrame(crossdist)\n",
    "crossdist[\"label\"] = \"cross\"\n",
    "\n",
    "flotdist = pd.DataFrame(flotdist)\n",
    "flotdist[\"label\"] = \"flot\"\n",
    "\n",
    "ntdist = pd.DataFrame(ntdist)\n",
    "ntdist[\"label\"] = \"nt\"\n",
    "\n",
    "testdist_cross = pd.DataFrame([-15])\n",
    "testdist_cross[\"label\"] = \"base_cross\"\n",
    "testdist_cross.columns = [\"score\", \"label\"]\n",
    "\n",
    "testdist_flot = pd.DataFrame([-15])\n",
    "testdist_flot[\"label\"] = \"base_flot\"\n",
    "testdist_flot.columns = [\"score\", \"label\"]\n",
    "\n",
    "testdist_nt = pd.DataFrame([-15])\n",
    "testdist_nt[\"label\"] = \"base_nt\"\n",
    "testdist_nt.columns = [\"score\", \"label\"]\n",
    "\n",
    "combined = pd.concat([basedistcross, crossdist, basedistflot, flotdist,basedistnt, ntdist], axis =0)\n",
    "combined2 = pd.concat([testdist_cross, crossdist,testdist_flot, flotdist,testdist_nt, ntdist], axis =0)"
   ]
  },
  {
   "cell_type": "code",
   "execution_count": 21,
   "id": "a735f6e3",
   "metadata": {},
   "outputs": [
    {
     "name": "stderr",
     "output_type": "stream",
     "text": [
      "/var/folders/d9/4lyh6rdd5mdbxby_y5lwsy180000gn/T/ipykernel_97081/3161492558.py:39: UserWarning: FixedFormatter should only be used together with FixedLocator\n",
      "  g.set_yticklabels(g.get_yticklabels(), size = 14)\n",
      "/var/folders/d9/4lyh6rdd5mdbxby_y5lwsy180000gn/T/ipykernel_97081/3161492558.py:43: UserWarning: FixedFormatter should only be used together with FixedLocator\n",
      "  g.set_yticklabels([0,20,40,60,80,100,120,140,160], size = 14)\n"
     ]
    },
    {
     "data": {
      "image/png": "[encoded data removed]",
      "text/plain": [
       "<Figure size 640x480 with 1 Axes>"
      ]
     },
     "metadata": {},
     "output_type": "display_data"
    }
   ],
   "source": [
    " fig, ax = plt.subplots()\n",
    "\n",
    "PROPS = {\n",
    "    'boxprops':{'facecolor':'none', 'edgecolor':'black'},\n",
    "    'medianprops':{'color':'black'},\n",
    "    'whiskerprops':{'color':'black'},\n",
    "    'capprops':{'color':'black'}\n",
    "}\n",
    "\n",
    "\n",
    "g = sns.boxplot(data = combined, x = \"label\", y = \"score\"\n",
    "                , palette = [\"k\", \"w\", \"#E0995E\", \"w\", \"#668AB8\", \"w\"], showfliers = False)\n",
    "for patch in ax.patches:\n",
    "    r, g1, b, a = patch.get_facecolor()\n",
    "    patch.set_facecolor((r, g1, b, 0.6))\n",
    "\n",
    "g2 = sns.stripplot(data = combined2, x = \"label\", y = \"score\", palette=[\"w\", \"k\",\"w\", \"#E0995E\",\"w\", \"#668AB8\"], size = 10)\n",
    "\n",
    "x1, x2 = 0, 1  \n",
    "y, h, col = 145, 0, 'k'\n",
    "plt.plot([x1, x1, x2, x2], [y, y+h, y+h, y], lw=1.5, c=col)\n",
    "plt.text((x1+x2)*.5, y+h+0.4, \"p = 0.1155\", ha='center', va='bottom', color=col, size = 14)\n",
    "\n",
    "\n",
    "x1, x2 = 2, 3  \n",
    "y, h, col = 145, 0, 'k'\n",
    "plt.plot([x1, x1, x2, x2], [y, y+h, y+h, y], lw=1.5, c=col)\n",
    "plt.text((x1+x2)*.5, y+h+0.4, \"p = 0.0019\", ha='center', va='bottom', color=col, size = 14)\n",
    "\n",
    "x1, x2 = 4, 5  \n",
    "y, h, col = 145, 0, 'k'\n",
    "plt.plot([x1, x1, x2, x2], [y, y+h, y+h, y], lw=1.5, c=col)\n",
    "plt.text((x1+x2)*.5, y+h+0.4, \"p = 0.0002\", ha='center', va='bottom', color=col, size = 14)\n",
    "\n",
    "g.set_xlabel(\"\")\n",
    "g.set_xticklabels([\"CROSS \\n Expected\", \"CROSS\", \"FLOT \\n Expected\", \"FLOT\", \"NT \\n Expected\", \"NT\"], size = 12)\n",
    "\n",
    "g.set_ylabel(\"Distance to Kinase Domain (Angstroms)\", size = 14)\n",
    "g.set_yticklabels(g.get_yticklabels(), size = 14)\n",
    "ax.set_ylim(0, 160)\n",
    "sns.despine()\n",
    "\n",
    "g.set_yticklabels([0,20,40,60,80,100,120,140,160], size = 14)\n",
    "\n",
    "plt.savefig(\"ATM_distancetokinase.pdf\")\n",
    "plt.show()"
   ]
  },
  {
   "cell_type": "markdown",
   "id": "619d9baf",
   "metadata": {},
   "source": [
    "## Mutational DDG"
   ]
  },
  {
   "cell_type": "code",
   "execution_count": 25,
   "id": "dce920d0",
   "metadata": {},
   "outputs": [],
   "source": [
    "from darwinian_shift import FoldXLookup\n",
    "\n",
    "## Define foldx data locations\n",
    "fold = FoldXLookup(foldx_results_directory = \"../Foldx/\",\n",
    "                  sifts_directory = \".\",\n",
    "                  download_sifts=True)"
   ]
  },
  {
   "cell_type": "markdown",
   "id": "4881fb56",
   "metadata": {},
   "source": [
    "### CROSS"
   ]
  },
  {
   "cell_type": "code",
   "execution_count": 27,
   "id": "a0365a81",
   "metadata": {},
   "outputs": [],
   "source": [
    "s_cross = d_cross.run_section(ATM_gene, lookup=fold, statistics = [MonteCarloTest(stat_function=np.mean, name = \"MC_Mean\"),\n",
    "                                                                     MonteCarloTest(stat_function=np.median, name = \"MC_Median\"),\n",
    "                                                                     CDFMonteCarloTest()])"
   ]
  },
  {
   "cell_type": "code",
   "execution_count": 28,
   "id": "39039434",
   "metadata": {},
   "outputs": [
    {
     "data": {
      "text/plain": [
       "{'gene': 'ATM',\n",
       " 'transcript_id': 'ENST00000452508',\n",
       " 'chrom': '11',\n",
       " 'section_id': '7SIC:A',\n",
       " 'num_mutations': 50,\n",
       " 'observed_median': 1.009173,\n",
       " 'observed_mean': 1.3881555880000003,\n",
       " 'expected_median_glob_k3': 0.917972,\n",
       " 'median_shift_glob_k3': 0.09120100000000009,\n",
       " 'expected_mean_glob_k3': 1.441874171208345,\n",
       " 'mean_shift_glob_k3': -0.05371858320834466,\n",
       " 'MC_Mean_glob_k3_observed': 1.3881555880000003,\n",
       " 'MC_Mean_glob_k3_null_mean': 1.44239756600886,\n",
       " 'MC_Mean_glob_k3_null_median': 1.4185213961,\n",
       " 'MC_Mean_glob_k3_pvalue': 0.9305069493050695,\n",
       " 'MC_Mean_glob_k3_num_smaller_or_equal': 4653,\n",
       " 'MC_Mean_glob_k3_num_larger_or_equal': 5349,\n",
       " 'MC_Median_glob_k3_observed': 1.009173,\n",
       " 'MC_Median_glob_k3_null_mean': 0.929257222095,\n",
       " 'MC_Median_glob_k3_null_median': 0.92606075,\n",
       " 'MC_Median_glob_k3_pvalue': 0.7545245475452454,\n",
       " 'MC_Median_glob_k3_num_smaller_or_equal': 6229,\n",
       " 'MC_Median_glob_k3_num_larger_or_equal': 3773,\n",
       " 'CDF_MC_glob_k3_num_smaller_or_equal': 6826,\n",
       " 'CDF_MC_glob_k3_num_larger_or_equal': 3176,\n",
       " 'CDF_MC_glob_k3_pvalue': 0.6351364863513649,\n",
       " 'CDF_MC_glob_k3_cdf_mean': 0.5182474801908438}"
      ]
     },
     "execution_count": 28,
     "metadata": {},
     "output_type": "execute_result"
    }
   ],
   "source": [
    "s_cross.get_results_dictionary()"
   ]
  },
  {
   "cell_type": "markdown",
   "id": "6bce2934",
   "metadata": {},
   "source": [
    "### FLOT"
   ]
  },
  {
   "cell_type": "code",
   "execution_count": 29,
   "id": "cc0616e4",
   "metadata": {},
   "outputs": [],
   "source": [
    "s_flot = d_flot.run_section(ATM_gene, lookup=fold, statistics = [MonteCarloTest(stat_function=np.mean, name = \"MC_Mean\"),\n",
    "                                                                     MonteCarloTest(stat_function=np.median, name = \"MC_Median\"),\n",
    "                                                                     CDFMonteCarloTest()])"
   ]
  },
  {
   "cell_type": "code",
   "execution_count": 30,
   "id": "e2a3101d",
   "metadata": {},
   "outputs": [
    {
     "data": {
      "text/plain": [
       "{'gene': 'ATM',\n",
       " 'transcript_id': 'ENST00000452508',\n",
       " 'chrom': '11',\n",
       " 'section_id': '7SIC:A',\n",
       " 'num_mutations': 33,\n",
       " 'observed_median': 0.867238,\n",
       " 'observed_mean': 1.4389478757575758,\n",
       " 'expected_median_glob_k3': 0.892398,\n",
       " 'median_shift_glob_k3': -0.02516000000000007,\n",
       " 'expected_mean_glob_k3': 1.447128326491588,\n",
       " 'mean_shift_glob_k3': -0.00818045073401219,\n",
       " 'MC_Mean_glob_k3_observed': 1.4389478757575758,\n",
       " 'MC_Mean_glob_k3_null_mean': 1.4433446350771981,\n",
       " 'MC_Mean_glob_k3_null_median': 1.4055691727272728,\n",
       " 'MC_Mean_glob_k3_pvalue': 0.9335066493350664,\n",
       " 'MC_Mean_glob_k3_num_smaller_or_equal': 5334,\n",
       " 'MC_Mean_glob_k3_num_larger_or_equal': 4668,\n",
       " 'MC_Median_glob_k3_observed': 0.867238,\n",
       " 'MC_Median_glob_k3_null_mean': 0.902314119097,\n",
       " 'MC_Median_glob_k3_null_median': 0.890006,\n",
       " 'MC_Median_glob_k3_pvalue': 0.9505049495050495,\n",
       " 'MC_Median_glob_k3_num_smaller_or_equal': 4753,\n",
       " 'MC_Median_glob_k3_num_larger_or_equal': 5255,\n",
       " 'CDF_MC_glob_k3_num_smaller_or_equal': 4204,\n",
       " 'CDF_MC_glob_k3_num_larger_or_equal': 5798,\n",
       " 'CDF_MC_glob_k3_pvalue': 0.8407159284071593,\n",
       " 'CDF_MC_glob_k3_cdf_mean': 0.48969900736611316}"
      ]
     },
     "execution_count": 30,
     "metadata": {},
     "output_type": "execute_result"
    }
   ],
   "source": [
    "s_flot.get_results_dictionary()"
   ]
  },
  {
   "cell_type": "markdown",
   "id": "48f1483a",
   "metadata": {},
   "source": [
    "### NT"
   ]
  },
  {
   "cell_type": "code",
   "execution_count": 31,
   "id": "d50bea2a",
   "metadata": {},
   "outputs": [],
   "source": [
    "s_nt = d_nt.run_section(ATM_gene, lookup=fold, statistics = [MonteCarloTest(stat_function=np.mean, name = \"MC_Mean\"),\n",
    "                                                                     MonteCarloTest(stat_function=np.median, name = \"MC_Median\"),\n",
    "                                                                     CDFMonteCarloTest()])"
   ]
  },
  {
   "cell_type": "code",
   "execution_count": 32,
   "id": "98961286",
   "metadata": {},
   "outputs": [
    {
     "data": {
      "text/plain": [
       "{'gene': 'ATM',\n",
       " 'transcript_id': 'ENST00000452508',\n",
       " 'chrom': '11',\n",
       " 'section_id': '7SIC:A',\n",
       " 'num_mutations': 31,\n",
       " 'observed_median': 1.01199,\n",
       " 'observed_mean': 1.3142544419354838,\n",
       " 'expected_median_glob_k3': 0.900603,\n",
       " 'median_shift_glob_k3': 0.1113869999999999,\n",
       " 'expected_mean_glob_k3': 1.4481052053143126,\n",
       " 'mean_shift_glob_k3': -0.13385076337882884,\n",
       " 'MC_Mean_glob_k3_observed': 1.3142544419354838,\n",
       " 'MC_Mean_glob_k3_null_mean': 1.4491351067645897,\n",
       " 'MC_Mean_glob_k3_null_median': 1.40259595,\n",
       " 'MC_Mean_glob_k3_pvalue': 0.8251174882511749,\n",
       " 'MC_Mean_glob_k3_num_smaller_or_equal': 4126,\n",
       " 'MC_Mean_glob_k3_num_larger_or_equal': 5876,\n",
       " 'MC_Median_glob_k3_observed': 1.01199,\n",
       " 'MC_Median_glob_k3_null_mean': 0.91932847072,\n",
       " 'MC_Median_glob_k3_null_median': 0.896227,\n",
       " 'MC_Median_glob_k3_pvalue': 0.7543245675432457,\n",
       " 'MC_Median_glob_k3_num_smaller_or_equal': 6234,\n",
       " 'MC_Median_glob_k3_num_larger_or_equal': 3772,\n",
       " 'CDF_MC_glob_k3_num_smaller_or_equal': 7041,\n",
       " 'CDF_MC_glob_k3_num_larger_or_equal': 2961,\n",
       " 'CDF_MC_glob_k3_pvalue': 0.5921407859214078,\n",
       " 'CDF_MC_glob_k3_cdf_mean': 0.5283174523825669}"
      ]
     },
     "execution_count": 32,
     "metadata": {},
     "output_type": "execute_result"
    }
   ],
   "source": [
    "s_nt.get_results_dictionary()"
   ]
  },
  {
   "cell_type": "markdown",
   "id": "fcd4786f",
   "metadata": {},
   "source": [
    "### Plotting"
   ]
  },
  {
   "cell_type": "code",
   "execution_count": 33,
   "id": "1a424f57",
   "metadata": {},
   "outputs": [],
   "source": [
    "## Same as before - we hack darwinian_shift a bit to get the plots in one place\n",
    "\n",
    "data_cross = plot_boxplot2(s)\n",
    "data_flot = plot_boxplot2(s_flot)\n",
    "data_nt= plot_boxplot2(s_nt)\n",
    "\n",
    "basedistcross = data_cross[0]\n",
    "crossdist = data_cross[1]\n",
    "basedistflot = data_flot[0]\n",
    "flotdist = data_flot[1]\n",
    "basedistnt = data_flot[0]\n",
    "ntdist = data_nt[1]\n",
    "\n",
    "basedistcross = pd.DataFrame(basedistcross)\n",
    "basedistcross[\"label\"] = \"base_cross\"\n",
    "basedistcross.columns = [\"score\", \"label\"]\n",
    "\n",
    "basedistflot = pd.DataFrame(basedistflot)\n",
    "basedistflot[\"label\"] = \"base_flot\"\n",
    "basedistflot.columns = [\"score\", \"label\"]\n",
    "\n",
    "basedistnt = pd.DataFrame(basedistnt)\n",
    "basedistnt[\"label\"] = \"base_nt\"\n",
    "basedistnt.columns = [\"score\", \"label\"]\n",
    "\n",
    "crossdist = pd.DataFrame(crossdist)\n",
    "crossdist[\"label\"] = \"cross\"\n",
    "\n",
    "flotdist = pd.DataFrame(flotdist)\n",
    "flotdist[\"label\"] = \"flot\"\n",
    "\n",
    "ntdist = pd.DataFrame(ntdist)\n",
    "ntdist[\"label\"] = \"nt\"\n",
    "\n",
    "testdist_cross = pd.DataFrame([-15])\n",
    "testdist_cross[\"label\"] = \"base_cross\"\n",
    "testdist_cross.columns = [\"score\", \"label\"]\n",
    "\n",
    "testdist_flot = pd.DataFrame([-15])\n",
    "testdist_flot[\"label\"] = \"base_flot\"\n",
    "testdist_flot.columns = [\"score\", \"label\"]\n",
    "\n",
    "testdist_nt = pd.DataFrame([-15])\n",
    "testdist_nt[\"label\"] = \"base_nt\"\n",
    "testdist_nt.columns = [\"score\", \"label\"]\n",
    "\n",
    "combined = pd.concat([basedistcross, crossdist, basedistflot, flotdist,basedistnt, ntdist], axis =0)\n",
    "combined2 = pd.concat([testdist_cross, crossdist,testdist_flot, flotdist,testdist_nt, ntdist], axis =0)"
   ]
  },
  {
   "cell_type": "code",
   "execution_count": 35,
   "id": "24e4ca35",
   "metadata": {},
   "outputs": [
    {
     "name": "stderr",
     "output_type": "stream",
     "text": [
      "/var/folders/d9/4lyh6rdd5mdbxby_y5lwsy180000gn/T/ipykernel_97081/3941154546.py:39: UserWarning: FixedFormatter should only be used together with FixedLocator\n",
      "  g.set_yticklabels(g.get_yticklabels(), size = 14)\n",
      "/var/folders/d9/4lyh6rdd5mdbxby_y5lwsy180000gn/T/ipykernel_97081/3941154546.py:47: UserWarning: FixedFormatter should only be used together with FixedLocator\n",
      "  g.set_yticklabels([0,-4,-2,0,2,4,6,8,10], size = 14)\n"
     ]
    },
    {
     "data": {
      "image/png": "[encoded data removed]",
      "text/plain": [
       "<Figure size 640x480 with 1 Axes>"
      ]
     },
     "metadata": {},
     "output_type": "display_data"
    }
   ],
   "source": [
    " fig, ax = plt.subplots()\n",
    "\n",
    "PROPS = {\n",
    "    'boxprops':{'facecolor':'none', 'edgecolor':'black'},\n",
    "    'medianprops':{'color':'black'},\n",
    "    'whiskerprops':{'color':'black'},\n",
    "    'capprops':{'color':'black'}\n",
    "}\n",
    "\n",
    "\n",
    "g = sns.boxplot(data = combined, x = \"label\", y = \"score\"\n",
    "                , palette = [\"k\", \"w\", \"#E0995E\", \"w\", \"#668AB8\", \"w\"], showfliers = False)\n",
    "for patch in ax.patches:\n",
    "    r, g1, b, a = patch.get_facecolor()\n",
    "    patch.set_facecolor((r, g1, b, 0.6))\n",
    "\n",
    "g2 = sns.stripplot(data = combined2, x = \"label\", y = \"score\", palette=[\"w\", \"k\",\"w\", \"#E0995E\",\"w\", \"#668AB8\"], size = 10)\n",
    "\n",
    "x1, x2 = 0, 1  \n",
    "y, h, col = 9.5, 0, 'k'\n",
    "plt.plot([x1, x1, x2, x2], [y, y+h, y+h, y], lw=1.5, c=col)\n",
    "plt.text((x1+x2)*.5, y+h+0.2, \"p = 0.635\", ha='center', va='bottom', color=col, size = 14)\n",
    "\n",
    "\n",
    "x1, x2 = 2, 3  \n",
    "y, h, col = 9.5, 0, 'k'\n",
    "plt.plot([x1, x1, x2, x2], [y, y+h, y+h, y], lw=1.5, c=col)\n",
    "plt.text((x1+x2)*.5, y+h+0.2, \"p = 0.754\", ha='center', va='bottom', color=col, size = 14)\n",
    "\n",
    "x1, x2 = 4, 5  \n",
    "y, h, col = 9.5, 0, 'k'\n",
    "plt.plot([x1, x1, x2, x2], [y, y+h, y+h, y], lw=1.5, c=col)\n",
    "plt.text((x1+x2)*.5, y+h+0.2, \"p = 0.592\", ha='center', va='bottom', color=col, size = 14)\n",
    "\n",
    "g.set_xlabel(\"\")\n",
    "g.set_xticklabels([\"CROSS \\nExpected\", \"CROSS\", \"FLOT \\nExpected\", \"FLOT\", \"NT \\nExpected\", \"NT\"], size = 12)\n",
    "\n",
    "g.set_ylabel(r\"Mutational $\\Delta$$\\Delta$G (kcal/mol)\", size = 14)\n",
    "g.set_yticklabels(g.get_yticklabels(), size = 14)\n",
    "\n",
    "#g.set_yscale(\"symlog\")\n",
    "\n",
    "ax.set_ylim(-5, 10)\n",
    "sns.despine()\n",
    "\n",
    "\n",
    "g.set_yticklabels([0,-4,-2,0,2,4,6,8,10], size = 14)\n",
    "\n",
    "plt.savefig(\"ATM_foldxDDG.pdf\")\n",
    "plt.show()"
   ]
  }
 ],
 "metadata": {
  "kernelspec": {
   "display_name": "Python 3 (ipykernel)",
   "language": "python",
   "name": "python3"
  },
  "language_info": {
   "codemirror_mode": {
    "name": "ipython",
    "version": 3
   },
   "file_extension": ".py",
   "mimetype": "text/x-python",
   "name": "python",
   "nbconvert_exporter": "python",
   "pygments_lexer": "ipython3",
   "version": "3.8.13"
  }
 },
 "nbformat": 4,
 "nbformat_minor": 5
}
