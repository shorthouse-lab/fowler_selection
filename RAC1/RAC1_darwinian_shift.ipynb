{
 "cells": [
  {
   "cell_type": "code",
   "execution_count": 1,
   "id": "047de2b3",
   "metadata": {},
   "outputs": [
    {
     "name": "stderr",
     "output_type": "stream",
     "text": [
      "/Users/davidshorthouse/anaconda3/envs/dsenv/lib/python3.8/site-packages/tqdm/auto.py:22: TqdmWarning: IProgress not found. Please update jupyter and ipywidgets. See https://ipywidgets.readthedocs.io/en/stable/user_install.html\n",
      "  from .autonotebook import tqdm as notebook_tqdm\n",
      "/Users/davidshorthouse/anaconda3/envs/dsenv/lib/python3.8/site-packages/MDAnalysis/coordinates/TRJ.py:1209: DeprecationWarning: Please use `netcdf_file` from the `scipy.io` namespace, the `scipy.io.netcdf` namespace is deprecated.\n",
      "  class NCDFPicklable(scipy.io.netcdf.netcdf_file):\n"
     ]
    }
   ],
   "source": [
    "import darwinian_shift\n",
    "import pandas as pd\n",
    "from darwinian_shift import DarwinianShift\n",
    "import seaborn as sns\n",
    "import matplotlib.pyplot as plt\n",
    "from darwinian_shift import BinomTest\n",
    "from darwinian_shift import MonteCarloTest\n",
    "from darwinian_shift import CDFMonteCarloTest\n",
    "import numpy as np\n",
    "\n",
    "import matplotlib"
   ]
  },
  {
   "cell_type": "code",
   "execution_count": 2,
   "id": "ec0bc8b4",
   "metadata": {},
   "outputs": [],
   "source": [
    "def plot_boxplot2(self, spectra=None, plot_scale=None, show_plot=False, colours=None,\n",
    "                     figsize=(5, 5), return_fig=False, ax=None):\n",
    "        \"\"\"\n",
    "        Boxplot of the expected and observed distributions of mutation scores.\n",
    "        :param spectra: The mutational spectrum or list of mutational spectra to use.\n",
    "        :param plot_scale:  Scale for the y-axis (mutation scores). Passed to matplotlib. 'log', 'symlog' etc.\n",
    "        :param show_plot: If True, will call plt.show().\n",
    "        :param colours: List of colours. First colour is for the observed data, the subsequent colours are\n",
    "        for plotting the null distributions from each of the mutational spectra given.\n",
    "        :param figsize: Size of the figure.\n",
    "        :param return_fig: If True, will return the figure. Used for testing.\n",
    "        :param ax: Matplotlib axis to plot on. If None, will create a new figure.\n",
    "        :return: By default, None. If return_fig=True, will return the figure.\n",
    "        \"\"\"\n",
    "#        if ax is None:\n",
    "#            fig, ax = plt.subplots(figsize=figsize)\n",
    "#        else:\n",
    "#            fig = ax.figure\n",
    "\n",
    "        spectra = self._get_spectra(spectra)\n",
    "\n",
    "        colours = self._get_plot_colours(colours, len(spectra)+1)\n",
    "        data = [get_distribution_from_mutational_spectrum(self.null_scores,\n",
    "                                                          self.null_mutations[spectrum.rate_column])\n",
    "                for spectrum in spectra]\n",
    "        data.append(self.observed_values)\n",
    "        \n",
    "        return(data)\n",
    "    \n",
    "def get_distribution_from_mutational_spectrum(values, mut_rates, num=1000000):\n",
    "    mut_rates = np.array(mut_rates)\n",
    "    weights = mut_rates / mut_rates.sum()\n",
    "    dist = np.repeat(values, np.random.multinomial(num, weights))\n",
    "    return dist"
   ]
  },
  {
   "cell_type": "code",
   "execution_count": 3,
   "id": "9788805d",
   "metadata": {},
   "outputs": [],
   "source": [
    "CROSS_mutation_data = pd.read_csv(\"../CROSS_mutations.csv\")\n",
    "FLOT_mutation_data = pd.read_csv(\"../FLOT_mutations.csv\")\n",
    "NT_mutation_data = pd.read_csv(\"../NT_mutations.csv\")"
   ]
  },
  {
   "cell_type": "code",
   "execution_count": 4,
   "id": "ab8c14b5",
   "metadata": {},
   "outputs": [],
   "source": [
    "d_cross = DarwinianShift(\n",
    "    data = CROSS_mutation_data,\n",
    "    source_genome = \"GRCh37\",\n",
    "    included_mutation_types = \"missense\")\n",
    "\n",
    "d_flot = DarwinianShift(\n",
    "    data = FLOT_mutation_data,\n",
    "    source_genome = \"GRCh37\",\n",
    "    included_mutation_types = \"missense\")\n",
    "\n",
    "d_nt = DarwinianShift(\n",
    "    data = NT_mutation_data,\n",
    "    source_genome = \"GRCh37\",\n",
    "    included_mutation_types = \"missense\")"
   ]
  },
  {
   "cell_type": "markdown",
   "id": "ac5bab6e",
   "metadata": {},
   "source": [
    "## Binding DDG"
   ]
  },
  {
   "cell_type": "code",
   "execution_count": 5,
   "id": "14621204",
   "metadata": {},
   "outputs": [],
   "source": [
    "from darwinian_shift import FoldXLookup\n",
    "\n",
    "fold = FoldXLookup(foldx_results_directory = \"../Foldx_binding/\",\n",
    "                  sifts_directory = \".\",\n",
    "                  download_sifts=True)"
   ]
  },
  {
   "cell_type": "code",
   "execution_count": 6,
   "id": "bf422389",
   "metadata": {},
   "outputs": [],
   "source": [
    "RAC1 = {\n",
    "    \"gene\": \"RAC1\",\n",
    "    \"pdb_id\": \"3TH5\",\n",
    "    \"pdb_chain\": \"A\",\n",
    "}"
   ]
  },
  {
   "cell_type": "markdown",
   "id": "295c9459",
   "metadata": {},
   "source": [
    "### CROSS"
   ]
  },
  {
   "cell_type": "code",
   "execution_count": 7,
   "id": "fbd5a19c",
   "metadata": {},
   "outputs": [],
   "source": [
    "s_cross = d_cross.run_section(RAC1, lookup=fold, statistics = [MonteCarloTest(stat_function=np.mean, name = \"MC_Mean\"),\n",
    "                                                                     MonteCarloTest(stat_function=np.median, name = \"MC_Median\"),\n",
    "                                                                     CDFMonteCarloTest()])"
   ]
  },
  {
   "cell_type": "code",
   "execution_count": 8,
   "id": "134b1f78",
   "metadata": {},
   "outputs": [
    {
     "data": {
      "text/plain": [
       "{'gene': 'RAC1',\n",
       " 'transcript_id': 'ENST00000356142',\n",
       " 'chrom': '7',\n",
       " 'section_id': '3TH5:A',\n",
       " 'num_mutations': 3,\n",
       " 'observed_median': 0.11686,\n",
       " 'observed_mean': 0.4048366666666667,\n",
       " 'expected_median_glob_k3': -0.0,\n",
       " 'median_shift_glob_k3': 0.11686,\n",
       " 'expected_mean_glob_k3': 0.3382436466085544,\n",
       " 'mean_shift_glob_k3': 0.0665930200581123,\n",
       " 'MC_Mean_glob_k3_observed': 0.4048366666666667,\n",
       " 'MC_Mean_glob_k3_null_mean': 0.3252884704333333,\n",
       " 'MC_Mean_glob_k3_null_median': 0.13975983333333333,\n",
       " 'MC_Mean_glob_k3_pvalue': 0.5691430856914309,\n",
       " 'MC_Mean_glob_k3_num_smaller_or_equal': 7156,\n",
       " 'MC_Mean_glob_k3_num_larger_or_equal': 2846,\n",
       " 'MC_Median_glob_k3_observed': 0.11686,\n",
       " 'MC_Median_glob_k3_null_mean': 0.15557659790000003,\n",
       " 'MC_Median_glob_k3_null_median': 0.0,\n",
       " 'MC_Median_glob_k3_pvalue': 0.5473452654734526,\n",
       " 'MC_Median_glob_k3_num_smaller_or_equal': 7376,\n",
       " 'MC_Median_glob_k3_num_larger_or_equal': 2737,\n",
       " 'CDF_MC_glob_k3_num_smaller_or_equal': 9016,\n",
       " 'CDF_MC_glob_k3_num_larger_or_equal': 986,\n",
       " 'CDF_MC_glob_k3_pvalue': 0.19718028197180282,\n",
       " 'CDF_MC_glob_k3_cdf_mean': 0.715501011968901}"
      ]
     },
     "execution_count": 8,
     "metadata": {},
     "output_type": "execute_result"
    }
   ],
   "source": [
    "s_cross.get_results_dictionary()"
   ]
  },
  {
   "cell_type": "markdown",
   "id": "6705aacc",
   "metadata": {},
   "source": [
    "### FLOT"
   ]
  },
  {
   "cell_type": "code",
   "execution_count": 9,
   "id": "5edc4810",
   "metadata": {},
   "outputs": [],
   "source": [
    "s_flot = d_flot.run_section(RAC1, lookup=fold, statistics = [MonteCarloTest(stat_function=np.mean, name = \"MC_Mean\"),\n",
    "                                                                     MonteCarloTest(stat_function=np.median, name = \"MC_Median\"),\n",
    "                                                                     CDFMonteCarloTest()])"
   ]
  },
  {
   "cell_type": "code",
   "execution_count": 10,
   "id": "568d2d0a",
   "metadata": {},
   "outputs": [
    {
     "data": {
      "text/plain": [
       "{'gene': 'RAC1',\n",
       " 'transcript_id': 'ENST00000356142',\n",
       " 'chrom': '7',\n",
       " 'section_id': '3TH5:A',\n",
       " 'num_mutations': 7,\n",
       " 'observed_median': -0.01179,\n",
       " 'observed_mean': -1.144477142857143,\n",
       " 'expected_median_glob_k3': 0.01587,\n",
       " 'median_shift_glob_k3': -0.027659999999999997,\n",
       " 'expected_mean_glob_k3': 0.3841510986118696,\n",
       " 'mean_shift_glob_k3': -1.5286282414690127,\n",
       " 'MC_Mean_glob_k3_observed': -1.144477142857143,\n",
       " 'MC_Mean_glob_k3_null_mean': 0.38236220211428573,\n",
       " 'MC_Mean_glob_k3_null_median': 0.23450028571428572,\n",
       " 'MC_Mean_glob_k3_pvalue': 0.0021997800219978004,\n",
       " 'MC_Mean_glob_k3_num_smaller_or_equal': 11,\n",
       " 'MC_Mean_glob_k3_num_larger_or_equal': 9991,\n",
       " 'MC_Median_glob_k3_observed': -0.01179,\n",
       " 'MC_Median_glob_k3_null_mean': 0.10630738120000001,\n",
       " 'MC_Median_glob_k3_null_median': 0.01587,\n",
       " 'MC_Median_glob_k3_pvalue': 0.25377462253774624,\n",
       " 'MC_Median_glob_k3_num_smaller_or_equal': 1269,\n",
       " 'MC_Median_glob_k3_num_larger_or_equal': 8635,\n",
       " 'CDF_MC_glob_k3_num_smaller_or_equal': 1088,\n",
       " 'CDF_MC_glob_k3_num_larger_or_equal': 8914,\n",
       " 'CDF_MC_glob_k3_pvalue': 0.21757824217578242,\n",
       " 'CDF_MC_glob_k3_cdf_mean': 0.3637453446778678}"
      ]
     },
     "execution_count": 10,
     "metadata": {},
     "output_type": "execute_result"
    }
   ],
   "source": [
    "s_flot.get_results_dictionary()"
   ]
  },
  {
   "cell_type": "markdown",
   "id": "8ce1de48",
   "metadata": {},
   "source": [
    "### NT"
   ]
  },
  {
   "cell_type": "code",
   "execution_count": 11,
   "id": "436ebc49",
   "metadata": {},
   "outputs": [],
   "source": [
    "s_nt = d_nt.run_section(RAC1, lookup=fold, statistics = [MonteCarloTest(stat_function=np.mean, name = \"MC_Mean\"),\n",
    "                                                                     MonteCarloTest(stat_function=np.median, name = \"MC_Median\"),\n",
    "                                                                     CDFMonteCarloTest()])"
   ]
  },
  {
   "cell_type": "code",
   "execution_count": 12,
   "id": "247be2db",
   "metadata": {},
   "outputs": [
    {
     "data": {
      "text/plain": [
       "{'gene': 'RAC1',\n",
       " 'transcript_id': 'ENST00000356142',\n",
       " 'chrom': '7',\n",
       " 'section_id': '3TH5:A',\n",
       " 'num_mutations': 2,\n",
       " 'observed_median': -0.32849900000000004,\n",
       " 'observed_mean': -0.32849900000000004,\n",
       " 'expected_median_glob_k3': 9e-05,\n",
       " 'median_shift_glob_k3': -0.328589,\n",
       " 'expected_mean_glob_k3': 0.3554664415102783,\n",
       " 'mean_shift_glob_k3': -0.6839654415102783,\n",
       " 'MC_Mean_glob_k3_observed': -0.32849900000000004,\n",
       " 'MC_Mean_glob_k3_null_mean': 0.35000336070000004,\n",
       " 'MC_Mean_glob_k3_null_median': 0.11528250000000001,\n",
       " 'MC_Mean_glob_k3_pvalue': 0.29657034296570345,\n",
       " 'MC_Mean_glob_k3_num_smaller_or_equal': 1483,\n",
       " 'MC_Mean_glob_k3_num_larger_or_equal': 8519,\n",
       " 'MC_Median_glob_k3_observed': -0.32849900000000004,\n",
       " 'MC_Median_glob_k3_null_mean': 0.33481684510000004,\n",
       " 'MC_Median_glob_k3_null_median': 0.0788275,\n",
       " 'MC_Median_glob_k3_pvalue': 0.30956904309569044,\n",
       " 'MC_Median_glob_k3_num_smaller_or_equal': 1548,\n",
       " 'MC_Median_glob_k3_num_larger_or_equal': 8454,\n",
       " 'CDF_MC_glob_k3_num_smaller_or_equal': 2781,\n",
       " 'CDF_MC_glob_k3_num_larger_or_equal': 7221,\n",
       " 'CDF_MC_glob_k3_pvalue': 0.5561443855614439,\n",
       " 'CDF_MC_glob_k3_cdf_mean': 0.36810489267681246}"
      ]
     },
     "execution_count": 12,
     "metadata": {},
     "output_type": "execute_result"
    }
   ],
   "source": [
    "s_nt.get_results_dictionary()"
   ]
  },
  {
   "cell_type": "markdown",
   "id": "cd0cdc21",
   "metadata": {},
   "source": [
    "### Plotting"
   ]
  },
  {
   "cell_type": "code",
   "execution_count": 13,
   "id": "415327eb",
   "metadata": {},
   "outputs": [],
   "source": [
    "data_cross = plot_boxplot2(s_cross)\n",
    "data_flot = plot_boxplot2(s_flot)\n",
    "data_nt= plot_boxplot2(s_nt)\n",
    "\n",
    "basedistcross = data_cross[0]\n",
    "crossdist = data_cross[1]\n",
    "basedistflot = data_flot[0]\n",
    "flotdist = data_flot[1]\n",
    "basedistnt = data_flot[0]\n",
    "ntdist = data_nt[1]\n",
    "\n",
    "basedistcross = pd.DataFrame(basedistcross)\n",
    "basedistcross[\"label\"] = \"base_cross\"\n",
    "basedistcross.columns = [\"score\", \"label\"]\n",
    "\n",
    "basedistflot = pd.DataFrame(basedistflot)\n",
    "basedistflot[\"label\"] = \"base_flot\"\n",
    "basedistflot.columns = [\"score\", \"label\"]\n",
    "\n",
    "basedistnt = pd.DataFrame(basedistnt)\n",
    "basedistnt[\"label\"] = \"base_nt\"\n",
    "basedistnt.columns = [\"score\", \"label\"]\n",
    "\n",
    "crossdist = pd.DataFrame(crossdist)\n",
    "crossdist[\"label\"] = \"cross\"\n",
    "\n",
    "flotdist = pd.DataFrame(flotdist)\n",
    "flotdist[\"label\"] = \"flot\"\n",
    "\n",
    "ntdist = pd.DataFrame(ntdist)\n",
    "ntdist[\"label\"] = \"nt\"\n",
    "\n",
    "testdist_cross = pd.DataFrame([-15])\n",
    "testdist_cross[\"label\"] = \"base_cross\"\n",
    "testdist_cross.columns = [\"score\", \"label\"]\n",
    "\n",
    "testdist_flot = pd.DataFrame([-15])\n",
    "testdist_flot[\"label\"] = \"base_flot\"\n",
    "testdist_flot.columns = [\"score\", \"label\"]\n",
    "\n",
    "testdist_nt = pd.DataFrame([-15])\n",
    "testdist_nt[\"label\"] = \"base_nt\"\n",
    "testdist_nt.columns = [\"score\", \"label\"]\n",
    "\n",
    "combined = pd.concat([basedistcross, crossdist, basedistflot, flotdist,basedistnt, ntdist], axis =0)\n",
    "combined2 = pd.concat([testdist_cross, crossdist,testdist_flot, flotdist,testdist_nt, ntdist], axis =0)"
   ]
  },
  {
   "cell_type": "code",
   "execution_count": 14,
   "id": "310e130a",
   "metadata": {},
   "outputs": [
    {
     "name": "stderr",
     "output_type": "stream",
     "text": [
      "/var/folders/d9/4lyh6rdd5mdbxby_y5lwsy180000gn/T/ipykernel_99069/767672289.py:39: UserWarning: FixedFormatter should only be used together with FixedLocator\n",
      "  g.set_yticklabels(g.get_yticklabels(), size = 14)\n"
     ]
    },
    {
     "data": {
      "image/png": "[encoded data removed]",
      "text/plain": [
       "<Figure size 640x480 with 1 Axes>"
      ]
     },
     "metadata": {},
     "output_type": "display_data"
    }
   ],
   "source": [
    "fig, ax = plt.subplots()\n",
    "\n",
    "PROPS = {\n",
    "    'boxprops':{'facecolor':'none', 'edgecolor':'black'},\n",
    "    'medianprops':{'color':'black'},\n",
    "    'whiskerprops':{'color':'black'},\n",
    "    'capprops':{'color':'black'}\n",
    "}\n",
    "\n",
    "\n",
    "g = sns.boxplot(data = combined, x = \"label\", y = \"score\"\n",
    "                , palette = [\"k\", \"w\", \"#E0995E\", \"w\", \"#668AB8\", \"w\"], showfliers = False)\n",
    "for patch in ax.patches:\n",
    "    r, g1, b, a = patch.get_facecolor()\n",
    "    patch.set_facecolor((r, g1, b, 0.6))\n",
    "\n",
    "g2 = sns.stripplot(data = combined2, x = \"label\", y = \"score\", palette=[\"w\", \"k\",\"w\", \"#E0995E\",\"w\", \"#668AB8\"], size = 10)\n",
    "\n",
    "x1, x2 = 0, 1  \n",
    "y, h, col = 2, 0, 'k'\n",
    "plt.plot([x1, x1, x2, x2], [y, y+h, y+h, y], lw=1.5, c=col)\n",
    "plt.text((x1+x2)*.5, y+h+0.2, \"p = 0.573\", ha='center', va='bottom', color=col, size = 14)\n",
    "\n",
    "\n",
    "x1, x2 = 2, 3  \n",
    "y, h, col = 2, 0, 'k'\n",
    "plt.plot([x1, x1, x2, x2], [y, y+h, y+h, y], lw=1.5, c=col)\n",
    "plt.text((x1+x2)*.5, y+h+0.2, \"p = 0.003\", ha='center', va='bottom', color=col, size = 14)\n",
    "\n",
    "x1, x2 = 4, 5  \n",
    "y, h, col = 2, 0, 'k'\n",
    "plt.plot([x1, x1, x2, x2], [y, y+h, y+h, y], lw=1.5, c=col)\n",
    "plt.text((x1+x2)*.5, y+h+0.2, \"p = 0.307\", ha='center', va='bottom', color=col, size = 14)\n",
    "\n",
    "g.set_xlabel(\"\")\n",
    "g.set_xticklabels([\"CROSS \\nExpected\", \"CROSS\", \"FLOT \\nExpected\", \"FLOT\", \"NT \\nExpected\", \"NT\"], size = 12)\n",
    "\n",
    "g.set_ylabel(\"Change in GTP binding energy (kcal/mol)\", size = 14)\n",
    "g.set_yticklabels(g.get_yticklabels(), size = 14)\n",
    "ax.set_yscale(\"symlog\")\n",
    "ax.set_ylim(-10, 10)\n",
    "sns.despine()\n",
    "\n",
    "plt.savefig(\"RAC1_GTPbindingenergy.pdf\", bbox_inches = \"tight\")"
   ]
  },
  {
   "cell_type": "markdown",
   "id": "af694c37",
   "metadata": {},
   "source": [
    "## Distance to GTP"
   ]
  },
  {
   "cell_type": "code",
   "execution_count": 15,
   "id": "3c255c49",
   "metadata": {},
   "outputs": [],
   "source": [
    "from darwinian_shift import StructureDistanceLookup\n",
    "\n",
    "atpdist = StructureDistanceLookup(target_key = \"target_selection\", distance_to_alpha_carbons=True,\n",
    "                                 sifts_directory = \".\", pdb_directory=\".\")"
   ]
  },
  {
   "cell_type": "code",
   "execution_count": 16,
   "id": "01618e4a",
   "metadata": {},
   "outputs": [],
   "source": [
    "RAC1_dist = {\n",
    "    \"gene\": \"RAC1\",\n",
    "    \"pdb_id\": \"3TH5\",\n",
    "    \"pdb_chain\": \"A\",\n",
    "    \"target_selection\":\"chainID A and resname GNP\"}"
   ]
  },
  {
   "cell_type": "markdown",
   "id": "bf854caa",
   "metadata": {},
   "source": [
    "### CROSS"
   ]
  },
  {
   "cell_type": "code",
   "execution_count": 17,
   "id": "92d5a2b0",
   "metadata": {},
   "outputs": [],
   "source": [
    "s_dist_cross = d_cross.run_section(RAC1_dist, lookup=atpdist, statistics = [MonteCarloTest(stat_function=np.mean, name = \"MC_Mean\"),\n",
    "                                                                     MonteCarloTest(stat_function=np.median, name = \"MC_Median\"),\n",
    "                                                                     CDFMonteCarloTest()])"
   ]
  },
  {
   "cell_type": "code",
   "execution_count": 18,
   "id": "3d392bc9",
   "metadata": {},
   "outputs": [
    {
     "data": {
      "text/plain": [
       "{'MC_Mean_glob_k3_pvalue': 0.10218978102189781,\n",
       " 'MC_Median_glob_k3_pvalue': 0.2927707229277072,\n",
       " 'CDF_MC_glob_k3_pvalue': 0.1321867813218678}"
      ]
     },
     "execution_count": 18,
     "metadata": {},
     "output_type": "execute_result"
    }
   ],
   "source": [
    "s_dist_cross.get_pvalues()"
   ]
  },
  {
   "cell_type": "markdown",
   "id": "4f58317e",
   "metadata": {},
   "source": [
    "### FLOT"
   ]
  },
  {
   "cell_type": "code",
   "execution_count": 19,
   "id": "a5f7d98e",
   "metadata": {},
   "outputs": [],
   "source": [
    "s_dist_flot = d_flot.run_section(RAC1_dist, lookup=atpdist, statistics = [MonteCarloTest(stat_function=np.mean, name = \"MC_Mean\"),\n",
    "                                                                     MonteCarloTest(stat_function=np.median, name = \"MC_Median\"),\n",
    "                                                                     CDFMonteCarloTest()])"
   ]
  },
  {
   "cell_type": "code",
   "execution_count": 20,
   "id": "a3d59b5b",
   "metadata": {},
   "outputs": [
    {
     "data": {
      "text/plain": [
       "{'MC_Mean_glob_k3_pvalue': 0.1331866813318668,\n",
       " 'MC_Median_glob_k3_pvalue': 0.024397560243975602,\n",
       " 'CDF_MC_glob_k3_pvalue': 0.10878912108789121}"
      ]
     },
     "execution_count": 20,
     "metadata": {},
     "output_type": "execute_result"
    }
   ],
   "source": [
    "s_dist_flot.get_pvalues()"
   ]
  },
  {
   "cell_type": "markdown",
   "id": "d2a57f9e",
   "metadata": {},
   "source": [
    "### NT"
   ]
  },
  {
   "cell_type": "code",
   "execution_count": 21,
   "id": "55ee2501",
   "metadata": {},
   "outputs": [],
   "source": [
    "s_dist_nt = d_nt.run_section(RAC1_dist, lookup=atpdist, statistics = [MonteCarloTest(stat_function=np.mean, name = \"MC_Mean\"),\n",
    "                                                                     MonteCarloTest(stat_function=np.median, name = \"MC_Median\"),\n",
    "                                                                     CDFMonteCarloTest()])"
   ]
  },
  {
   "cell_type": "code",
   "execution_count": 22,
   "id": "dbd6701b",
   "metadata": {},
   "outputs": [
    {
     "data": {
      "text/plain": [
       "{'MC_Mean_glob_k3_pvalue': 0.049795020497950204,\n",
       " 'MC_Median_glob_k3_pvalue': 0.23677632236776322,\n",
       " 'CDF_MC_glob_k3_pvalue': 0.07999200079992001}"
      ]
     },
     "execution_count": 22,
     "metadata": {},
     "output_type": "execute_result"
    }
   ],
   "source": [
    "s_dist_nt.get_pvalues()"
   ]
  },
  {
   "cell_type": "markdown",
   "id": "56281a9e",
   "metadata": {},
   "source": [
    "### Plotting"
   ]
  },
  {
   "cell_type": "code",
   "execution_count": 23,
   "id": "107e9532",
   "metadata": {},
   "outputs": [],
   "source": [
    "data_cross = plot_boxplot2(s_dist_cross)\n",
    "data_flot = plot_boxplot2(s_dist_flot)\n",
    "data_nt= plot_boxplot2(s_dist_nt)\n",
    "\n",
    "basedistcross = data_cross[0]\n",
    "crossdist = data_cross[1]\n",
    "basedistflot = data_flot[0]\n",
    "flotdist = data_flot[1]\n",
    "basedistnt = data_flot[0]\n",
    "ntdist = data_nt[1]\n",
    "\n",
    "basedistcross = pd.DataFrame(basedistcross)\n",
    "basedistcross[\"label\"] = \"base_cross\"\n",
    "basedistcross.columns = [\"score\", \"label\"]\n",
    "\n",
    "basedistflot = pd.DataFrame(basedistflot)\n",
    "basedistflot[\"label\"] = \"base_flot\"\n",
    "basedistflot.columns = [\"score\", \"label\"]\n",
    "\n",
    "basedistnt = pd.DataFrame(basedistnt)\n",
    "basedistnt[\"label\"] = \"base_nt\"\n",
    "basedistnt.columns = [\"score\", \"label\"]\n",
    "\n",
    "crossdist = pd.DataFrame(crossdist)\n",
    "crossdist[\"label\"] = \"cross\"\n",
    "\n",
    "flotdist = pd.DataFrame(flotdist)\n",
    "flotdist[\"label\"] = \"flot\"\n",
    "\n",
    "ntdist = pd.DataFrame(ntdist)\n",
    "ntdist[\"label\"] = \"nt\"\n",
    "\n",
    "testdist_cross = pd.DataFrame([-15])\n",
    "testdist_cross[\"label\"] = \"base_cross\"\n",
    "testdist_cross.columns = [\"score\", \"label\"]\n",
    "\n",
    "testdist_flot = pd.DataFrame([-15])\n",
    "testdist_flot[\"label\"] = \"base_flot\"\n",
    "testdist_flot.columns = [\"score\", \"label\"]\n",
    "\n",
    "testdist_nt = pd.DataFrame([-15])\n",
    "testdist_nt[\"label\"] = \"base_nt\"\n",
    "testdist_nt.columns = [\"score\", \"label\"]\n",
    "\n",
    "combined = pd.concat([basedistcross, crossdist, basedistflot, flotdist,basedistnt, ntdist], axis =0)\n",
    "combined2 = pd.concat([testdist_cross, crossdist,testdist_flot, flotdist,testdist_nt, ntdist], axis =0)"
   ]
  },
  {
   "cell_type": "code",
   "execution_count": 24,
   "id": "4044978a",
   "metadata": {},
   "outputs": [
    {
     "name": "stderr",
     "output_type": "stream",
     "text": [
      "/var/folders/d9/4lyh6rdd5mdbxby_y5lwsy180000gn/T/ipykernel_99069/470348554.py:39: UserWarning: FixedFormatter should only be used together with FixedLocator\n",
      "  g.set_yticklabels(g.get_yticklabels(), size = 14)\n",
      "/var/folders/d9/4lyh6rdd5mdbxby_y5lwsy180000gn/T/ipykernel_99069/470348554.py:43: UserWarning: FixedFormatter should only be used together with FixedLocator\n",
      "  g.set_yticklabels([0,5,10,15,20,25,30], size = 14)\n"
     ]
    },
    {
     "data": {
      "image/png": "[encoded data removed]",
      "text/plain": [
       "<Figure size 640x480 with 1 Axes>"
      ]
     },
     "metadata": {},
     "output_type": "display_data"
    }
   ],
   "source": [
    "fig, ax = plt.subplots()\n",
    "\n",
    "PROPS = {\n",
    "    'boxprops':{'facecolor':'none', 'edgecolor':'black'},\n",
    "    'medianprops':{'color':'black'},\n",
    "    'whiskerprops':{'color':'black'},\n",
    "    'capprops':{'color':'black'}\n",
    "}\n",
    "\n",
    "\n",
    "g = sns.boxplot(data = combined, x = \"label\", y = \"score\"\n",
    "                , palette = [\"k\", \"w\", \"#E0995E\", \"w\", \"#668AB8\", \"w\"], showfliers = False)\n",
    "for patch in ax.patches:\n",
    "    r, g1, b, a = patch.get_facecolor()\n",
    "    patch.set_facecolor((r, g1, b, 0.6))\n",
    "\n",
    "g2 = sns.stripplot(data = combined2, x = \"label\", y = \"score\", palette=[\"w\", \"k\",\"w\", \"#E0995E\",\"w\", \"#668AB8\"], size = 10)\n",
    "\n",
    "x1, x2 = 0, 1  \n",
    "y, h, col = 30, 0, 'k'\n",
    "plt.plot([x1, x1, x2, x2], [y, y+h, y+h, y], lw=1.5, c=col)\n",
    "plt.text((x1+x2)*.5, y+h+0.4, \"p = 0.228\", ha='center', va='bottom', color=col, size = 14)\n",
    "\n",
    "\n",
    "x1, x2 = 2, 3  \n",
    "y, h, col = 30, 0, 'k'\n",
    "plt.plot([x1, x1, x2, x2], [y, y+h, y+h, y], lw=1.5, c=col)\n",
    "plt.text((x1+x2)*.5, y+h+0.4, \"p = 0.021\", ha='center', va='bottom', color=col, size = 14)\n",
    "\n",
    "x1, x2 = 4, 5  \n",
    "y, h, col = 30, 0, 'k'\n",
    "plt.plot([x1, x1, x2, x2], [y, y+h, y+h, y], lw=1.5, c=col)\n",
    "plt.text((x1+x2)*.5, y+h+0.4, \"p = 0.241\", ha='center', va='bottom', color=col, size = 14)\n",
    "\n",
    "g.set_xlabel(\"\")\n",
    "g.set_xticklabels([\"CROSS \\n Expected\", \"CROSS\", \"FLOT \\n Expected\", \"FLOT\", \"NT \\n Expected\", \"NT\"], size = 12)\n",
    "\n",
    "g.set_ylabel(\"Distance to GTP (Angstroms)\", size = 14)\n",
    "g.set_yticklabels(g.get_yticklabels(), size = 14)\n",
    "ax.set_ylim(0, 30)\n",
    "sns.despine()\n",
    "\n",
    "g.set_yticklabels([0,5,10,15,20,25,30], size = 14)\n",
    "\n",
    "plt.savefig(\"RAC1_distancetoGTP.pdf\")\n",
    "plt.show()"
   ]
  },
  {
   "cell_type": "markdown",
   "id": "a7e90cd7",
   "metadata": {},
   "source": [
    "## Switch distance"
   ]
  },
  {
   "cell_type": "code",
   "execution_count": 25,
   "id": "d9eed2a9",
   "metadata": {},
   "outputs": [],
   "source": [
    "## Switch 1 residues\n",
    "RAC1_switch1 = {\n",
    "    \"gene\": \"RAC1\",\n",
    "    \"pdb_id\": \"3TH5\",\n",
    "    \"pdb_chain\": \"A\",\n",
    "    \"target_selection\":\"chainID A and resid 32 to 38\"}"
   ]
  },
  {
   "cell_type": "code",
   "execution_count": 26,
   "id": "4156948d",
   "metadata": {},
   "outputs": [],
   "source": [
    "from darwinian_shift import StructureDistanceLookup\n",
    "\n",
    "switchdist = StructureDistanceLookup(target_key = \"target_selection\", distance_to_alpha_carbons=True,\n",
    "                                 sifts_directory = \".\", pdb_directory=\".\")"
   ]
  },
  {
   "cell_type": "code",
   "execution_count": 27,
   "id": "2fa1d8ec",
   "metadata": {},
   "outputs": [],
   "source": [
    "s_dist_cross = d_cross.run_section(RAC1_switch1, lookup=switchdist, statistics = [MonteCarloTest(stat_function=np.mean, name = \"MC_Mean\"),\n",
    "                                                                     MonteCarloTest(stat_function=np.median, name = \"MC_Median\"),\n",
    "                                                                     CDFMonteCarloTest()])\n",
    "\n",
    "s_dist_flot = d_flot.run_section(RAC1_switch1, lookup=switchdist, statistics = [MonteCarloTest(stat_function=np.mean, name = \"MC_Mean\"),\n",
    "                                                                     MonteCarloTest(stat_function=np.median, name = \"MC_Median\"),\n",
    "                                                                     CDFMonteCarloTest()])\n",
    "\n",
    "s_dist_nt = d_nt.run_section(RAC1_switch1, lookup=switchdist, statistics = [MonteCarloTest(stat_function=np.mean, name = \"MC_Mean\"),\n",
    "                                                                     MonteCarloTest(stat_function=np.median, name = \"MC_Median\"),\n",
    "                                                                     CDFMonteCarloTest()])"
   ]
  },
  {
   "cell_type": "code",
   "execution_count": 28,
   "id": "e06d9a62",
   "metadata": {},
   "outputs": [
    {
     "data": {
      "text/plain": [
       "{'MC_Mean_glob_k3_pvalue': 0.3467653234676532,\n",
       " 'MC_Median_glob_k3_pvalue': 0.10278972102789721,\n",
       " 'CDF_MC_glob_k3_pvalue': 0.26017398260173985}"
      ]
     },
     "execution_count": 28,
     "metadata": {},
     "output_type": "execute_result"
    }
   ],
   "source": [
    "s_dist_cross.get_pvalues()"
   ]
  },
  {
   "cell_type": "code",
   "execution_count": 29,
   "id": "3d80fd49",
   "metadata": {},
   "outputs": [
    {
     "data": {
      "text/plain": [
       "{'MC_Mean_glob_k3_pvalue': 0.12358764123587641,\n",
       " 'MC_Median_glob_k3_pvalue': 0.025997400259974,\n",
       " 'CDF_MC_glob_k3_pvalue': 0.097990200979902}"
      ]
     },
     "execution_count": 29,
     "metadata": {},
     "output_type": "execute_result"
    }
   ],
   "source": [
    "s_dist_flot.get_pvalues()"
   ]
  },
  {
   "cell_type": "code",
   "execution_count": 30,
   "id": "21d73b0f",
   "metadata": {},
   "outputs": [
    {
     "data": {
      "text/plain": [
       "{'MC_Mean_glob_k3_pvalue': 0.006799320067993201,\n",
       " 'MC_Median_glob_k3_pvalue': 0.009599040095990401,\n",
       " 'CDF_MC_glob_k3_pvalue': 0.027997200279972004}"
      ]
     },
     "execution_count": 30,
     "metadata": {},
     "output_type": "execute_result"
    }
   ],
   "source": [
    "s_dist_nt.get_pvalues()"
   ]
  },
  {
   "cell_type": "markdown",
   "id": "066e574f",
   "metadata": {},
   "source": [
    "## Plotting"
   ]
  },
  {
   "cell_type": "code",
   "execution_count": 31,
   "id": "df50a2f3",
   "metadata": {},
   "outputs": [],
   "source": [
    "data_cross = plot_boxplot2(s_dist_cross)\n",
    "data_flot = plot_boxplot2(s_dist_flot)\n",
    "data_nt= plot_boxplot2(s_dist_nt)\n",
    "\n",
    "basedistcross = data_cross[0]\n",
    "crossdist = data_cross[1]\n",
    "basedistflot = data_flot[0]\n",
    "flotdist = data_flot[1]\n",
    "basedistnt = data_flot[0]\n",
    "ntdist = data_nt[1]\n",
    "\n",
    "basedistcross = pd.DataFrame(basedistcross)\n",
    "basedistcross[\"label\"] = \"base_cross\"\n",
    "basedistcross.columns = [\"score\", \"label\"]\n",
    "\n",
    "basedistflot = pd.DataFrame(basedistflot)\n",
    "basedistflot[\"label\"] = \"base_flot\"\n",
    "basedistflot.columns = [\"score\", \"label\"]\n",
    "\n",
    "basedistnt = pd.DataFrame(basedistnt)\n",
    "basedistnt[\"label\"] = \"base_nt\"\n",
    "basedistnt.columns = [\"score\", \"label\"]\n",
    "\n",
    "crossdist = pd.DataFrame(crossdist)\n",
    "crossdist[\"label\"] = \"cross\"\n",
    "\n",
    "flotdist = pd.DataFrame(flotdist)\n",
    "flotdist[\"label\"] = \"flot\"\n",
    "\n",
    "ntdist = pd.DataFrame(ntdist)\n",
    "ntdist[\"label\"] = \"nt\"\n",
    "\n",
    "testdist_cross = pd.DataFrame([-15])\n",
    "testdist_cross[\"label\"] = \"base_cross\"\n",
    "testdist_cross.columns = [\"score\", \"label\"]\n",
    "\n",
    "testdist_flot = pd.DataFrame([-15])\n",
    "testdist_flot[\"label\"] = \"base_flot\"\n",
    "testdist_flot.columns = [\"score\", \"label\"]\n",
    "\n",
    "testdist_nt = pd.DataFrame([-15])\n",
    "testdist_nt[\"label\"] = \"base_nt\"\n",
    "testdist_nt.columns = [\"score\", \"label\"]\n",
    "\n",
    "combined = pd.concat([basedistcross, crossdist, basedistflot, flotdist,basedistnt, ntdist], axis =0)\n",
    "combined2 = pd.concat([testdist_cross, crossdist,testdist_flot, flotdist,testdist_nt, ntdist], axis =0)"
   ]
  },
  {
   "cell_type": "code",
   "execution_count": 32,
   "id": "66e38a23",
   "metadata": {},
   "outputs": [
    {
     "name": "stderr",
     "output_type": "stream",
     "text": [
      "/var/folders/d9/4lyh6rdd5mdbxby_y5lwsy180000gn/T/ipykernel_99069/3342205516.py:38: UserWarning: FixedFormatter should only be used together with FixedLocator\n",
      "  g.set_yticklabels([0,5,10,15,20,25,30,35,40], size = 14)\n"
     ]
    },
    {
     "data": {
      "image/png": "[encoded data removed]",
      "text/plain": [
       "<Figure size 640x480 with 1 Axes>"
      ]
     },
     "metadata": {},
     "output_type": "display_data"
    }
   ],
   "source": [
    "fig, ax = plt.subplots()\n",
    "\n",
    "PROPS = {\n",
    "    'boxprops':{'facecolor':'none', 'edgecolor':'black'},\n",
    "    'medianprops':{'color':'black'},\n",
    "    'whiskerprops':{'color':'black'},\n",
    "    'capprops':{'color':'black'}\n",
    "}\n",
    "\n",
    "g = sns.boxplot(data = combined, x = \"label\", y = \"score\"\n",
    "                , palette = [\"k\", \"w\", \"#E0995E\", \"w\", \"#668AB8\", \"w\"], showfliers = False)\n",
    "for patch in ax.patches:\n",
    "    r, g1, b, a = patch.get_facecolor()\n",
    "    patch.set_facecolor((r, g1, b, 0.6))\n",
    "\n",
    "g2 = sns.stripplot(data = combined2, x = \"label\", y = \"score\", palette=[\"w\", \"k\",\"w\", \"#E0995E\", \"w\",\"#668AB8\"], size = 10)\n",
    "\n",
    "x1, x2 = 0, 1  \n",
    "y, h, col = 28, 0, 'k'\n",
    "plt.plot([x1, x1, x2, x2], [y, y+h, y+h, y], lw=1.5, c=col)\n",
    "plt.text((x1+x2)*.5, y+h+0.4, \"p = 0.107\", ha='center', va='bottom', color=col, size = 14)\n",
    "\n",
    "\n",
    "x1, x2 = 2, 3  \n",
    "y, h, col = 28, 0, 'k'\n",
    "plt.plot([x1, x1, x2, x2], [y, y+h, y+h, y], lw=1.5, c=col)\n",
    "plt.text((x1+x2)*.5, y+h+0.4, \"p = 0.024\", ha='center', va='bottom', color=col, size = 14)\n",
    "\n",
    "x1, x2 = 4, 5  \n",
    "y, h, col = 28, 0, 'k'\n",
    "plt.plot([x1, x1, x2, x2], [y, y+h, y+h, y], lw=1.5, c=col)\n",
    "plt.text((x1+x2)*.5, y+h+0.4, \"p = 0.010\", ha='center', va='bottom', color=col, size = 14)\n",
    "\n",
    "g.set_xlabel(\"\")\n",
    "g.set_xticklabels([\"CROSS \\n Expected\", \"CROSS\", \"FLOT \\n Expected\", \"FLOT\", \"NT \\n Expected\", \"NT\"], size = 12)\n",
    "\n",
    "g.set_ylabel(\"Mutation distance to Switch I (Angstroms)\", size = 14)\n",
    "g.set_yticklabels([0,5,10,15,20,25,30,35,40], size = 14)\n",
    "#ax.set_yscale(\"symlog\")\n",
    "ax.set_ylim(0, 30)\n",
    "sns.despine()\n",
    "\n",
    "plt.savefig(\"RAC1_switchI_distance.pdf\", bbox_inches = \"tight\")"
   ]
  },
  {
   "cell_type": "markdown",
   "id": "08f33b58",
   "metadata": {},
   "source": [
    "## Foldx DDG"
   ]
  },
  {
   "cell_type": "code",
   "execution_count": 33,
   "id": "c619c826",
   "metadata": {},
   "outputs": [],
   "source": [
    "from darwinian_shift import FoldXLookup\n",
    "\n",
    "fold = FoldXLookup(foldx_results_directory = \"../Foldx/\",\n",
    "                  sifts_directory = \".\",\n",
    "                  download_sifts=True)\n",
    "\n",
    "RAC1 = {\n",
    "    \"gene\": \"RAC1\",\n",
    "    \"pdb_id\": \"3TH5\",\n",
    "    \"pdb_chain\": \"A\",\n",
    "}"
   ]
  },
  {
   "cell_type": "markdown",
   "id": "e10fd26a",
   "metadata": {},
   "source": [
    "## CROSS"
   ]
  },
  {
   "cell_type": "code",
   "execution_count": 34,
   "id": "d9741e41",
   "metadata": {},
   "outputs": [],
   "source": [
    "s_cross = d_cross.run_section(RAC1, lookup=fold, statistics = [MonteCarloTest(stat_function=np.mean, name = \"MC_Mean\"),\n",
    "                                                                     MonteCarloTest(stat_function=np.median, name = \"MC_Median\"),\n",
    "                                                                     CDFMonteCarloTest()])"
   ]
  },
  {
   "cell_type": "code",
   "execution_count": 35,
   "id": "893c3ee8",
   "metadata": {},
   "outputs": [
    {
     "data": {
      "text/plain": [
       "{'gene': 'RAC1',\n",
       " 'transcript_id': 'ENST00000356142',\n",
       " 'chrom': '7',\n",
       " 'section_id': '3TH5:A',\n",
       " 'num_mutations': 7,\n",
       " 'observed_median': 1.67831,\n",
       " 'observed_mean': 6.102322071428572,\n",
       " 'expected_median_glob_k3': 1.04968,\n",
       " 'median_shift_glob_k3': 0.62863,\n",
       " 'expected_mean_glob_k3': 2.2123782504103024,\n",
       " 'mean_shift_glob_k3': 3.88994382101827,\n",
       " 'MC_Mean_glob_k3_observed': 6.102322071428572,\n",
       " 'MC_Mean_glob_k3_null_mean': 2.198628487483857,\n",
       " 'MC_Mean_glob_k3_null_median': 1.7100810785714287,\n",
       " 'MC_Mean_glob_k3_pvalue': 0.06259374062593741,\n",
       " 'MC_Mean_glob_k3_num_smaller_or_equal': 9689,\n",
       " 'MC_Mean_glob_k3_num_larger_or_equal': 313,\n",
       " 'MC_Median_glob_k3_observed': 1.67831,\n",
       " 'MC_Median_glob_k3_null_mean': 1.1202367028340001,\n",
       " 'MC_Median_glob_k3_null_median': 1.04968,\n",
       " 'MC_Median_glob_k3_pvalue': 0.40735926407359263,\n",
       " 'MC_Median_glob_k3_num_smaller_or_equal': 8006,\n",
       " 'MC_Median_glob_k3_num_larger_or_equal': 2037,\n",
       " 'CDF_MC_glob_k3_num_smaller_or_equal': 9209,\n",
       " 'CDF_MC_glob_k3_num_larger_or_equal': 793,\n",
       " 'CDF_MC_glob_k3_pvalue': 0.15858414158584141,\n",
       " 'CDF_MC_glob_k3_cdf_mean': 0.6582490478200251}"
      ]
     },
     "execution_count": 35,
     "metadata": {},
     "output_type": "execute_result"
    }
   ],
   "source": [
    "s_cross.get_results_dictionary()"
   ]
  },
  {
   "cell_type": "markdown",
   "id": "64b858fa",
   "metadata": {},
   "source": [
    "## FLOT"
   ]
  },
  {
   "cell_type": "code",
   "execution_count": 36,
   "id": "1395fbcf",
   "metadata": {},
   "outputs": [],
   "source": [
    "s_flot = d_flot.run_section(RAC1, lookup=fold, statistics = [MonteCarloTest(stat_function=np.mean, name = \"MC_Mean\"),\n",
    "                                                                     MonteCarloTest(stat_function=np.median, name = \"MC_Median\"),\n",
    "                                                                     CDFMonteCarloTest()])"
   ]
  },
  {
   "cell_type": "code",
   "execution_count": 37,
   "id": "5912ad6d",
   "metadata": {},
   "outputs": [
    {
     "data": {
      "text/plain": [
       "{'gene': 'RAC1',\n",
       " 'transcript_id': 'ENST00000356142',\n",
       " 'chrom': '7',\n",
       " 'section_id': '3TH5:A',\n",
       " 'num_mutations': 8,\n",
       " 'observed_median': 1.1901000000000002,\n",
       " 'observed_mean': 2.3014641625,\n",
       " 'expected_median_glob_k3': 1.0656,\n",
       " 'median_shift_glob_k3': 0.12450000000000006,\n",
       " 'expected_mean_glob_k3': 2.3303461972964907,\n",
       " 'mean_shift_glob_k3': -0.028882034796490874,\n",
       " 'MC_Mean_glob_k3_observed': 2.3014641625,\n",
       " 'MC_Mean_glob_k3_null_mean': 2.330317310257625,\n",
       " 'MC_Mean_glob_k3_null_median': 1.871255125,\n",
       " 'MC_Mean_glob_k3_pvalue': 0.7993200679932007,\n",
       " 'MC_Mean_glob_k3_num_smaller_or_equal': 6005,\n",
       " 'MC_Mean_glob_k3_num_larger_or_equal': 3997,\n",
       " 'MC_Median_glob_k3_observed': 1.1901000000000002,\n",
       " 'MC_Median_glob_k3_null_mean': 1.1448618660379999,\n",
       " 'MC_Median_glob_k3_null_median': 1.04974875,\n",
       " 'MC_Median_glob_k3_pvalue': 0.8459154084591541,\n",
       " 'MC_Median_glob_k3_num_smaller_or_equal': 5772,\n",
       " 'MC_Median_glob_k3_num_larger_or_equal': 4230,\n",
       " 'CDF_MC_glob_k3_num_smaller_or_equal': 7702,\n",
       " 'CDF_MC_glob_k3_num_larger_or_equal': 2300,\n",
       " 'CDF_MC_glob_k3_pvalue': 0.45995400459954006,\n",
       " 'CDF_MC_glob_k3_cdf_mean': 0.5754780952580676}"
      ]
     },
     "execution_count": 37,
     "metadata": {},
     "output_type": "execute_result"
    }
   ],
   "source": [
    "s_flot.get_results_dictionary()"
   ]
  },
  {
   "cell_type": "markdown",
   "id": "04436579",
   "metadata": {},
   "source": [
    "## NT"
   ]
  },
  {
   "cell_type": "code",
   "execution_count": 38,
   "id": "f09f6fc9",
   "metadata": {},
   "outputs": [],
   "source": [
    "s_nt = d_nt.run_section(RAC1, lookup=fold, statistics = [MonteCarloTest(stat_function=np.mean, name = \"MC_Mean\"),\n",
    "                                                                     MonteCarloTest(stat_function=np.median, name = \"MC_Median\"),\n",
    "                                                                     CDFMonteCarloTest()])"
   ]
  },
  {
   "cell_type": "code",
   "execution_count": 39,
   "id": "eef30f06",
   "metadata": {},
   "outputs": [
    {
     "data": {
      "text/plain": [
       "{'gene': 'RAC1',\n",
       " 'transcript_id': 'ENST00000356142',\n",
       " 'chrom': '7',\n",
       " 'section_id': '3TH5:A',\n",
       " 'num_mutations': 6,\n",
       " 'observed_median': 1.3061099999999999,\n",
       " 'observed_mean': 0.899915,\n",
       " 'expected_median_glob_k3': 1.04968,\n",
       " 'median_shift_glob_k3': 0.25642999999999994,\n",
       " 'expected_mean_glob_k3': 2.2792214404184743,\n",
       " 'mean_shift_glob_k3': -1.3793064404184743,\n",
       " 'MC_Mean_glob_k3_observed': 0.899915,\n",
       " 'MC_Mean_glob_k3_null_mean': 2.2848359942235,\n",
       " 'MC_Mean_glob_k3_null_median': 1.7083209166666664,\n",
       " 'MC_Mean_glob_k3_pvalue': 0.45655434456554345,\n",
       " 'MC_Mean_glob_k3_num_smaller_or_equal': 2283,\n",
       " 'MC_Mean_glob_k3_num_larger_or_equal': 7719,\n",
       " 'MC_Median_glob_k3_observed': 1.3061099999999999,\n",
       " 'MC_Median_glob_k3_null_mean': 1.166023897201,\n",
       " 'MC_Median_glob_k3_null_median': 1.0207035,\n",
       " 'MC_Median_glob_k3_pvalue': 0.7107289271072893,\n",
       " 'MC_Median_glob_k3_num_smaller_or_equal': 6449,\n",
       " 'MC_Median_glob_k3_num_larger_or_equal': 3554,\n",
       " 'CDF_MC_glob_k3_num_smaller_or_equal': 5227,\n",
       " 'CDF_MC_glob_k3_num_larger_or_equal': 4775,\n",
       " 'CDF_MC_glob_k3_pvalue': 0.954904509549045,\n",
       " 'CDF_MC_glob_k3_cdf_mean': 0.5076553766003592}"
      ]
     },
     "execution_count": 39,
     "metadata": {},
     "output_type": "execute_result"
    }
   ],
   "source": [
    "s_nt.get_results_dictionary()"
   ]
  },
  {
   "cell_type": "markdown",
   "id": "ff8adf87",
   "metadata": {},
   "source": [
    "## Plotting"
   ]
  },
  {
   "cell_type": "code",
   "execution_count": 40,
   "id": "2225a7cc",
   "metadata": {},
   "outputs": [],
   "source": [
    "data_cross = plot_boxplot2(s_cross)\n",
    "data_flot = plot_boxplot2(s_flot)\n",
    "data_nt= plot_boxplot2(s_nt)\n",
    "\n",
    "basedistcross = data_cross[0]\n",
    "crossdist = data_cross[1]\n",
    "basedistflot = data_flot[0]\n",
    "flotdist = data_flot[1]\n",
    "basedistnt = data_flot[0]\n",
    "ntdist = data_nt[1]\n",
    "\n",
    "basedistcross = pd.DataFrame(basedistcross)\n",
    "basedistcross[\"label\"] = \"base_cross\"\n",
    "basedistcross.columns = [\"score\", \"label\"]\n",
    "\n",
    "basedistflot = pd.DataFrame(basedistflot)\n",
    "basedistflot[\"label\"] = \"base_flot\"\n",
    "basedistflot.columns = [\"score\", \"label\"]\n",
    "\n",
    "basedistnt = pd.DataFrame(basedistnt)\n",
    "basedistnt[\"label\"] = \"base_nt\"\n",
    "basedistnt.columns = [\"score\", \"label\"]\n",
    "\n",
    "crossdist = pd.DataFrame(crossdist)\n",
    "crossdist[\"label\"] = \"cross\"\n",
    "\n",
    "flotdist = pd.DataFrame(flotdist)\n",
    "flotdist[\"label\"] = \"flot\"\n",
    "\n",
    "ntdist = pd.DataFrame(ntdist)\n",
    "ntdist[\"label\"] = \"nt\"\n",
    "\n",
    "testdist_cross = pd.DataFrame([-15])\n",
    "testdist_cross[\"label\"] = \"base_cross\"\n",
    "testdist_cross.columns = [\"score\", \"label\"]\n",
    "\n",
    "testdist_flot = pd.DataFrame([-15])\n",
    "testdist_flot[\"label\"] = \"base_flot\"\n",
    "testdist_flot.columns = [\"score\", \"label\"]\n",
    "\n",
    "testdist_nt = pd.DataFrame([-15])\n",
    "testdist_nt[\"label\"] = \"base_nt\"\n",
    "testdist_nt.columns = [\"score\", \"label\"]\n",
    "\n",
    "combined = pd.concat([basedistcross, crossdist, basedistflot, flotdist,basedistnt, ntdist], axis =0)\n",
    "combined2 = pd.concat([testdist_cross, crossdist,testdist_flot, flotdist,testdist_nt, ntdist], axis =0)"
   ]
  },
  {
   "cell_type": "code",
   "execution_count": 41,
   "id": "7b827318",
   "metadata": {},
   "outputs": [
    {
     "name": "stderr",
     "output_type": "stream",
     "text": [
      "/var/folders/d9/4lyh6rdd5mdbxby_y5lwsy180000gn/T/ipykernel_99069/1384683117.py:39: UserWarning: FixedFormatter should only be used together with FixedLocator\n",
      "  g.set_yticklabels(g.get_yticklabels(), size = 14)\n",
      "/var/folders/d9/4lyh6rdd5mdbxby_y5lwsy180000gn/T/ipykernel_99069/1384683117.py:47: UserWarning: FixedFormatter should only be used together with FixedLocator\n",
      "  g.set_yticklabels([0,-4,-2,0,2,4,6,8,10], size = 14)\n"
     ]
    },
    {
     "data": {
      "image/png": "[encoded data removed]",
      "text/plain": [
       "<Figure size 640x480 with 1 Axes>"
      ]
     },
     "metadata": {},
     "output_type": "display_data"
    }
   ],
   "source": [
    " fig, ax = plt.subplots()\n",
    "\n",
    "PROPS = {\n",
    "    'boxprops':{'facecolor':'none', 'edgecolor':'black'},\n",
    "    'medianprops':{'color':'black'},\n",
    "    'whiskerprops':{'color':'black'},\n",
    "    'capprops':{'color':'black'}\n",
    "}\n",
    "\n",
    "\n",
    "g = sns.boxplot(data = combined, x = \"label\", y = \"score\"\n",
    "                , palette = [\"k\", \"w\", \"#E0995E\", \"w\", \"#668AB8\", \"w\"], showfliers = False)\n",
    "for patch in ax.patches:\n",
    "    r, g1, b, a = patch.get_facecolor()\n",
    "    patch.set_facecolor((r, g1, b, 0.6))\n",
    "\n",
    "g2 = sns.stripplot(data = combined2, x = \"label\", y = \"score\", palette=[\"w\", \"k\",\"w\", \"#E0995E\",\"w\", \"#668AB8\"], size = 10)\n",
    "\n",
    "x1, x2 = 0, 1  \n",
    "y, h, col = 14, 0, 'k'\n",
    "plt.plot([x1, x1, x2, x2], [y, y+h, y+h, y], lw=1.5, c=col)\n",
    "plt.text((x1+x2)*.5, y+h+0.2, \"p = 0.156\", ha='center', va='bottom', color=col, size = 14)\n",
    "\n",
    "\n",
    "x1, x2 = 2, 3  \n",
    "y, h, col = 14, 0, 'k'\n",
    "plt.plot([x1, x1, x2, x2], [y, y+h, y+h, y], lw=1.5, c=col)\n",
    "plt.text((x1+x2)*.5, y+h+0.2, \"p = 0.470\", ha='center', va='bottom', color=col, size = 14)\n",
    "\n",
    "x1, x2 = 4, 5  \n",
    "y, h, col = 14, 0, 'k'\n",
    "plt.plot([x1, x1, x2, x2], [y, y+h, y+h, y], lw=1.5, c=col)\n",
    "plt.text((x1+x2)*.5, y+h+0.2, \"p = 0.958\", ha='center', va='bottom', color=col, size = 14)\n",
    "\n",
    "g.set_xlabel(\"\")\n",
    "g.set_xticklabels([\"CROSS \\nExpected\", \"CROSS\", \"FLOT \\nExpected\", \"FLOT\", \"NT \\nExpected\", \"NT\"], size = 12)\n",
    "\n",
    "g.set_ylabel(r\"Mutational $\\Delta$$\\Delta$G (kcal/mol)\", size = 14)\n",
    "g.set_yticklabels(g.get_yticklabels(), size = 14)\n",
    "\n",
    "#g.set_yscale(\"symlog\")\n",
    "\n",
    "ax.set_ylim(-5, 15)\n",
    "sns.despine()\n",
    "\n",
    "\n",
    "g.set_yticklabels([0,-4,-2,0,2,4,6,8,10], size = 14)\n",
    "\n",
    "plt.savefig(\"RAC1_foldxDDG.pdf\")\n",
    "plt.show()"
   ]
  }
 ],
 "metadata": {
  "kernelspec": {
   "display_name": "Python 3 (ipykernel)",
   "language": "python",
   "name": "python3"
  },
  "language_info": {
   "codemirror_mode": {
    "name": "ipython",
    "version": 3
   },
   "file_extension": ".py",
   "mimetype": "text/x-python",
   "name": "python",
   "nbconvert_exporter": "python",
   "pygments_lexer": "ipython3",
   "version": "3.8.13"
  }
 },
 "nbformat": 4,
 "nbformat_minor": 5
}
